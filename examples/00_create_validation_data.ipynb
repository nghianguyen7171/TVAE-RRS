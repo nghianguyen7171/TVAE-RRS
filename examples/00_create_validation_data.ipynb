{
 "metadata": {
  "language_info": {
   "codemirror_mode": {
    "name": "ipython",
    "version": 3
   },
   "file_extension": ".py",
   "mimetype": "text/x-python",
   "name": "python",
   "nbconvert_exporter": "python",
   "pygments_lexer": "ipython3",
   "version": "3.8.3-final"
  },
  "orig_nbformat": 2,
  "kernelspec": {
   "name": "python3",
   "display_name": "Python 3",
   "language": "python"
  }
 },
 "nbformat": 4,
 "nbformat_minor": 2,
 "cells": [
  {
   "cell_type": "code",
   "execution_count": 1,
   "metadata": {},
   "outputs": [
    {
     "output_type": "error",
     "ename": "ModuleNotFoundError",
     "evalue": "No module named 'DataClass'",
     "traceback": [
      "\u001B[0;31m---------------------------------------------------------------------------\u001B[0m",
      "\u001B[0;31mModuleNotFoundError\u001B[0m                       Traceback (most recent call last)",
      "\u001B[0;32m<ipython-input-1-fc44c8f5df51>\u001B[0m in \u001B[0;36m<module>\u001B[0;34m\u001B[0m\n\u001B[1;32m      8\u001B[0m \u001B[0;34m\u001B[0m\u001B[0m\n\u001B[1;32m      9\u001B[0m \u001B[0;32mfrom\u001B[0m \u001B[0mrrs_kit\u001B[0m\u001B[0;34m.\u001B[0m\u001B[0mDataClass\u001B[0m \u001B[0;32mimport\u001B[0m \u001B[0mDataPath\u001B[0m\u001B[0;34m\u001B[0m\u001B[0;34m\u001B[0m\u001B[0m\n\u001B[0;32m---> 10\u001B[0;31m from rrs_kit.utils import (\n\u001B[0m\u001B[1;32m     11\u001B[0m   \u001B[0mfilter_sign\u001B[0m\u001B[0;34m,\u001B[0m\u001B[0;34m\u001B[0m\u001B[0;34m\u001B[0m\u001B[0m\n\u001B[1;32m     12\u001B[0m   \u001B[0madjust_cbc\u001B[0m\u001B[0;34m,\u001B[0m\u001B[0;34m\u001B[0m\u001B[0;34m\u001B[0m\u001B[0m\n",
      "\u001B[0;32m/data/datasets/rrs-data/rrs_kit/utils.py\u001B[0m in \u001B[0;36m<module>\u001B[0;34m\u001B[0m\n\u001B[1;32m     23\u001B[0m \u001B[0;34m\u001B[0m\u001B[0m\n\u001B[1;32m     24\u001B[0m \u001B[0;31m# from rrs_kit.DataClass import VarSet\u001B[0m\u001B[0;34m\u001B[0m\u001B[0;34m\u001B[0m\u001B[0;34m\u001B[0m\u001B[0m\n\u001B[0;32m---> 25\u001B[0;31m \u001B[0;32mfrom\u001B[0m \u001B[0mDataClass\u001B[0m \u001B[0;32mimport\u001B[0m \u001B[0mVarSet\u001B[0m\u001B[0;34m\u001B[0m\u001B[0;34m\u001B[0m\u001B[0m\n\u001B[0m\u001B[1;32m     26\u001B[0m \u001B[0;32mfrom\u001B[0m \u001B[0mdatetime\u001B[0m \u001B[0;32mimport\u001B[0m \u001B[0mtimedelta\u001B[0m\u001B[0;34m\u001B[0m\u001B[0;34m\u001B[0m\u001B[0m\n\u001B[1;32m     27\u001B[0m \u001B[0;34m\u001B[0m\u001B[0m\n",
      "\u001B[0;31mModuleNotFoundError\u001B[0m: No module named 'DataClass'"
     ]
    }
   ],
   "source": [
    "import sys \n",
    "import os \n",
    "import numpy as np \n",
    "import pandas as pd \n",
    "import pickle \n",
    "\n",
    "sys.path.append('/media/nghia/Nguyen NghiaW/RRS-2021/20210322_RRS/RRS/04_RRS/rrs_kit')\n",
    "\n",
    "from rrs_kit.DataClass import DataPath\n",
    "from rrs_kit.utils import (\n",
    "  filter_sign,\n",
    "  adjust_cbc,\n",
    "  adjust_chem,\n",
    "  get_target_df,\n",
    "  get_merge_data,\n",
    "  make_timestamp,\n",
    "  make_sequence_data,\n",
    "  make_2d_data\n",
    ")\n"
   ]
  },
  {
   "cell_type": "code",
   "execution_count": 2,
   "metadata": {},
   "outputs": [],
   "source": [
    "dp = DataPath()\n",
    "\n",
    "valid_trn_sign = pd.read_csv(\n",
    "    os.path.join(dp.valid_path, 'trn_abn_flowsheet.csv'),\n",
    "    encoding = 'CP949'\n",
    ")\n",
    "\n",
    "valid_trn_sign_weird = pd.read_csv(\n",
    "    os.path.join(dp.valid_path, 'trn_abn_flowsheet_weird.csv'),\n",
    "    encoding = 'CP949'\n",
    ")\n",
    "\n",
    "\n",
    "valid_tst_sign = pd.read_csv(\n",
    "    os.path.join(dp.valid_path, 'tst_abn_flowsheet.csv'),\n",
    "    encoding = 'CP949'\n",
    ")\n",
    "\n",
    "valid_tst_sign_weird = pd.read_csv(\n",
    "    os.path.join(dp.valid_path, 'tst_abn_flowsheet_weird.csv'),\n",
    "    encoding = 'CP949'\n",
    ")\n",
    "\n",
    "valid_event = pd.read_csv(\n",
    "    os.path.join(dp.valid_path, 'valid_event.csv')\n",
    ")\n",
    "\n",
    "valid_trn_nl_sign = pd.read_csv(\n",
    "    os.path.join(dp.valid_path, 'trn_nl_flowsheet.csv')\n",
    ")\n",
    "\n",
    "valid_tst_nl_sign = pd.read_csv(\n",
    "    os.path.join(dp.valid_path, 'tst_nl_flowsheet.csv')\n",
    ")\n",
    "\n",
    "valid_nl_sample = pd.read_csv(\n",
    "    '/data/datasets/rrs-data/10yrs_samples/10yrs_trn_nl_sample.csv'\n",
    ")\n",
    "\n"
   ]
  },
  {
   "cell_type": "code",
   "execution_count": 3,
   "metadata": {},
   "outputs": [
    {
     "output_type": "execute_result",
     "data": {
      "text/plain": [
       "    patient_id gender  birthday       detection_time           event_time\n",
       "0     CSYR0JDA      F  19460930  2015-11-06 21:00:00  2015-11-08 02:00:00\n",
       "1     GLP4GNKW      M  19570907  2016-01-21 06:00:00  2016-01-23 19:00:00\n",
       "2     JIBB4HVE      F  19470910  2015-10-07 10:00:00  2015-10-07 10:00:00\n",
       "3     KKIQQZAT      M  19690617  2015-12-18 17:00:00  2015-12-19 17:00:00\n",
       "4     YOYWOGBG      M  19460510  2014-10-16 08:00:00  2014-10-18 21:00:00\n",
       "..         ...    ...       ...                  ...                  ...\n",
       "116   VIIDRILR      M  19390130  2014-07-16 04:00:00  2014-07-17 07:00:00\n",
       "117   NV7WR2FI      M  19281201  2010-06-27 00:00:00  2010-06-28 22:00:00\n",
       "118   GKM0DAJX      M  19330413  2010-02-21 01:00:00  2010-02-21 12:00:00\n",
       "119   Q6DLCYZB      F  19271210  2010-08-11 20:00:00  2010-08-16 08:00:00\n",
       "120   VPM410UI      F  19400602  2011-12-23 16:00:00  2011-12-23 20:00:00\n",
       "\n",
       "[121 rows x 5 columns]"
      ],
      "text/html": "<div>\n<style scoped>\n    .dataframe tbody tr th:only-of-type {\n        vertical-align: middle;\n    }\n\n    .dataframe tbody tr th {\n        vertical-align: top;\n    }\n\n    .dataframe thead th {\n        text-align: right;\n    }\n</style>\n<table border=\"1\" class=\"dataframe\">\n  <thead>\n    <tr style=\"text-align: right;\">\n      <th></th>\n      <th>patient_id</th>\n      <th>gender</th>\n      <th>birthday</th>\n      <th>detection_time</th>\n      <th>event_time</th>\n    </tr>\n  </thead>\n  <tbody>\n    <tr>\n      <th>0</th>\n      <td>CSYR0JDA</td>\n      <td>F</td>\n      <td>19460930</td>\n      <td>2015-11-06 21:00:00</td>\n      <td>2015-11-08 02:00:00</td>\n    </tr>\n    <tr>\n      <th>1</th>\n      <td>GLP4GNKW</td>\n      <td>M</td>\n      <td>19570907</td>\n      <td>2016-01-21 06:00:00</td>\n      <td>2016-01-23 19:00:00</td>\n    </tr>\n    <tr>\n      <th>2</th>\n      <td>JIBB4HVE</td>\n      <td>F</td>\n      <td>19470910</td>\n      <td>2015-10-07 10:00:00</td>\n      <td>2015-10-07 10:00:00</td>\n    </tr>\n    <tr>\n      <th>3</th>\n      <td>KKIQQZAT</td>\n      <td>M</td>\n      <td>19690617</td>\n      <td>2015-12-18 17:00:00</td>\n      <td>2015-12-19 17:00:00</td>\n    </tr>\n    <tr>\n      <th>4</th>\n      <td>YOYWOGBG</td>\n      <td>M</td>\n      <td>19460510</td>\n      <td>2014-10-16 08:00:00</td>\n      <td>2014-10-18 21:00:00</td>\n    </tr>\n    <tr>\n      <th>...</th>\n      <td>...</td>\n      <td>...</td>\n      <td>...</td>\n      <td>...</td>\n      <td>...</td>\n    </tr>\n    <tr>\n      <th>116</th>\n      <td>VIIDRILR</td>\n      <td>M</td>\n      <td>19390130</td>\n      <td>2014-07-16 04:00:00</td>\n      <td>2014-07-17 07:00:00</td>\n    </tr>\n    <tr>\n      <th>117</th>\n      <td>NV7WR2FI</td>\n      <td>M</td>\n      <td>19281201</td>\n      <td>2010-06-27 00:00:00</td>\n      <td>2010-06-28 22:00:00</td>\n    </tr>\n    <tr>\n      <th>118</th>\n      <td>GKM0DAJX</td>\n      <td>M</td>\n      <td>19330413</td>\n      <td>2010-02-21 01:00:00</td>\n      <td>2010-02-21 12:00:00</td>\n    </tr>\n    <tr>\n      <th>119</th>\n      <td>Q6DLCYZB</td>\n      <td>F</td>\n      <td>19271210</td>\n      <td>2010-08-11 20:00:00</td>\n      <td>2010-08-16 08:00:00</td>\n    </tr>\n    <tr>\n      <th>120</th>\n      <td>VPM410UI</td>\n      <td>F</td>\n      <td>19400602</td>\n      <td>2011-12-23 16:00:00</td>\n      <td>2011-12-23 20:00:00</td>\n    </tr>\n  </tbody>\n</table>\n<p>121 rows × 5 columns</p>\n</div>"
     },
     "metadata": {},
     "execution_count": 3
    }
   ],
   "source": [
    "valid_event"
   ]
  },
  {
   "cell_type": "code",
   "execution_count": 26,
   "metadata": {},
   "outputs": [
    {
     "output_type": "execute_result",
     "data": {
      "text/plain": [
       "                  patient        adjusted_time     HR    RR    SBP  SaO2  \\\n",
       "124373  ZZZZRQ96_20180513  2018-05-14 07:00:00   99.0  24.0  102.0  92.0   \n",
       "124374  ZZZZRQ96_20180513  2018-05-14 08:00:00  108.0  25.0   92.0  91.0   \n",
       "124375  ZZZZRQ96_20180513  2018-05-14 09:00:00   96.0  24.0   96.0  96.0   \n",
       "124376  ZZZZRQ96_20180513  2018-05-14 10:00:00  105.0  30.0   97.0  85.0   \n",
       "124377  ZZZZRQ96_20180513  2018-05-14 11:00:00   92.0  26.0  100.0  92.0   \n",
       "124378  ZZZZRQ96_20180513  2018-05-14 12:00:00   97.0  21.0  111.0  95.0   \n",
       "124379  ZZZZRQ96_20180513  2018-05-14 13:00:00  101.0  26.0  129.0  88.0   \n",
       "124380  ZZZZRQ96_20180513  2018-05-14 14:00:00   99.0  19.0  104.0  91.0   \n",
       "\n",
       "        Temp           event_time     measurement_time  \n",
       "124373  36.4  2018-05-14 14:28:00  2018-05-14 07:00:00  \n",
       "124374  36.3  2018-05-14 14:28:00  2018-05-14 08:00:00  \n",
       "124375  36.2  2018-05-14 14:28:00  2018-05-14 09:00:00  \n",
       "124376  36.2  2018-05-14 14:28:00  2018-05-14 10:00:00  \n",
       "124377  36.2  2018-05-14 14:28:00  2018-05-14 11:00:00  \n",
       "124378  36.3  2018-05-14 14:28:00  2018-05-14 12:00:00  \n",
       "124379  36.2  2018-05-14 14:28:00  2018-05-14 13:00:00  \n",
       "124380  36.3  2018-05-14 14:28:00  2018-05-14 14:00:00  "
      ],
      "text/html": "<div>\n<style scoped>\n    .dataframe tbody tr th:only-of-type {\n        vertical-align: middle;\n    }\n\n    .dataframe tbody tr th {\n        vertical-align: top;\n    }\n\n    .dataframe thead th {\n        text-align: right;\n    }\n</style>\n<table border=\"1\" class=\"dataframe\">\n  <thead>\n    <tr style=\"text-align: right;\">\n      <th></th>\n      <th>patient</th>\n      <th>adjusted_time</th>\n      <th>HR</th>\n      <th>RR</th>\n      <th>SBP</th>\n      <th>SaO2</th>\n      <th>Temp</th>\n      <th>event_time</th>\n      <th>measurement_time</th>\n    </tr>\n  </thead>\n  <tbody>\n    <tr>\n      <th>124373</th>\n      <td>ZZZZRQ96_20180513</td>\n      <td>2018-05-14 07:00:00</td>\n      <td>99.0</td>\n      <td>24.0</td>\n      <td>102.0</td>\n      <td>92.0</td>\n      <td>36.4</td>\n      <td>2018-05-14 14:28:00</td>\n      <td>2018-05-14 07:00:00</td>\n    </tr>\n    <tr>\n      <th>124374</th>\n      <td>ZZZZRQ96_20180513</td>\n      <td>2018-05-14 08:00:00</td>\n      <td>108.0</td>\n      <td>25.0</td>\n      <td>92.0</td>\n      <td>91.0</td>\n      <td>36.3</td>\n      <td>2018-05-14 14:28:00</td>\n      <td>2018-05-14 08:00:00</td>\n    </tr>\n    <tr>\n      <th>124375</th>\n      <td>ZZZZRQ96_20180513</td>\n      <td>2018-05-14 09:00:00</td>\n      <td>96.0</td>\n      <td>24.0</td>\n      <td>96.0</td>\n      <td>96.0</td>\n      <td>36.2</td>\n      <td>2018-05-14 14:28:00</td>\n      <td>2018-05-14 09:00:00</td>\n    </tr>\n    <tr>\n      <th>124376</th>\n      <td>ZZZZRQ96_20180513</td>\n      <td>2018-05-14 10:00:00</td>\n      <td>105.0</td>\n      <td>30.0</td>\n      <td>97.0</td>\n      <td>85.0</td>\n      <td>36.2</td>\n      <td>2018-05-14 14:28:00</td>\n      <td>2018-05-14 10:00:00</td>\n    </tr>\n    <tr>\n      <th>124377</th>\n      <td>ZZZZRQ96_20180513</td>\n      <td>2018-05-14 11:00:00</td>\n      <td>92.0</td>\n      <td>26.0</td>\n      <td>100.0</td>\n      <td>92.0</td>\n      <td>36.2</td>\n      <td>2018-05-14 14:28:00</td>\n      <td>2018-05-14 11:00:00</td>\n    </tr>\n    <tr>\n      <th>124378</th>\n      <td>ZZZZRQ96_20180513</td>\n      <td>2018-05-14 12:00:00</td>\n      <td>97.0</td>\n      <td>21.0</td>\n      <td>111.0</td>\n      <td>95.0</td>\n      <td>36.3</td>\n      <td>2018-05-14 14:28:00</td>\n      <td>2018-05-14 12:00:00</td>\n    </tr>\n    <tr>\n      <th>124379</th>\n      <td>ZZZZRQ96_20180513</td>\n      <td>2018-05-14 13:00:00</td>\n      <td>101.0</td>\n      <td>26.0</td>\n      <td>129.0</td>\n      <td>88.0</td>\n      <td>36.2</td>\n      <td>2018-05-14 14:28:00</td>\n      <td>2018-05-14 13:00:00</td>\n    </tr>\n    <tr>\n      <th>124380</th>\n      <td>ZZZZRQ96_20180513</td>\n      <td>2018-05-14 14:00:00</td>\n      <td>99.0</td>\n      <td>19.0</td>\n      <td>104.0</td>\n      <td>91.0</td>\n      <td>36.3</td>\n      <td>2018-05-14 14:28:00</td>\n      <td>2018-05-14 14:00:00</td>\n    </tr>\n  </tbody>\n</table>\n</div>"
     },
     "metadata": {},
     "execution_count": 26
    }
   ],
   "source": [
    "#valid_trn_sign[valid_trn_sign.patient.apply(lambda x: x[:8]) == 'ZZZZRQ96']\n",
    "\n",
    "# Under construction"
   ]
  },
  {
   "cell_type": "code",
   "execution_count": 3,
   "metadata": {},
   "outputs": [],
   "source": [
    "verbose = True\n",
    "valid_sign = pd.concat([valid_trn_sign, valid_tst_sign])\n",
    "\n",
    "valid_sign['patient_id'] = valid_sign['patient'].apply(lambda x: x[:8])\n",
    "\n",
    "valid_sign = valid_sign[valid_sign['patient_id'].isin(valid_event['patient_id'])]\n",
    "\n",
    "valid_sign = valid_sign.rename(columns={\n",
    "'Temp': 'BT'\n",
    "})  \n",
    "valid_sign = valid_sign.drop(['event_time'], axis = 1)\n",
    "\n",
    "valid_sign['measurement_time'] = pd.to_datetime(valid_sign['measurement_time'])\n",
    "\n",
    "# filter vital sign \n",
    "valid_sign = filter_sign(valid_sign, 'patient_id', time = 'measurement_time')"
   ]
  },
  {
   "cell_type": "code",
   "execution_count": 143,
   "metadata": {},
   "outputs": [],
   "source": [
    "valid_sign_nl = pd.concat([valid_trn_nl_sign, valid_tst_nl_sign])\n",
    "valid_sign_nl['patient_id'] = valid_sign_nl['patient'].apply(lambda x: x[:8])\n",
    "valid_sign_nl = valid_sign_nl[valid_sign_nl['patient_id'].isin(valid_nl_sample['patient_id'])]\n",
    "\n",
    "valid_sign_nl = valid_sign_nl.rename(columns={\n",
    "'Temp': 'BT'\n",
    "})  \n",
    "\n",
    "valid_sign_nl['measurement_time'] = pd.to_datetime(valid_sign_nl['measurement_time'])\n",
    "\n",
    "# filter vital sign \n",
    "valid_sign_nl = filter_sign(valid_sign_nl, 'patient_id', time = 'measurement_time')\n"
   ]
  },
  {
   "cell_type": "code",
   "execution_count": 144,
   "metadata": {},
   "outputs": [
    {
     "output_type": "execute_result",
     "data": {
      "text/plain": [
       "    patient_id gender  birthday data_type    abn   Hgb  Platelet Count  \\\n",
       "0     A1YFM8RK      M  19440428     train  False  11.5           223.0   \n",
       "1     A466E7ZP      F  19590408     train  False  10.2           117.0   \n",
       "2     A7OD133R      F  19340926     train  False   9.6           391.0   \n",
       "3     A98YUML0      F  19531026     train  False   5.7             1.0   \n",
       "4     AOSIKKFQ      M  19460602     train  False  14.8            93.0   \n",
       "..         ...    ...       ...       ...    ...   ...             ...   \n",
       "995   K97YOL9U      M  19551020     train  False  12.5           460.0   \n",
       "996   GT8G124F      F  19590605     train  False  12.1            29.0   \n",
       "997   FTF16KP4      M  19500327     train  False  11.4           227.0   \n",
       "998   FQVO4GWE      F  19450111     train  False   8.2           385.0   \n",
       "999   J18AL0L5      F  19730215     train  False  10.2            57.0   \n",
       "\n",
       "     WBC Count  event_time     measurement_time  ...  Potassium  Sodium  \\\n",
       "0          5.8         NaN  2015-09-10 14:35:00  ...        4.2   139.0   \n",
       "1          5.7         NaN  2012-12-07 15:54:00  ...        3.6   142.0   \n",
       "2         12.1         NaN  2014-08-08 12:02:00  ...        5.1   131.0   \n",
       "3          0.8         NaN  2015-11-27 18:06:00  ...        3.6   139.0   \n",
       "4          5.1         NaN  2010-12-19 17:26:00  ...        4.4   141.0   \n",
       "..         ...         ...                  ...  ...        ...     ...   \n",
       "995        7.0         NaN  2013-09-12 15:37:00  ...        NaN     NaN   \n",
       "996        3.4         NaN  2012-10-01 23:53:00  ...        NaN     NaN   \n",
       "997        4.2         NaN  2011-02-24 16:07:00  ...        NaN     NaN   \n",
       "998        5.8         NaN  2012-06-26 17:18:00  ...        NaN     NaN   \n",
       "999       11.2         NaN  2011-01-21 10:11:00  ...        NaN     NaN   \n",
       "\n",
       "     Total Bilirubin  Total Calcium  Total Protein    HR    RR    SBP   SaO2  \\\n",
       "0               0.60            6.4            3.9  72.0  18.0  134.5   99.0   \n",
       "1               0.57           10.8            7.1  99.0  23.0   90.0  100.0   \n",
       "2               0.40            7.7            6.2  90.0  25.0  187.0  100.0   \n",
       "3               0.60            8.6            5.2  98.0  14.0  103.5   98.0   \n",
       "4               0.70            8.8            6.3  92.0  20.0  110.0  100.0   \n",
       "..               ...            ...            ...   ...   ...    ...    ...   \n",
       "995              NaN            NaN            NaN   NaN   NaN    NaN    NaN   \n",
       "996              NaN            NaN            NaN   NaN   NaN    NaN    NaN   \n",
       "997              NaN            NaN            NaN   NaN   NaN    NaN    NaN   \n",
       "998              NaN            NaN            NaN   NaN   NaN    NaN    NaN   \n",
       "999              NaN            NaN            NaN   NaN   NaN    NaN    NaN   \n",
       "\n",
       "     Temp  \n",
       "0    36.6  \n",
       "1    36.4  \n",
       "2    36.0  \n",
       "3    36.6  \n",
       "4    36.4  \n",
       "..    ...  \n",
       "995   NaN  \n",
       "996   NaN  \n",
       "997   NaN  \n",
       "998   NaN  \n",
       "999   NaN  \n",
       "\n",
       "[1000 rows x 30 columns]"
      ],
      "text/html": "<div>\n<style scoped>\n    .dataframe tbody tr th:only-of-type {\n        vertical-align: middle;\n    }\n\n    .dataframe tbody tr th {\n        vertical-align: top;\n    }\n\n    .dataframe thead th {\n        text-align: right;\n    }\n</style>\n<table border=\"1\" class=\"dataframe\">\n  <thead>\n    <tr style=\"text-align: right;\">\n      <th></th>\n      <th>patient_id</th>\n      <th>gender</th>\n      <th>birthday</th>\n      <th>data_type</th>\n      <th>abn</th>\n      <th>Hgb</th>\n      <th>Platelet Count</th>\n      <th>WBC Count</th>\n      <th>event_time</th>\n      <th>measurement_time</th>\n      <th>...</th>\n      <th>Potassium</th>\n      <th>Sodium</th>\n      <th>Total Bilirubin</th>\n      <th>Total Calcium</th>\n      <th>Total Protein</th>\n      <th>HR</th>\n      <th>RR</th>\n      <th>SBP</th>\n      <th>SaO2</th>\n      <th>Temp</th>\n    </tr>\n  </thead>\n  <tbody>\n    <tr>\n      <th>0</th>\n      <td>A1YFM8RK</td>\n      <td>M</td>\n      <td>19440428</td>\n      <td>train</td>\n      <td>False</td>\n      <td>11.5</td>\n      <td>223.0</td>\n      <td>5.8</td>\n      <td>NaN</td>\n      <td>2015-09-10 14:35:00</td>\n      <td>...</td>\n      <td>4.2</td>\n      <td>139.0</td>\n      <td>0.60</td>\n      <td>6.4</td>\n      <td>3.9</td>\n      <td>72.0</td>\n      <td>18.0</td>\n      <td>134.5</td>\n      <td>99.0</td>\n      <td>36.6</td>\n    </tr>\n    <tr>\n      <th>1</th>\n      <td>A466E7ZP</td>\n      <td>F</td>\n      <td>19590408</td>\n      <td>train</td>\n      <td>False</td>\n      <td>10.2</td>\n      <td>117.0</td>\n      <td>5.7</td>\n      <td>NaN</td>\n      <td>2012-12-07 15:54:00</td>\n      <td>...</td>\n      <td>3.6</td>\n      <td>142.0</td>\n      <td>0.57</td>\n      <td>10.8</td>\n      <td>7.1</td>\n      <td>99.0</td>\n      <td>23.0</td>\n      <td>90.0</td>\n      <td>100.0</td>\n      <td>36.4</td>\n    </tr>\n    <tr>\n      <th>2</th>\n      <td>A7OD133R</td>\n      <td>F</td>\n      <td>19340926</td>\n      <td>train</td>\n      <td>False</td>\n      <td>9.6</td>\n      <td>391.0</td>\n      <td>12.1</td>\n      <td>NaN</td>\n      <td>2014-08-08 12:02:00</td>\n      <td>...</td>\n      <td>5.1</td>\n      <td>131.0</td>\n      <td>0.40</td>\n      <td>7.7</td>\n      <td>6.2</td>\n      <td>90.0</td>\n      <td>25.0</td>\n      <td>187.0</td>\n      <td>100.0</td>\n      <td>36.0</td>\n    </tr>\n    <tr>\n      <th>3</th>\n      <td>A98YUML0</td>\n      <td>F</td>\n      <td>19531026</td>\n      <td>train</td>\n      <td>False</td>\n      <td>5.7</td>\n      <td>1.0</td>\n      <td>0.8</td>\n      <td>NaN</td>\n      <td>2015-11-27 18:06:00</td>\n      <td>...</td>\n      <td>3.6</td>\n      <td>139.0</td>\n      <td>0.60</td>\n      <td>8.6</td>\n      <td>5.2</td>\n      <td>98.0</td>\n      <td>14.0</td>\n      <td>103.5</td>\n      <td>98.0</td>\n      <td>36.6</td>\n    </tr>\n    <tr>\n      <th>4</th>\n      <td>AOSIKKFQ</td>\n      <td>M</td>\n      <td>19460602</td>\n      <td>train</td>\n      <td>False</td>\n      <td>14.8</td>\n      <td>93.0</td>\n      <td>5.1</td>\n      <td>NaN</td>\n      <td>2010-12-19 17:26:00</td>\n      <td>...</td>\n      <td>4.4</td>\n      <td>141.0</td>\n      <td>0.70</td>\n      <td>8.8</td>\n      <td>6.3</td>\n      <td>92.0</td>\n      <td>20.0</td>\n      <td>110.0</td>\n      <td>100.0</td>\n      <td>36.4</td>\n    </tr>\n    <tr>\n      <th>...</th>\n      <td>...</td>\n      <td>...</td>\n      <td>...</td>\n      <td>...</td>\n      <td>...</td>\n      <td>...</td>\n      <td>...</td>\n      <td>...</td>\n      <td>...</td>\n      <td>...</td>\n      <td>...</td>\n      <td>...</td>\n      <td>...</td>\n      <td>...</td>\n      <td>...</td>\n      <td>...</td>\n      <td>...</td>\n      <td>...</td>\n      <td>...</td>\n      <td>...</td>\n      <td>...</td>\n    </tr>\n    <tr>\n      <th>995</th>\n      <td>K97YOL9U</td>\n      <td>M</td>\n      <td>19551020</td>\n      <td>train</td>\n      <td>False</td>\n      <td>12.5</td>\n      <td>460.0</td>\n      <td>7.0</td>\n      <td>NaN</td>\n      <td>2013-09-12 15:37:00</td>\n      <td>...</td>\n      <td>NaN</td>\n      <td>NaN</td>\n      <td>NaN</td>\n      <td>NaN</td>\n      <td>NaN</td>\n      <td>NaN</td>\n      <td>NaN</td>\n      <td>NaN</td>\n      <td>NaN</td>\n      <td>NaN</td>\n    </tr>\n    <tr>\n      <th>996</th>\n      <td>GT8G124F</td>\n      <td>F</td>\n      <td>19590605</td>\n      <td>train</td>\n      <td>False</td>\n      <td>12.1</td>\n      <td>29.0</td>\n      <td>3.4</td>\n      <td>NaN</td>\n      <td>2012-10-01 23:53:00</td>\n      <td>...</td>\n      <td>NaN</td>\n      <td>NaN</td>\n      <td>NaN</td>\n      <td>NaN</td>\n      <td>NaN</td>\n      <td>NaN</td>\n      <td>NaN</td>\n      <td>NaN</td>\n      <td>NaN</td>\n      <td>NaN</td>\n    </tr>\n    <tr>\n      <th>997</th>\n      <td>FTF16KP4</td>\n      <td>M</td>\n      <td>19500327</td>\n      <td>train</td>\n      <td>False</td>\n      <td>11.4</td>\n      <td>227.0</td>\n      <td>4.2</td>\n      <td>NaN</td>\n      <td>2011-02-24 16:07:00</td>\n      <td>...</td>\n      <td>NaN</td>\n      <td>NaN</td>\n      <td>NaN</td>\n      <td>NaN</td>\n      <td>NaN</td>\n      <td>NaN</td>\n      <td>NaN</td>\n      <td>NaN</td>\n      <td>NaN</td>\n      <td>NaN</td>\n    </tr>\n    <tr>\n      <th>998</th>\n      <td>FQVO4GWE</td>\n      <td>F</td>\n      <td>19450111</td>\n      <td>train</td>\n      <td>False</td>\n      <td>8.2</td>\n      <td>385.0</td>\n      <td>5.8</td>\n      <td>NaN</td>\n      <td>2012-06-26 17:18:00</td>\n      <td>...</td>\n      <td>NaN</td>\n      <td>NaN</td>\n      <td>NaN</td>\n      <td>NaN</td>\n      <td>NaN</td>\n      <td>NaN</td>\n      <td>NaN</td>\n      <td>NaN</td>\n      <td>NaN</td>\n      <td>NaN</td>\n    </tr>\n    <tr>\n      <th>999</th>\n      <td>J18AL0L5</td>\n      <td>F</td>\n      <td>19730215</td>\n      <td>train</td>\n      <td>False</td>\n      <td>10.2</td>\n      <td>57.0</td>\n      <td>11.2</td>\n      <td>NaN</td>\n      <td>2011-01-21 10:11:00</td>\n      <td>...</td>\n      <td>NaN</td>\n      <td>NaN</td>\n      <td>NaN</td>\n      <td>NaN</td>\n      <td>NaN</td>\n      <td>NaN</td>\n      <td>NaN</td>\n      <td>NaN</td>\n      <td>NaN</td>\n      <td>NaN</td>\n    </tr>\n  </tbody>\n</table>\n<p>1000 rows × 30 columns</p>\n</div>"
     },
     "metadata": {},
     "execution_count": 144
    }
   ],
   "source": [
    "valid_nl_sample"
   ]
  },
  {
   "cell_type": "code",
   "execution_count": 145,
   "metadata": {},
   "outputs": [
    {
     "output_type": "execute_result",
     "data": {
      "text/plain": [
       "       patient_id    measurement_time            patient       adjusted_time  \\\n",
       "0        ABG1W8Y6 2009-09-28 12:00:00  ABG1W8Y6_20090826 2009-09-28 12:00:00   \n",
       "1        ABG1W8Y6 2009-09-28 13:00:00  ABG1W8Y6_20090826 2009-09-28 13:00:00   \n",
       "2        ABG1W8Y6 2009-09-28 14:00:00  ABG1W8Y6_20090826 2009-09-28 14:00:00   \n",
       "3        ABG1W8Y6 2009-09-28 15:00:00  ABG1W8Y6_20090826 2009-09-28 15:00:00   \n",
       "4        ABG1W8Y6 2009-09-28 16:00:00  ABG1W8Y6_20090826 2009-09-28 16:00:00   \n",
       "...           ...                 ...                ...                 ...   \n",
       "199095   ZPWAIZ82 2010-11-27 17:00:00  ZPWAIZ82_20101122 2010-11-27 17:00:00   \n",
       "199096   ZPWAIZ82 2010-11-27 18:00:00  ZPWAIZ82_20101122 2010-11-27 18:00:00   \n",
       "199097   ZPWAIZ82 2010-11-27 19:00:00  ZPWAIZ82_20101122 2010-11-27 19:00:00   \n",
       "199098   ZPWAIZ82 2010-11-27 20:00:00  ZPWAIZ82_20101122 2010-11-27 20:00:00   \n",
       "199099   ZPWAIZ82 2010-11-27 21:00:00  ZPWAIZ82_20101122 2010-11-27 21:00:00   \n",
       "\n",
       "           HR    RR    SBP  SaO2    BT gender  birthday      detection_time  \\\n",
       "0       103.0  24.0  130.0  98.0  37.1      F  19480515 2009-09-28 06:00:00   \n",
       "1        91.0  19.0  139.0  97.0  36.2      F  19480515 2009-09-28 06:00:00   \n",
       "2        84.0  18.0  141.0  97.0  37.2      F  19480515 2009-09-28 06:00:00   \n",
       "3        84.0  20.0  153.5  98.0  36.3      F  19480515 2009-09-28 06:00:00   \n",
       "4        85.0  21.0  150.5  98.0  37.0      F  19480515 2009-09-28 06:00:00   \n",
       "...       ...   ...    ...   ...   ...    ...       ...                 ...   \n",
       "199095  114.0  35.0  133.0  96.0  36.5      M  19370320 2010-11-27 08:00:00   \n",
       "199096  111.0  26.0  141.0  93.0  36.5      M  19370320 2010-11-27 08:00:00   \n",
       "199097  105.0  27.0  128.0  94.0  36.3      M  19370320 2010-11-27 08:00:00   \n",
       "199098  110.0  28.0  131.0  92.0  36.5      M  19370320 2010-11-27 08:00:00   \n",
       "199099  115.0  32.0  128.0  94.0  36.6      M  19370320 2010-11-27 08:00:00   \n",
       "\n",
       "                event_time  \n",
       "0      2009-09-28 21:00:00  \n",
       "1      2009-09-28 21:00:00  \n",
       "2      2009-09-28 21:00:00  \n",
       "3      2009-09-28 21:00:00  \n",
       "4      2009-09-28 21:00:00  \n",
       "...                    ...  \n",
       "199095 2010-11-27 22:00:00  \n",
       "199096 2010-11-27 22:00:00  \n",
       "199097 2010-11-27 22:00:00  \n",
       "199098 2010-11-27 22:00:00  \n",
       "199099 2010-11-27 22:00:00  \n",
       "\n",
       "[199100 rows x 13 columns]"
      ],
      "text/html": "<div>\n<style scoped>\n    .dataframe tbody tr th:only-of-type {\n        vertical-align: middle;\n    }\n\n    .dataframe tbody tr th {\n        vertical-align: top;\n    }\n\n    .dataframe thead th {\n        text-align: right;\n    }\n</style>\n<table border=\"1\" class=\"dataframe\">\n  <thead>\n    <tr style=\"text-align: right;\">\n      <th></th>\n      <th>patient_id</th>\n      <th>measurement_time</th>\n      <th>patient</th>\n      <th>adjusted_time</th>\n      <th>HR</th>\n      <th>RR</th>\n      <th>SBP</th>\n      <th>SaO2</th>\n      <th>BT</th>\n      <th>gender</th>\n      <th>birthday</th>\n      <th>detection_time</th>\n      <th>event_time</th>\n    </tr>\n  </thead>\n  <tbody>\n    <tr>\n      <th>0</th>\n      <td>ABG1W8Y6</td>\n      <td>2009-09-28 12:00:00</td>\n      <td>ABG1W8Y6_20090826</td>\n      <td>2009-09-28 12:00:00</td>\n      <td>103.0</td>\n      <td>24.0</td>\n      <td>130.0</td>\n      <td>98.0</td>\n      <td>37.1</td>\n      <td>F</td>\n      <td>19480515</td>\n      <td>2009-09-28 06:00:00</td>\n      <td>2009-09-28 21:00:00</td>\n    </tr>\n    <tr>\n      <th>1</th>\n      <td>ABG1W8Y6</td>\n      <td>2009-09-28 13:00:00</td>\n      <td>ABG1W8Y6_20090826</td>\n      <td>2009-09-28 13:00:00</td>\n      <td>91.0</td>\n      <td>19.0</td>\n      <td>139.0</td>\n      <td>97.0</td>\n      <td>36.2</td>\n      <td>F</td>\n      <td>19480515</td>\n      <td>2009-09-28 06:00:00</td>\n      <td>2009-09-28 21:00:00</td>\n    </tr>\n    <tr>\n      <th>2</th>\n      <td>ABG1W8Y6</td>\n      <td>2009-09-28 14:00:00</td>\n      <td>ABG1W8Y6_20090826</td>\n      <td>2009-09-28 14:00:00</td>\n      <td>84.0</td>\n      <td>18.0</td>\n      <td>141.0</td>\n      <td>97.0</td>\n      <td>37.2</td>\n      <td>F</td>\n      <td>19480515</td>\n      <td>2009-09-28 06:00:00</td>\n      <td>2009-09-28 21:00:00</td>\n    </tr>\n    <tr>\n      <th>3</th>\n      <td>ABG1W8Y6</td>\n      <td>2009-09-28 15:00:00</td>\n      <td>ABG1W8Y6_20090826</td>\n      <td>2009-09-28 15:00:00</td>\n      <td>84.0</td>\n      <td>20.0</td>\n      <td>153.5</td>\n      <td>98.0</td>\n      <td>36.3</td>\n      <td>F</td>\n      <td>19480515</td>\n      <td>2009-09-28 06:00:00</td>\n      <td>2009-09-28 21:00:00</td>\n    </tr>\n    <tr>\n      <th>4</th>\n      <td>ABG1W8Y6</td>\n      <td>2009-09-28 16:00:00</td>\n      <td>ABG1W8Y6_20090826</td>\n      <td>2009-09-28 16:00:00</td>\n      <td>85.0</td>\n      <td>21.0</td>\n      <td>150.5</td>\n      <td>98.0</td>\n      <td>37.0</td>\n      <td>F</td>\n      <td>19480515</td>\n      <td>2009-09-28 06:00:00</td>\n      <td>2009-09-28 21:00:00</td>\n    </tr>\n    <tr>\n      <th>...</th>\n      <td>...</td>\n      <td>...</td>\n      <td>...</td>\n      <td>...</td>\n      <td>...</td>\n      <td>...</td>\n      <td>...</td>\n      <td>...</td>\n      <td>...</td>\n      <td>...</td>\n      <td>...</td>\n      <td>...</td>\n      <td>...</td>\n    </tr>\n    <tr>\n      <th>199095</th>\n      <td>ZPWAIZ82</td>\n      <td>2010-11-27 17:00:00</td>\n      <td>ZPWAIZ82_20101122</td>\n      <td>2010-11-27 17:00:00</td>\n      <td>114.0</td>\n      <td>35.0</td>\n      <td>133.0</td>\n      <td>96.0</td>\n      <td>36.5</td>\n      <td>M</td>\n      <td>19370320</td>\n      <td>2010-11-27 08:00:00</td>\n      <td>2010-11-27 22:00:00</td>\n    </tr>\n    <tr>\n      <th>199096</th>\n      <td>ZPWAIZ82</td>\n      <td>2010-11-27 18:00:00</td>\n      <td>ZPWAIZ82_20101122</td>\n      <td>2010-11-27 18:00:00</td>\n      <td>111.0</td>\n      <td>26.0</td>\n      <td>141.0</td>\n      <td>93.0</td>\n      <td>36.5</td>\n      <td>M</td>\n      <td>19370320</td>\n      <td>2010-11-27 08:00:00</td>\n      <td>2010-11-27 22:00:00</td>\n    </tr>\n    <tr>\n      <th>199097</th>\n      <td>ZPWAIZ82</td>\n      <td>2010-11-27 19:00:00</td>\n      <td>ZPWAIZ82_20101122</td>\n      <td>2010-11-27 19:00:00</td>\n      <td>105.0</td>\n      <td>27.0</td>\n      <td>128.0</td>\n      <td>94.0</td>\n      <td>36.3</td>\n      <td>M</td>\n      <td>19370320</td>\n      <td>2010-11-27 08:00:00</td>\n      <td>2010-11-27 22:00:00</td>\n    </tr>\n    <tr>\n      <th>199098</th>\n      <td>ZPWAIZ82</td>\n      <td>2010-11-27 20:00:00</td>\n      <td>ZPWAIZ82_20101122</td>\n      <td>2010-11-27 20:00:00</td>\n      <td>110.0</td>\n      <td>28.0</td>\n      <td>131.0</td>\n      <td>92.0</td>\n      <td>36.5</td>\n      <td>M</td>\n      <td>19370320</td>\n      <td>2010-11-27 08:00:00</td>\n      <td>2010-11-27 22:00:00</td>\n    </tr>\n    <tr>\n      <th>199099</th>\n      <td>ZPWAIZ82</td>\n      <td>2010-11-27 21:00:00</td>\n      <td>ZPWAIZ82_20101122</td>\n      <td>2010-11-27 21:00:00</td>\n      <td>115.0</td>\n      <td>32.0</td>\n      <td>128.0</td>\n      <td>94.0</td>\n      <td>36.6</td>\n      <td>M</td>\n      <td>19370320</td>\n      <td>2010-11-27 08:00:00</td>\n      <td>2010-11-27 22:00:00</td>\n    </tr>\n  </tbody>\n</table>\n<p>199100 rows × 13 columns</p>\n</div>"
     },
     "metadata": {},
     "execution_count": 145
    }
   ],
   "source": [
    "\n",
    "  # join two tabels\n",
    "  valid_data = pd.merge(valid_sign, valid_event, left_on = 'patient_id', right_on = 'patient_id', how = 'left')\n",
    "  valid_data['event_time'] = pd.to_datetime(valid_data['event_time'])\n",
    "  valid_data['adjusted_time'] = pd.to_datetime(valid_data['adjusted_time'])\n",
    "  valid_data['detection_time'] = pd.to_datetime(valid_data['detection_time'])\n",
    "  valid_data\n",
    "\n",
    "  "
   ]
  },
  {
   "cell_type": "code",
   "execution_count": 146,
   "metadata": {},
   "outputs": [
    {
     "output_type": "execute_result",
     "data": {
      "text/plain": [
       "       patient_id    measurement_time            patient        adjusted_time  \\\n",
       "0        A1YFM8RK 2016-12-14 17:00:00  A1YFM8RK_20161214  2016-12-14 17:00:00   \n",
       "1        A1YFM8RK 2016-12-14 18:00:00  A1YFM8RK_20161214  2016-12-14 18:00:00   \n",
       "2        A1YFM8RK 2016-12-14 19:00:00  A1YFM8RK_20161214  2016-12-14 19:00:00   \n",
       "3        A1YFM8RK 2016-12-14 20:00:00  A1YFM8RK_20161214  2016-12-14 20:00:00   \n",
       "4        A1YFM8RK 2016-12-14 21:00:00  A1YFM8RK_20161214  2016-12-14 21:00:00   \n",
       "...           ...                 ...                ...                  ...   \n",
       "476325   ZYEBEIQI 2014-06-17 20:00:00  ZYEBEIQI_20140610  2014-06-17 13:00:00   \n",
       "476326   ZYEBEIQI 2014-06-17 21:00:00  ZYEBEIQI_20140610  2014-06-17 13:00:00   \n",
       "476327   ZYEBEIQI 2014-06-17 22:00:00  ZYEBEIQI_20140610  2014-06-17 13:00:00   \n",
       "476328   ZYEBEIQI 2014-06-17 23:00:00  ZYEBEIQI_20140610  2014-06-17 13:00:00   \n",
       "476329   ZYEBEIQI 2014-06-18 00:00:00  ZYEBEIQI_20140610  2014-06-18 00:00:00   \n",
       "\n",
       "           HR    RR    SBP   SaO2    BT gender  birthday  \n",
       "0        72.0  18.0  134.5   99.0  36.6      M  19440428  \n",
       "1        62.0  18.0  135.0   99.0  37.0      M  19440428  \n",
       "2        62.0  22.0  123.0  100.0  37.1      M  19440428  \n",
       "3        64.0  19.0  118.0  100.0  36.9      M  19440428  \n",
       "4        69.0  14.0  120.0  100.0  36.6      M  19440428  \n",
       "...       ...   ...    ...    ...   ...    ...       ...  \n",
       "476325  103.0  22.0  106.0   98.0  36.4      M  19580720  \n",
       "476326  103.0  22.0  106.0   98.0  36.4      M  19580720  \n",
       "476327  103.0  22.0  106.0   98.0  36.4      M  19580720  \n",
       "476328  103.0  22.0  106.0   98.0  36.4      M  19580720  \n",
       "476329   95.0  28.0  106.0   93.0  37.5      M  19580720  \n",
       "\n",
       "[476330 rows x 11 columns]"
      ],
      "text/html": "<div>\n<style scoped>\n    .dataframe tbody tr th:only-of-type {\n        vertical-align: middle;\n    }\n\n    .dataframe tbody tr th {\n        vertical-align: top;\n    }\n\n    .dataframe thead th {\n        text-align: right;\n    }\n</style>\n<table border=\"1\" class=\"dataframe\">\n  <thead>\n    <tr style=\"text-align: right;\">\n      <th></th>\n      <th>patient_id</th>\n      <th>measurement_time</th>\n      <th>patient</th>\n      <th>adjusted_time</th>\n      <th>HR</th>\n      <th>RR</th>\n      <th>SBP</th>\n      <th>SaO2</th>\n      <th>BT</th>\n      <th>gender</th>\n      <th>birthday</th>\n    </tr>\n  </thead>\n  <tbody>\n    <tr>\n      <th>0</th>\n      <td>A1YFM8RK</td>\n      <td>2016-12-14 17:00:00</td>\n      <td>A1YFM8RK_20161214</td>\n      <td>2016-12-14 17:00:00</td>\n      <td>72.0</td>\n      <td>18.0</td>\n      <td>134.5</td>\n      <td>99.0</td>\n      <td>36.6</td>\n      <td>M</td>\n      <td>19440428</td>\n    </tr>\n    <tr>\n      <th>1</th>\n      <td>A1YFM8RK</td>\n      <td>2016-12-14 18:00:00</td>\n      <td>A1YFM8RK_20161214</td>\n      <td>2016-12-14 18:00:00</td>\n      <td>62.0</td>\n      <td>18.0</td>\n      <td>135.0</td>\n      <td>99.0</td>\n      <td>37.0</td>\n      <td>M</td>\n      <td>19440428</td>\n    </tr>\n    <tr>\n      <th>2</th>\n      <td>A1YFM8RK</td>\n      <td>2016-12-14 19:00:00</td>\n      <td>A1YFM8RK_20161214</td>\n      <td>2016-12-14 19:00:00</td>\n      <td>62.0</td>\n      <td>22.0</td>\n      <td>123.0</td>\n      <td>100.0</td>\n      <td>37.1</td>\n      <td>M</td>\n      <td>19440428</td>\n    </tr>\n    <tr>\n      <th>3</th>\n      <td>A1YFM8RK</td>\n      <td>2016-12-14 20:00:00</td>\n      <td>A1YFM8RK_20161214</td>\n      <td>2016-12-14 20:00:00</td>\n      <td>64.0</td>\n      <td>19.0</td>\n      <td>118.0</td>\n      <td>100.0</td>\n      <td>36.9</td>\n      <td>M</td>\n      <td>19440428</td>\n    </tr>\n    <tr>\n      <th>4</th>\n      <td>A1YFM8RK</td>\n      <td>2016-12-14 21:00:00</td>\n      <td>A1YFM8RK_20161214</td>\n      <td>2016-12-14 21:00:00</td>\n      <td>69.0</td>\n      <td>14.0</td>\n      <td>120.0</td>\n      <td>100.0</td>\n      <td>36.6</td>\n      <td>M</td>\n      <td>19440428</td>\n    </tr>\n    <tr>\n      <th>...</th>\n      <td>...</td>\n      <td>...</td>\n      <td>...</td>\n      <td>...</td>\n      <td>...</td>\n      <td>...</td>\n      <td>...</td>\n      <td>...</td>\n      <td>...</td>\n      <td>...</td>\n      <td>...</td>\n    </tr>\n    <tr>\n      <th>476325</th>\n      <td>ZYEBEIQI</td>\n      <td>2014-06-17 20:00:00</td>\n      <td>ZYEBEIQI_20140610</td>\n      <td>2014-06-17 13:00:00</td>\n      <td>103.0</td>\n      <td>22.0</td>\n      <td>106.0</td>\n      <td>98.0</td>\n      <td>36.4</td>\n      <td>M</td>\n      <td>19580720</td>\n    </tr>\n    <tr>\n      <th>476326</th>\n      <td>ZYEBEIQI</td>\n      <td>2014-06-17 21:00:00</td>\n      <td>ZYEBEIQI_20140610</td>\n      <td>2014-06-17 13:00:00</td>\n      <td>103.0</td>\n      <td>22.0</td>\n      <td>106.0</td>\n      <td>98.0</td>\n      <td>36.4</td>\n      <td>M</td>\n      <td>19580720</td>\n    </tr>\n    <tr>\n      <th>476327</th>\n      <td>ZYEBEIQI</td>\n      <td>2014-06-17 22:00:00</td>\n      <td>ZYEBEIQI_20140610</td>\n      <td>2014-06-17 13:00:00</td>\n      <td>103.0</td>\n      <td>22.0</td>\n      <td>106.0</td>\n      <td>98.0</td>\n      <td>36.4</td>\n      <td>M</td>\n      <td>19580720</td>\n    </tr>\n    <tr>\n      <th>476328</th>\n      <td>ZYEBEIQI</td>\n      <td>2014-06-17 23:00:00</td>\n      <td>ZYEBEIQI_20140610</td>\n      <td>2014-06-17 13:00:00</td>\n      <td>103.0</td>\n      <td>22.0</td>\n      <td>106.0</td>\n      <td>98.0</td>\n      <td>36.4</td>\n      <td>M</td>\n      <td>19580720</td>\n    </tr>\n    <tr>\n      <th>476329</th>\n      <td>ZYEBEIQI</td>\n      <td>2014-06-18 00:00:00</td>\n      <td>ZYEBEIQI_20140610</td>\n      <td>2014-06-18 00:00:00</td>\n      <td>95.0</td>\n      <td>28.0</td>\n      <td>106.0</td>\n      <td>93.0</td>\n      <td>37.5</td>\n      <td>M</td>\n      <td>19580720</td>\n    </tr>\n  </tbody>\n</table>\n<p>476330 rows × 11 columns</p>\n</div>"
     },
     "metadata": {},
     "execution_count": 146
    }
   ],
   "source": [
    "valid_nl = pd.merge(valid_sign_nl, valid_nl_sample[['patient_id', 'gender', 'birthday']], left_on = 'patient_id', right_on = 'patient_id', how = 'left')\n",
    "valid_nl \n"
   ]
  },
  {
   "cell_type": "code",
   "execution_count": 147,
   "metadata": {},
   "outputs": [
    {
     "output_type": "execute_result",
     "data": {
      "text/plain": [
       "1    43556\n",
       "0    21573\n",
       "Name: target, dtype: int64"
      ]
     },
     "metadata": {},
     "execution_count": 147
    }
   ],
   "source": [
    "# target\n",
    "valid_data = get_target_df(valid_data)\n",
    "#get_target_df(valid_data)\n",
    "valid_data.target.value_counts()"
   ]
  },
  {
   "cell_type": "code",
   "execution_count": 148,
   "metadata": {},
   "outputs": [
    {
     "output_type": "execute_result",
     "data": {
      "text/plain": [
       "0    476330\n",
       "Name: target, dtype: int64"
      ]
     },
     "metadata": {},
     "execution_count": 148
    }
   ],
   "source": [
    "valid_nl = get_target_df(valid_nl, False)\n",
    "#get_target_df(valid_data)\n",
    "valid_nl.target.value_counts()"
   ]
  },
  {
   "cell_type": "code",
   "execution_count": 149,
   "metadata": {},
   "outputs": [
    {
     "output_type": "stream",
     "name": "stdout",
     "text": [
      "--------------------------------------------------\nCBC data\n"
     ]
    }
   ],
   "source": [
    "valid_data['gender'] = valid_data['gender'].astype('category').cat.codes\n",
    "valid_data['TS'] = make_timestamp(valid_data, index = 'patient_id')\n",
    "valid_data['birthday'] = pd.to_datetime(valid_data['birthday'])\n",
    "valid_data['Age'] = (valid_data['event_time'] - valid_data['birthday']).astype('timedelta64[D]')\n",
    "valid_data['Age'] = (valid_data['Age'] / (366)).round().astype(int)\n",
    "valid_data = valid_data.drop(['patient', 'birthday'], axis = 1)\n",
    "valid_data = valid_data.rename(columns = {\n",
    "'gender': 'Gender'\n",
    "})\n",
    "print('-' * 50)\n",
    "print('CBC data')\n",
    "valid_blood_trn_cbc = pd.read_csv(\n",
    "    os.path.join(dp.valid_path, 'trn_abn_cbc.csv'),\n",
    "    encoding = 'CP949'\n",
    ")\n",
    "valid_blood_tst_cbc = pd.read_csv(\n",
    "    os.path.join(dp.valid_path, 'tst_abn_cbc.csv'),\n",
    "    encoding = 'CP949'\n",
    ")"
   ]
  },
  {
   "cell_type": "code",
   "execution_count": 150,
   "metadata": {},
   "outputs": [],
   "source": [
    "valid_nl['gender'] = valid_nl['gender'].astype('category').cat.codes\n",
    "valid_nl['TS'] = make_timestamp(valid_nl, index = 'patient_id')\n",
    "valid_nl['birthday'] = pd.to_datetime(valid_nl['birthday'])\n",
    "valid_nl['Age'] = (valid_nl['measurement_time'] - valid_nl['birthday']).astype('timedelta64[D]')\n",
    "valid_nl['Age'] = (valid_nl['Age'] / (366)).round().astype(int)\n",
    "valid_nl = valid_nl.drop(['patient', 'birthday'], axis = 1)\n",
    "valid_nl = valid_nl.rename(columns = {\n",
    "    'gender': 'Gender'\n",
    "})\n"
   ]
  },
  {
   "cell_type": "code",
   "execution_count": 151,
   "metadata": {},
   "outputs": [
    {
     "output_type": "stream",
     "name": "stdout",
     "text": [
      "--------------------------------------------------\nCBC data\n"
     ]
    },
    {
     "output_type": "execute_result",
     "data": {
      "text/plain": [
       "                   patient        adjusted_time  Hgb  Platelet Count  \\\n",
       "0        A01J9AP0_20150612  2015-06-12 20:00:00  7.7            12.0   \n",
       "1        A01J9AP0_20150612  2015-06-12 21:00:00  7.7            12.0   \n",
       "2        A01J9AP0_20150612  2015-06-12 22:00:00  7.7            12.0   \n",
       "3        A01J9AP0_20150612  2015-06-12 23:00:00  7.7            12.0   \n",
       "4        A01J9AP0_20150612  2015-06-13 00:00:00  7.7            12.0   \n",
       "...                    ...                  ...  ...             ...   \n",
       "4764645  ZZZZRQ96_20180513  2018-05-20 02:00:00  9.4            82.0   \n",
       "4764646  ZZZZRQ96_20180513  2018-05-20 03:00:00  9.4            82.0   \n",
       "4764647  ZZZZRQ96_20180513  2018-05-20 04:00:00  9.4            82.0   \n",
       "4764648  ZZZZRQ96_20180513  2018-05-20 05:00:00  9.4            82.0   \n",
       "4764649  ZZZZRQ96_20180513  2018-05-20 06:00:00  9.5           147.0   \n",
       "\n",
       "         WBC Count     measurement_time  \n",
       "0              4.0  2015-06-12 19:31:00  \n",
       "1              4.0  2015-06-12 19:31:00  \n",
       "2              4.0  2015-06-12 19:31:00  \n",
       "3              4.0  2015-06-12 19:31:00  \n",
       "4              4.0  2015-06-12 19:31:00  \n",
       "...            ...                  ...  \n",
       "4764645       16.5  2018-05-19 05:43:00  \n",
       "4764646       16.5  2018-05-19 05:43:00  \n",
       "4764647       16.5  2018-05-19 05:43:00  \n",
       "4764648       16.5  2018-05-19 05:43:00  \n",
       "4764649       16.5  2018-05-20 05:35:00  \n",
       "\n",
       "[4764650 rows x 6 columns]"
      ],
      "text/html": "<div>\n<style scoped>\n    .dataframe tbody tr th:only-of-type {\n        vertical-align: middle;\n    }\n\n    .dataframe tbody tr th {\n        vertical-align: top;\n    }\n\n    .dataframe thead th {\n        text-align: right;\n    }\n</style>\n<table border=\"1\" class=\"dataframe\">\n  <thead>\n    <tr style=\"text-align: right;\">\n      <th></th>\n      <th>patient</th>\n      <th>adjusted_time</th>\n      <th>Hgb</th>\n      <th>Platelet Count</th>\n      <th>WBC Count</th>\n      <th>measurement_time</th>\n    </tr>\n  </thead>\n  <tbody>\n    <tr>\n      <th>0</th>\n      <td>A01J9AP0_20150612</td>\n      <td>2015-06-12 20:00:00</td>\n      <td>7.7</td>\n      <td>12.0</td>\n      <td>4.0</td>\n      <td>2015-06-12 19:31:00</td>\n    </tr>\n    <tr>\n      <th>1</th>\n      <td>A01J9AP0_20150612</td>\n      <td>2015-06-12 21:00:00</td>\n      <td>7.7</td>\n      <td>12.0</td>\n      <td>4.0</td>\n      <td>2015-06-12 19:31:00</td>\n    </tr>\n    <tr>\n      <th>2</th>\n      <td>A01J9AP0_20150612</td>\n      <td>2015-06-12 22:00:00</td>\n      <td>7.7</td>\n      <td>12.0</td>\n      <td>4.0</td>\n      <td>2015-06-12 19:31:00</td>\n    </tr>\n    <tr>\n      <th>3</th>\n      <td>A01J9AP0_20150612</td>\n      <td>2015-06-12 23:00:00</td>\n      <td>7.7</td>\n      <td>12.0</td>\n      <td>4.0</td>\n      <td>2015-06-12 19:31:00</td>\n    </tr>\n    <tr>\n      <th>4</th>\n      <td>A01J9AP0_20150612</td>\n      <td>2015-06-13 00:00:00</td>\n      <td>7.7</td>\n      <td>12.0</td>\n      <td>4.0</td>\n      <td>2015-06-12 19:31:00</td>\n    </tr>\n    <tr>\n      <th>...</th>\n      <td>...</td>\n      <td>...</td>\n      <td>...</td>\n      <td>...</td>\n      <td>...</td>\n      <td>...</td>\n    </tr>\n    <tr>\n      <th>4764645</th>\n      <td>ZZZZRQ96_20180513</td>\n      <td>2018-05-20 02:00:00</td>\n      <td>9.4</td>\n      <td>82.0</td>\n      <td>16.5</td>\n      <td>2018-05-19 05:43:00</td>\n    </tr>\n    <tr>\n      <th>4764646</th>\n      <td>ZZZZRQ96_20180513</td>\n      <td>2018-05-20 03:00:00</td>\n      <td>9.4</td>\n      <td>82.0</td>\n      <td>16.5</td>\n      <td>2018-05-19 05:43:00</td>\n    </tr>\n    <tr>\n      <th>4764647</th>\n      <td>ZZZZRQ96_20180513</td>\n      <td>2018-05-20 04:00:00</td>\n      <td>9.4</td>\n      <td>82.0</td>\n      <td>16.5</td>\n      <td>2018-05-19 05:43:00</td>\n    </tr>\n    <tr>\n      <th>4764648</th>\n      <td>ZZZZRQ96_20180513</td>\n      <td>2018-05-20 05:00:00</td>\n      <td>9.4</td>\n      <td>82.0</td>\n      <td>16.5</td>\n      <td>2018-05-19 05:43:00</td>\n    </tr>\n    <tr>\n      <th>4764649</th>\n      <td>ZZZZRQ96_20180513</td>\n      <td>2018-05-20 06:00:00</td>\n      <td>9.5</td>\n      <td>147.0</td>\n      <td>16.5</td>\n      <td>2018-05-20 05:35:00</td>\n    </tr>\n  </tbody>\n</table>\n<p>4764650 rows × 6 columns</p>\n</div>"
     },
     "metadata": {},
     "execution_count": 151
    }
   ],
   "source": [
    "print('-' * 50)\n",
    "print('CBC data')\n",
    "valid_blood_trn_cbc_nl = pd.read_csv(\n",
    "    os.path.join(dp.valid_path, 'trn_nl_cbc.csv'),\n",
    "    encoding = 'CP949'\n",
    ")\n",
    "valid_blood_trn_cbc_nl"
   ]
  },
  {
   "cell_type": "code",
   "execution_count": 152,
   "metadata": {},
   "outputs": [
    {
     "output_type": "stream",
     "name": "stdout",
     "text": [
      "--------------------------------------------------\nChem data\nGlucose freq: \n2    8558\n1    1010\n0      73\nName: Glucose, dtype: int64\nSodium counts: \n1    5331\n0    3648\n2     662\nName: Sodium, dtype: int64\nPotassium counts: \n1    6854\n0    2136\n2     651\nName: Potassium, dtype: int64\nChloride counts: \n1    6731\n0    1870\n2    1040\nName: Chloride, dtype: int64\n"
     ]
    }
   ],
   "source": [
    "  valid_blood_cbc = pd.concat([valid_blood_trn_cbc, valid_blood_tst_cbc])\n",
    "  valid_blood_cbc['patient_id'] = valid_blood_cbc['patient'].apply(lambda x: x[:8])\n",
    "  valid_blood_cbc = valid_blood_cbc[valid_blood_cbc['patient_id'].isin(valid_event['patient_id'])]\n",
    "  valid_blood_cbc = valid_blood_cbc.drop(['event_time', 'measurement_time', 'patient'], axis = 1)\n",
    "  \n",
    "  # filter cbc value\n",
    "  valid_blood_cbc = adjust_cbc(valid_blood_cbc)\n",
    "  valid_blood_cbc = valid_blood_cbc.rename(columns = {\n",
    "    'Platelet Count': 'platelet'\n",
    "  })\n",
    "  ##########\n",
    "  print('-' * 50)\n",
    "  print('Chem data')\n",
    "  valid_blood_trn_lab = pd.read_csv(\n",
    "    os.path.join(dp.valid_path, 'trn_abn_chem.csv'),\n",
    "    encoding = 'CP949'\n",
    "  )\n",
    "  valid_blood_tst_lab = pd.read_csv(\n",
    "    os.path.join(dp.valid_path, 'tst_abn_chem.csv'),\n",
    "    encoding = 'CP949'\n",
    "  )\n",
    "\n",
    "  valid_blood_chem = pd.concat([valid_blood_trn_lab, valid_blood_tst_lab])\n",
    "  valid_blood_chem['patient_id'] = valid_blood_chem['patient'].apply(lambda x: x[:8])\n",
    "  valid_blood_chem = valid_blood_chem[valid_blood_chem['patient_id'].isin(valid_event['patient_id'])]\n",
    "  valid_blood_chem = valid_blood_chem.drop(['event_time', 'measurement_time', 'patient'], axis = 1)\n",
    "\n",
    "  # adjust chem values\n",
    "  valid_blood_chem = adjust_chem(valid_blood_chem)\n",
    "  valid_blood_chem = valid_blood_chem.rename(columns = {\n",
    "    'Total Bilirubin': 'Total bilirubin',\n",
    "    'Total Protein': 'Total protein',\n",
    "    'Total Calcium': 'Total calcium',\n",
    "    'Alkaline Phosphatase' : 'Alkaline phosphatase',\n",
    "    'Creatinine': 'Creatinin'\n",
    "  })\n",
    "  if verbose:\n",
    "    print('Glucose freq: ')\n",
    "    print( valid_blood_chem['Glucose'].value_counts())\n",
    "    print('Sodium counts: ')\n",
    "    print( valid_blood_chem['Sodium'].value_counts())\n",
    "    print('Potassium counts: ')\n",
    "    print( valid_blood_chem['Potassium'].value_counts())\n",
    "    print('Chloride counts: ')\n",
    "    print( valid_blood_chem['Chloride'].value_counts())\n",
    "\n",
    "  # merge blood data\n",
    "\n",
    "  valid_blood = pd.merge(valid_blood_cbc, valid_blood_chem, how = 'left', \\\n",
    "    on = ['patient_id', 'adjusted_time'])\n",
    "\n",
    "  blood_properties = ['WBC Count', 'Platelet Count', 'Hgb','BUN', 'creatinin', 'Glucose', \n",
    "                  'Sodium', 'Potassium', 'Chloride', 'Total protein', 'Total bilirubin',\n",
    "                  'Albumin', 'CRP','Total calcium', 'Lactate', 'Alkaline phosphatase',\n",
    "                  'AST', 'ALT']\n",
    "\n",
    "  #for p in blood_properties:\n",
    "  #  valid_blood[p].fillna(round(valid_blood[p].mean(), 1), inplace=True)\n"
   ]
  },
  {
   "cell_type": "code",
   "execution_count": 153,
   "metadata": {},
   "outputs": [
    {
     "output_type": "execute_result",
     "data": {
      "text/plain": [
       "                   patient        adjusted_time   Hgb  platelet  WBC Count  \\\n",
       "8712     A1YFM8RK_20150910  2015-09-10 15:00:00  11.5     223.0          1   \n",
       "8713     A1YFM8RK_20151001  2015-10-01 16:00:00  11.2     245.0          1   \n",
       "8714     A1YFM8RK_20151022  2015-10-22 16:00:00  10.7     189.0          0   \n",
       "8715     A1YFM8RK_20151022  2015-10-22 17:00:00  10.7     189.0          0   \n",
       "8716     A1YFM8RK_20151022  2015-10-22 18:00:00  10.7     189.0          0   \n",
       "...                    ...                  ...   ...       ...        ...   \n",
       "4760584  ZZF3O2KG_20100629  2010-07-05 08:00:00  11.5     262.0          0   \n",
       "4760585  ZZF3O2KG_20100629  2010-07-05 09:00:00  11.5     262.0          0   \n",
       "4760586  ZZF3O2KG_20100629  2010-07-05 10:00:00  11.5     262.0          0   \n",
       "4760587  ZZF3O2KG_20100629  2010-07-05 11:00:00  11.5     262.0          0   \n",
       "4760588  ZZF3O2KG_20100629  2010-07-05 12:00:00  12.0     268.0          0   \n",
       "\n",
       "            measurement_time patient_id  \n",
       "8712     2015-09-10 14:35:00   A1YFM8RK  \n",
       "8713     2015-10-01 15:56:00   A1YFM8RK  \n",
       "8714     2015-10-22 16:16:00   A1YFM8RK  \n",
       "8715     2015-10-22 16:16:00   A1YFM8RK  \n",
       "8716     2015-10-22 16:16:00   A1YFM8RK  \n",
       "...                      ...        ...  \n",
       "4760584  2010-07-03 10:58:00   ZZF3O2KG  \n",
       "4760585  2010-07-03 10:58:00   ZZF3O2KG  \n",
       "4760586  2010-07-03 10:58:00   ZZF3O2KG  \n",
       "4760587  2010-07-03 10:58:00   ZZF3O2KG  \n",
       "4760588  2010-07-05 12:28:00   ZZF3O2KG  \n",
       "\n",
       "[296292 rows x 7 columns]"
      ],
      "text/html": "<div>\n<style scoped>\n    .dataframe tbody tr th:only-of-type {\n        vertical-align: middle;\n    }\n\n    .dataframe tbody tr th {\n        vertical-align: top;\n    }\n\n    .dataframe thead th {\n        text-align: right;\n    }\n</style>\n<table border=\"1\" class=\"dataframe\">\n  <thead>\n    <tr style=\"text-align: right;\">\n      <th></th>\n      <th>patient</th>\n      <th>adjusted_time</th>\n      <th>Hgb</th>\n      <th>platelet</th>\n      <th>WBC Count</th>\n      <th>measurement_time</th>\n      <th>patient_id</th>\n    </tr>\n  </thead>\n  <tbody>\n    <tr>\n      <th>8712</th>\n      <td>A1YFM8RK_20150910</td>\n      <td>2015-09-10 15:00:00</td>\n      <td>11.5</td>\n      <td>223.0</td>\n      <td>1</td>\n      <td>2015-09-10 14:35:00</td>\n      <td>A1YFM8RK</td>\n    </tr>\n    <tr>\n      <th>8713</th>\n      <td>A1YFM8RK_20151001</td>\n      <td>2015-10-01 16:00:00</td>\n      <td>11.2</td>\n      <td>245.0</td>\n      <td>1</td>\n      <td>2015-10-01 15:56:00</td>\n      <td>A1YFM8RK</td>\n    </tr>\n    <tr>\n      <th>8714</th>\n      <td>A1YFM8RK_20151022</td>\n      <td>2015-10-22 16:00:00</td>\n      <td>10.7</td>\n      <td>189.0</td>\n      <td>0</td>\n      <td>2015-10-22 16:16:00</td>\n      <td>A1YFM8RK</td>\n    </tr>\n    <tr>\n      <th>8715</th>\n      <td>A1YFM8RK_20151022</td>\n      <td>2015-10-22 17:00:00</td>\n      <td>10.7</td>\n      <td>189.0</td>\n      <td>0</td>\n      <td>2015-10-22 16:16:00</td>\n      <td>A1YFM8RK</td>\n    </tr>\n    <tr>\n      <th>8716</th>\n      <td>A1YFM8RK_20151022</td>\n      <td>2015-10-22 18:00:00</td>\n      <td>10.7</td>\n      <td>189.0</td>\n      <td>0</td>\n      <td>2015-10-22 16:16:00</td>\n      <td>A1YFM8RK</td>\n    </tr>\n    <tr>\n      <th>...</th>\n      <td>...</td>\n      <td>...</td>\n      <td>...</td>\n      <td>...</td>\n      <td>...</td>\n      <td>...</td>\n      <td>...</td>\n    </tr>\n    <tr>\n      <th>4760584</th>\n      <td>ZZF3O2KG_20100629</td>\n      <td>2010-07-05 08:00:00</td>\n      <td>11.5</td>\n      <td>262.0</td>\n      <td>0</td>\n      <td>2010-07-03 10:58:00</td>\n      <td>ZZF3O2KG</td>\n    </tr>\n    <tr>\n      <th>4760585</th>\n      <td>ZZF3O2KG_20100629</td>\n      <td>2010-07-05 09:00:00</td>\n      <td>11.5</td>\n      <td>262.0</td>\n      <td>0</td>\n      <td>2010-07-03 10:58:00</td>\n      <td>ZZF3O2KG</td>\n    </tr>\n    <tr>\n      <th>4760586</th>\n      <td>ZZF3O2KG_20100629</td>\n      <td>2010-07-05 10:00:00</td>\n      <td>11.5</td>\n      <td>262.0</td>\n      <td>0</td>\n      <td>2010-07-03 10:58:00</td>\n      <td>ZZF3O2KG</td>\n    </tr>\n    <tr>\n      <th>4760587</th>\n      <td>ZZF3O2KG_20100629</td>\n      <td>2010-07-05 11:00:00</td>\n      <td>11.5</td>\n      <td>262.0</td>\n      <td>0</td>\n      <td>2010-07-03 10:58:00</td>\n      <td>ZZF3O2KG</td>\n    </tr>\n    <tr>\n      <th>4760588</th>\n      <td>ZZF3O2KG_20100629</td>\n      <td>2010-07-05 12:00:00</td>\n      <td>12.0</td>\n      <td>268.0</td>\n      <td>0</td>\n      <td>2010-07-05 12:28:00</td>\n      <td>ZZF3O2KG</td>\n    </tr>\n  </tbody>\n</table>\n<p>296292 rows × 7 columns</p>\n</div>"
     },
     "metadata": {},
     "execution_count": 153
    }
   ],
   "source": [
    "valid_blood_cbc_nl = valid_blood_trn_cbc_nl#pd.concat([valid_blood_trn_cbc_nl])\n",
    "valid_blood_cbc_nl['patient_id'] = valid_blood_cbc_nl['patient'].apply(lambda x: x[:8])\n",
    "valid_blood_cbc_nl = valid_blood_cbc_nl[valid_blood_cbc_nl['patient_id'].isin(valid_nl_sample['patient_id'])]\n",
    "#  valid_blood_cbc_nl = valid_blood_cbc_nl.drop(['measurement_time', 'patient'], axis = 1)\n",
    "  \n",
    "  # filter cbc value\n",
    "valid_blood_cbc_nl = adjust_cbc(valid_blood_cbc_nl)\n",
    "valid_blood_cbc_nl = valid_blood_cbc_nl.rename(columns = {\n",
    "'Platelet Count': 'platelet'\n",
    "})\n",
    "valid_blood_cbc_nl "
   ]
  },
  {
   "cell_type": "code",
   "execution_count": 154,
   "metadata": {},
   "outputs": [
    {
     "output_type": "stream",
     "name": "stdout",
     "text": [
      "--------------------------------------------------\nChem data\n"
     ]
    }
   ],
   "source": [
    "##########\n",
    "print('-' * 50)\n",
    "print('Chem data')\n",
    "valid_blood_trn_lab_nl = pd.read_csv(\n",
    "    os.path.join(dp.valid_path, 'trn_nl_chem.csv'),\n",
    "    encoding = 'CP949'\n",
    ")\n",
    "\n",
    "valid_blood_chem_nl = valid_blood_trn_lab_nl #pd.concat([valid_blood_trn_lab, valid_blood_tst_lab])\n",
    "valid_blood_chem_nl['patient_id'] = valid_blood_chem_nl['patient'].apply(lambda x: x[:8])\n",
    "valid_blood_chem_nl = valid_blood_chem_nl[valid_blood_chem_nl['patient_id'].isin(valid_nl_sample['patient_id'])]\n",
    "valid_blood_chem_nl = valid_blood_chem_nl.drop(['measurement_time'], axis = 1)\n",
    "valid_blood_chem_nl = valid_blood_chem_nl.rename(columns={\n",
    "    'Chloride (염소)': 'Chloride',\n",
    "    'CRP (Quantitation)-임상화학': 'CRP'\n",
    "})\n"
   ]
  },
  {
   "cell_type": "code",
   "execution_count": 155,
   "metadata": {},
   "outputs": [],
   "source": [
    "# adjust chem values\n",
    "valid_blood_chem_nl = adjust_chem(valid_blood_chem_nl)\n",
    "valid_blood_chem_nl = valid_blood_chem_nl.rename(columns = {\n",
    "'Total Bilirubin': 'Total bilirubin',\n",
    "'Total Protein': 'Total protein',\n",
    "'Total Calcium': 'Total calcium',\n",
    "'Alkaline Phosphatase' : 'Alkaline phosphatase',\n",
    "'Creatinine': 'Creatinin'\n",
    "})\n",
    "\n",
    "#for p in blood_properties:\n",
    "#  valid_blood[p].fillna(round(valid_blood[p].mean(), 1), inplace=True)\n"
   ]
  },
  {
   "cell_type": "code",
   "execution_count": 156,
   "metadata": {},
   "outputs": [
    {
     "output_type": "execute_result",
     "data": {
      "text/plain": [
       "                patient_x        adjusted_time   Hgb  platelet  WBC Count  \\\n",
       "0       A1YFM8RK_20150910  2015-09-10 15:00:00  11.5     223.0          1   \n",
       "1       A1YFM8RK_20151001  2015-10-01 16:00:00  11.2     245.0          1   \n",
       "2       A1YFM8RK_20151022  2015-10-22 16:00:00  10.7     189.0          0   \n",
       "3       A1YFM8RK_20151022  2015-10-22 17:00:00  10.7     189.0          0   \n",
       "4       A1YFM8RK_20151022  2015-10-22 18:00:00  10.7     189.0          0   \n",
       "...                   ...                  ...   ...       ...        ...   \n",
       "296287  ZZF3O2KG_20100629  2010-07-05 08:00:00  11.5     262.0          0   \n",
       "296288  ZZF3O2KG_20100629  2010-07-05 09:00:00  11.5     262.0          0   \n",
       "296289  ZZF3O2KG_20100629  2010-07-05 10:00:00  11.5     262.0          0   \n",
       "296290  ZZF3O2KG_20100629  2010-07-05 11:00:00  11.5     262.0          0   \n",
       "296291  ZZF3O2KG_20100629  2010-07-05 12:00:00  12.0     268.0          0   \n",
       "\n",
       "           measurement_time patient_id patient_y  ALT  AST  ...  CRP  \\\n",
       "0       2015-09-10 14:35:00   A1YFM8RK       NaN  NaN  NaN  ...  NaN   \n",
       "1       2015-10-01 15:56:00   A1YFM8RK       NaN  NaN  NaN  ...  NaN   \n",
       "2       2015-10-22 16:16:00   A1YFM8RK       NaN  NaN  NaN  ...  NaN   \n",
       "3       2015-10-22 16:16:00   A1YFM8RK       NaN  NaN  NaN  ...  NaN   \n",
       "4       2015-10-22 16:16:00   A1YFM8RK       NaN  NaN  NaN  ...  NaN   \n",
       "...                     ...        ...       ...  ...  ...  ...  ...   \n",
       "296287  2010-07-03 10:58:00   ZZF3O2KG       NaN  NaN  NaN  ...  NaN   \n",
       "296288  2010-07-03 10:58:00   ZZF3O2KG       NaN  NaN  NaN  ...  NaN   \n",
       "296289  2010-07-03 10:58:00   ZZF3O2KG       NaN  NaN  NaN  ...  NaN   \n",
       "296290  2010-07-03 10:58:00   ZZF3O2KG       NaN  NaN  NaN  ...  NaN   \n",
       "296291  2010-07-05 12:28:00   ZZF3O2KG       NaN  NaN  NaN  ...  NaN   \n",
       "\n",
       "        Chloride  Creatinin  Glucose  Lactate  Potassium  Sodium  \\\n",
       "0            NaN        NaN      NaN      NaN        NaN     NaN   \n",
       "1            NaN        NaN      NaN      NaN        NaN     NaN   \n",
       "2            NaN        NaN      NaN      NaN        NaN     NaN   \n",
       "3            NaN        NaN      NaN      NaN        NaN     NaN   \n",
       "4            NaN        NaN      NaN      NaN        NaN     NaN   \n",
       "...          ...        ...      ...      ...        ...     ...   \n",
       "296287       NaN        NaN      NaN      NaN        NaN     NaN   \n",
       "296288       NaN        NaN      NaN      NaN        NaN     NaN   \n",
       "296289       NaN        NaN      NaN      NaN        NaN     NaN   \n",
       "296290       NaN        NaN      NaN      NaN        NaN     NaN   \n",
       "296291       NaN        NaN      NaN      NaN        NaN     NaN   \n",
       "\n",
       "        Total bilirubin  Total calcium  Total protein  \n",
       "0                   NaN            NaN            NaN  \n",
       "1                   NaN            NaN            NaN  \n",
       "2                   NaN            NaN            NaN  \n",
       "3                   NaN            NaN            NaN  \n",
       "4                   NaN            NaN            NaN  \n",
       "...                 ...            ...            ...  \n",
       "296287              NaN            NaN            NaN  \n",
       "296288              NaN            NaN            NaN  \n",
       "296289              NaN            NaN            NaN  \n",
       "296290              NaN            NaN            NaN  \n",
       "296291              NaN            NaN            NaN  \n",
       "\n",
       "[296292 rows x 23 columns]"
      ],
      "text/html": "<div>\n<style scoped>\n    .dataframe tbody tr th:only-of-type {\n        vertical-align: middle;\n    }\n\n    .dataframe tbody tr th {\n        vertical-align: top;\n    }\n\n    .dataframe thead th {\n        text-align: right;\n    }\n</style>\n<table border=\"1\" class=\"dataframe\">\n  <thead>\n    <tr style=\"text-align: right;\">\n      <th></th>\n      <th>patient_x</th>\n      <th>adjusted_time</th>\n      <th>Hgb</th>\n      <th>platelet</th>\n      <th>WBC Count</th>\n      <th>measurement_time</th>\n      <th>patient_id</th>\n      <th>patient_y</th>\n      <th>ALT</th>\n      <th>AST</th>\n      <th>...</th>\n      <th>CRP</th>\n      <th>Chloride</th>\n      <th>Creatinin</th>\n      <th>Glucose</th>\n      <th>Lactate</th>\n      <th>Potassium</th>\n      <th>Sodium</th>\n      <th>Total bilirubin</th>\n      <th>Total calcium</th>\n      <th>Total protein</th>\n    </tr>\n  </thead>\n  <tbody>\n    <tr>\n      <th>0</th>\n      <td>A1YFM8RK_20150910</td>\n      <td>2015-09-10 15:00:00</td>\n      <td>11.5</td>\n      <td>223.0</td>\n      <td>1</td>\n      <td>2015-09-10 14:35:00</td>\n      <td>A1YFM8RK</td>\n      <td>NaN</td>\n      <td>NaN</td>\n      <td>NaN</td>\n      <td>...</td>\n      <td>NaN</td>\n      <td>NaN</td>\n      <td>NaN</td>\n      <td>NaN</td>\n      <td>NaN</td>\n      <td>NaN</td>\n      <td>NaN</td>\n      <td>NaN</td>\n      <td>NaN</td>\n      <td>NaN</td>\n    </tr>\n    <tr>\n      <th>1</th>\n      <td>A1YFM8RK_20151001</td>\n      <td>2015-10-01 16:00:00</td>\n      <td>11.2</td>\n      <td>245.0</td>\n      <td>1</td>\n      <td>2015-10-01 15:56:00</td>\n      <td>A1YFM8RK</td>\n      <td>NaN</td>\n      <td>NaN</td>\n      <td>NaN</td>\n      <td>...</td>\n      <td>NaN</td>\n      <td>NaN</td>\n      <td>NaN</td>\n      <td>NaN</td>\n      <td>NaN</td>\n      <td>NaN</td>\n      <td>NaN</td>\n      <td>NaN</td>\n      <td>NaN</td>\n      <td>NaN</td>\n    </tr>\n    <tr>\n      <th>2</th>\n      <td>A1YFM8RK_20151022</td>\n      <td>2015-10-22 16:00:00</td>\n      <td>10.7</td>\n      <td>189.0</td>\n      <td>0</td>\n      <td>2015-10-22 16:16:00</td>\n      <td>A1YFM8RK</td>\n      <td>NaN</td>\n      <td>NaN</td>\n      <td>NaN</td>\n      <td>...</td>\n      <td>NaN</td>\n      <td>NaN</td>\n      <td>NaN</td>\n      <td>NaN</td>\n      <td>NaN</td>\n      <td>NaN</td>\n      <td>NaN</td>\n      <td>NaN</td>\n      <td>NaN</td>\n      <td>NaN</td>\n    </tr>\n    <tr>\n      <th>3</th>\n      <td>A1YFM8RK_20151022</td>\n      <td>2015-10-22 17:00:00</td>\n      <td>10.7</td>\n      <td>189.0</td>\n      <td>0</td>\n      <td>2015-10-22 16:16:00</td>\n      <td>A1YFM8RK</td>\n      <td>NaN</td>\n      <td>NaN</td>\n      <td>NaN</td>\n      <td>...</td>\n      <td>NaN</td>\n      <td>NaN</td>\n      <td>NaN</td>\n      <td>NaN</td>\n      <td>NaN</td>\n      <td>NaN</td>\n      <td>NaN</td>\n      <td>NaN</td>\n      <td>NaN</td>\n      <td>NaN</td>\n    </tr>\n    <tr>\n      <th>4</th>\n      <td>A1YFM8RK_20151022</td>\n      <td>2015-10-22 18:00:00</td>\n      <td>10.7</td>\n      <td>189.0</td>\n      <td>0</td>\n      <td>2015-10-22 16:16:00</td>\n      <td>A1YFM8RK</td>\n      <td>NaN</td>\n      <td>NaN</td>\n      <td>NaN</td>\n      <td>...</td>\n      <td>NaN</td>\n      <td>NaN</td>\n      <td>NaN</td>\n      <td>NaN</td>\n      <td>NaN</td>\n      <td>NaN</td>\n      <td>NaN</td>\n      <td>NaN</td>\n      <td>NaN</td>\n      <td>NaN</td>\n    </tr>\n    <tr>\n      <th>...</th>\n      <td>...</td>\n      <td>...</td>\n      <td>...</td>\n      <td>...</td>\n      <td>...</td>\n      <td>...</td>\n      <td>...</td>\n      <td>...</td>\n      <td>...</td>\n      <td>...</td>\n      <td>...</td>\n      <td>...</td>\n      <td>...</td>\n      <td>...</td>\n      <td>...</td>\n      <td>...</td>\n      <td>...</td>\n      <td>...</td>\n      <td>...</td>\n      <td>...</td>\n      <td>...</td>\n    </tr>\n    <tr>\n      <th>296287</th>\n      <td>ZZF3O2KG_20100629</td>\n      <td>2010-07-05 08:00:00</td>\n      <td>11.5</td>\n      <td>262.0</td>\n      <td>0</td>\n      <td>2010-07-03 10:58:00</td>\n      <td>ZZF3O2KG</td>\n      <td>NaN</td>\n      <td>NaN</td>\n      <td>NaN</td>\n      <td>...</td>\n      <td>NaN</td>\n      <td>NaN</td>\n      <td>NaN</td>\n      <td>NaN</td>\n      <td>NaN</td>\n      <td>NaN</td>\n      <td>NaN</td>\n      <td>NaN</td>\n      <td>NaN</td>\n      <td>NaN</td>\n    </tr>\n    <tr>\n      <th>296288</th>\n      <td>ZZF3O2KG_20100629</td>\n      <td>2010-07-05 09:00:00</td>\n      <td>11.5</td>\n      <td>262.0</td>\n      <td>0</td>\n      <td>2010-07-03 10:58:00</td>\n      <td>ZZF3O2KG</td>\n      <td>NaN</td>\n      <td>NaN</td>\n      <td>NaN</td>\n      <td>...</td>\n      <td>NaN</td>\n      <td>NaN</td>\n      <td>NaN</td>\n      <td>NaN</td>\n      <td>NaN</td>\n      <td>NaN</td>\n      <td>NaN</td>\n      <td>NaN</td>\n      <td>NaN</td>\n      <td>NaN</td>\n    </tr>\n    <tr>\n      <th>296289</th>\n      <td>ZZF3O2KG_20100629</td>\n      <td>2010-07-05 10:00:00</td>\n      <td>11.5</td>\n      <td>262.0</td>\n      <td>0</td>\n      <td>2010-07-03 10:58:00</td>\n      <td>ZZF3O2KG</td>\n      <td>NaN</td>\n      <td>NaN</td>\n      <td>NaN</td>\n      <td>...</td>\n      <td>NaN</td>\n      <td>NaN</td>\n      <td>NaN</td>\n      <td>NaN</td>\n      <td>NaN</td>\n      <td>NaN</td>\n      <td>NaN</td>\n      <td>NaN</td>\n      <td>NaN</td>\n      <td>NaN</td>\n    </tr>\n    <tr>\n      <th>296290</th>\n      <td>ZZF3O2KG_20100629</td>\n      <td>2010-07-05 11:00:00</td>\n      <td>11.5</td>\n      <td>262.0</td>\n      <td>0</td>\n      <td>2010-07-03 10:58:00</td>\n      <td>ZZF3O2KG</td>\n      <td>NaN</td>\n      <td>NaN</td>\n      <td>NaN</td>\n      <td>...</td>\n      <td>NaN</td>\n      <td>NaN</td>\n      <td>NaN</td>\n      <td>NaN</td>\n      <td>NaN</td>\n      <td>NaN</td>\n      <td>NaN</td>\n      <td>NaN</td>\n      <td>NaN</td>\n      <td>NaN</td>\n    </tr>\n    <tr>\n      <th>296291</th>\n      <td>ZZF3O2KG_20100629</td>\n      <td>2010-07-05 12:00:00</td>\n      <td>12.0</td>\n      <td>268.0</td>\n      <td>0</td>\n      <td>2010-07-05 12:28:00</td>\n      <td>ZZF3O2KG</td>\n      <td>NaN</td>\n      <td>NaN</td>\n      <td>NaN</td>\n      <td>...</td>\n      <td>NaN</td>\n      <td>NaN</td>\n      <td>NaN</td>\n      <td>NaN</td>\n      <td>NaN</td>\n      <td>NaN</td>\n      <td>NaN</td>\n      <td>NaN</td>\n      <td>NaN</td>\n      <td>NaN</td>\n    </tr>\n  </tbody>\n</table>\n<p>296292 rows × 23 columns</p>\n</div>"
     },
     "metadata": {},
     "execution_count": 156
    }
   ],
   "source": [
    "\n",
    "valid_blood_nl = pd.merge(valid_blood_cbc_nl, valid_blood_chem_nl, how = 'left', \\\n",
    "on = ['patient_id', 'adjusted_time'])\n",
    "\n",
    "blood_properties = ['WBC Count', 'Platelet Count', 'Hgb','BUN', 'Creatinin', 'Glucose', \n",
    "                'Sodium', 'Potassium', 'Chloride', 'Total protein', 'Total bilirubin',\n",
    "                'Albumin', 'CRP','Total calcium', 'Lactate', 'Alkaline phosphatase',\n",
    "                'AST', 'ALT']\n",
    "valid_blood_nl"
   ]
  },
  {
   "cell_type": "code",
   "execution_count": 157,
   "metadata": {},
   "outputs": [],
   "source": [
    "\n",
    "valid_blood['adjusted_time'] = pd.to_datetime(valid_blood['adjusted_time'])\n",
    "\n",
    "# merge blood data into valid_data\n",
    "valid_data = get_merge_data(valid_data, valid_blood)\n",
    "valid_data = valid_data.rename(columns = {\n",
    "    'patient_id': 'Patient'\n",
    "})\n",
    "valid_data['is_abn'] = 1\n",
    "\n",
    "valid_data.to_csv(os.path.join(dp.valid_path, 'valid_merge.csv'), index = False)\n",
    "\n",
    "window_len = 8\n",
    "\n",
    "var_list = list(set(valid_data.columns)\n",
    "                - set([ 'Patient', 'adjusted_time', 'detection_time', 'measurement_time', 'event_time', 'target', 'is_abn']) )\n"
   ]
  },
  {
   "cell_type": "code",
   "execution_count": 158,
   "metadata": {},
   "outputs": [
    {
     "output_type": "execute_result",
     "data": {
      "text/plain": [
       "        Patient       adjusted_time    measurement_time     HR    RR    SBP  \\\n",
       "0      ABG1W8Y6 2009-09-28 12:00:00 2009-09-28 12:00:00  103.0  24.0  130.0   \n",
       "1      ABG1W8Y6 2009-09-28 13:00:00 2009-09-28 13:00:00   91.0  19.0  139.0   \n",
       "2      ABG1W8Y6 2009-09-28 14:00:00 2009-09-28 14:00:00   84.0  18.0  141.0   \n",
       "3      ABG1W8Y6 2009-09-28 15:00:00 2009-09-28 15:00:00   84.0  20.0  153.5   \n",
       "4      ABG1W8Y6 2009-09-28 16:00:00 2009-09-28 16:00:00   85.0  21.0  150.5   \n",
       "...         ...                 ...                 ...    ...   ...    ...   \n",
       "16806  ZPWAIZ82 2010-11-27 17:00:00 2010-11-27 17:00:00  114.0  35.0  133.0   \n",
       "16807  ZPWAIZ82 2010-11-27 18:00:00 2010-11-27 18:00:00  111.0  26.0  141.0   \n",
       "16808  ZPWAIZ82 2010-11-27 19:00:00 2010-11-27 19:00:00  105.0  27.0  128.0   \n",
       "16809  ZPWAIZ82 2010-11-27 20:00:00 2010-11-27 20:00:00  110.0  28.0  131.0   \n",
       "16810  ZPWAIZ82 2010-11-27 21:00:00 2010-11-27 21:00:00  115.0  32.0  128.0   \n",
       "\n",
       "       SaO2    BT  Gender      detection_time  ... Chloride  Creatinin  \\\n",
       "0      98.0  37.1     0.0 2009-09-28 06:00:00  ...      NaN        NaN   \n",
       "1      97.0  36.2     0.0 2009-09-28 06:00:00  ...      NaN        NaN   \n",
       "2      97.0  37.2     0.0 2009-09-28 06:00:00  ...      NaN        NaN   \n",
       "3      98.0  36.3     0.0 2009-09-28 06:00:00  ...      NaN        NaN   \n",
       "4      98.0  37.0     0.0 2009-09-28 06:00:00  ...      NaN        NaN   \n",
       "...     ...   ...     ...                 ...  ...      ...        ...   \n",
       "16806  96.0  36.5     1.0 2010-11-27 08:00:00  ...      NaN        NaN   \n",
       "16807  93.0  36.5     1.0 2010-11-27 08:00:00  ...      NaN        NaN   \n",
       "16808  94.0  36.3     1.0 2010-11-27 08:00:00  ...      NaN        NaN   \n",
       "16809  92.0  36.5     1.0 2010-11-27 08:00:00  ...      NaN        NaN   \n",
       "16810  94.0  36.6     1.0 2010-11-27 08:00:00  ...      NaN        NaN   \n",
       "\n",
       "       Glucose  Lactate  Potassium  Sodium  Total bilirubin  Total calcium  \\\n",
       "0          NaN      NaN        NaN     NaN              NaN            NaN   \n",
       "1          NaN      NaN        NaN     NaN              NaN            NaN   \n",
       "2          NaN      NaN        NaN     NaN              NaN            NaN   \n",
       "3          NaN      NaN        NaN     NaN              NaN            NaN   \n",
       "4          NaN      NaN        NaN     NaN              NaN            NaN   \n",
       "...        ...      ...        ...     ...              ...            ...   \n",
       "16806      NaN      NaN        NaN     NaN              NaN            NaN   \n",
       "16807      NaN      NaN        NaN     NaN              NaN            NaN   \n",
       "16808      NaN      NaN        NaN     NaN              NaN            NaN   \n",
       "16809      NaN      NaN        NaN     NaN              NaN            NaN   \n",
       "16810      NaN      NaN        NaN     NaN              NaN            NaN   \n",
       "\n",
       "       Total protein  is_abn  \n",
       "0                NaN       1  \n",
       "1                NaN       1  \n",
       "2                NaN       1  \n",
       "3                NaN       1  \n",
       "4                NaN       1  \n",
       "...              ...     ...  \n",
       "16806            NaN       1  \n",
       "16807            NaN       1  \n",
       "16808            NaN       1  \n",
       "16809            NaN       1  \n",
       "16810            NaN       1  \n",
       "\n",
       "[16811 rows x 33 columns]"
      ],
      "text/html": "<div>\n<style scoped>\n    .dataframe tbody tr th:only-of-type {\n        vertical-align: middle;\n    }\n\n    .dataframe tbody tr th {\n        vertical-align: top;\n    }\n\n    .dataframe thead th {\n        text-align: right;\n    }\n</style>\n<table border=\"1\" class=\"dataframe\">\n  <thead>\n    <tr style=\"text-align: right;\">\n      <th></th>\n      <th>Patient</th>\n      <th>adjusted_time</th>\n      <th>measurement_time</th>\n      <th>HR</th>\n      <th>RR</th>\n      <th>SBP</th>\n      <th>SaO2</th>\n      <th>BT</th>\n      <th>Gender</th>\n      <th>detection_time</th>\n      <th>...</th>\n      <th>Chloride</th>\n      <th>Creatinin</th>\n      <th>Glucose</th>\n      <th>Lactate</th>\n      <th>Potassium</th>\n      <th>Sodium</th>\n      <th>Total bilirubin</th>\n      <th>Total calcium</th>\n      <th>Total protein</th>\n      <th>is_abn</th>\n    </tr>\n  </thead>\n  <tbody>\n    <tr>\n      <th>0</th>\n      <td>ABG1W8Y6</td>\n      <td>2009-09-28 12:00:00</td>\n      <td>2009-09-28 12:00:00</td>\n      <td>103.0</td>\n      <td>24.0</td>\n      <td>130.0</td>\n      <td>98.0</td>\n      <td>37.1</td>\n      <td>0.0</td>\n      <td>2009-09-28 06:00:00</td>\n      <td>...</td>\n      <td>NaN</td>\n      <td>NaN</td>\n      <td>NaN</td>\n      <td>NaN</td>\n      <td>NaN</td>\n      <td>NaN</td>\n      <td>NaN</td>\n      <td>NaN</td>\n      <td>NaN</td>\n      <td>1</td>\n    </tr>\n    <tr>\n      <th>1</th>\n      <td>ABG1W8Y6</td>\n      <td>2009-09-28 13:00:00</td>\n      <td>2009-09-28 13:00:00</td>\n      <td>91.0</td>\n      <td>19.0</td>\n      <td>139.0</td>\n      <td>97.0</td>\n      <td>36.2</td>\n      <td>0.0</td>\n      <td>2009-09-28 06:00:00</td>\n      <td>...</td>\n      <td>NaN</td>\n      <td>NaN</td>\n      <td>NaN</td>\n      <td>NaN</td>\n      <td>NaN</td>\n      <td>NaN</td>\n      <td>NaN</td>\n      <td>NaN</td>\n      <td>NaN</td>\n      <td>1</td>\n    </tr>\n    <tr>\n      <th>2</th>\n      <td>ABG1W8Y6</td>\n      <td>2009-09-28 14:00:00</td>\n      <td>2009-09-28 14:00:00</td>\n      <td>84.0</td>\n      <td>18.0</td>\n      <td>141.0</td>\n      <td>97.0</td>\n      <td>37.2</td>\n      <td>0.0</td>\n      <td>2009-09-28 06:00:00</td>\n      <td>...</td>\n      <td>NaN</td>\n      <td>NaN</td>\n      <td>NaN</td>\n      <td>NaN</td>\n      <td>NaN</td>\n      <td>NaN</td>\n      <td>NaN</td>\n      <td>NaN</td>\n      <td>NaN</td>\n      <td>1</td>\n    </tr>\n    <tr>\n      <th>3</th>\n      <td>ABG1W8Y6</td>\n      <td>2009-09-28 15:00:00</td>\n      <td>2009-09-28 15:00:00</td>\n      <td>84.0</td>\n      <td>20.0</td>\n      <td>153.5</td>\n      <td>98.0</td>\n      <td>36.3</td>\n      <td>0.0</td>\n      <td>2009-09-28 06:00:00</td>\n      <td>...</td>\n      <td>NaN</td>\n      <td>NaN</td>\n      <td>NaN</td>\n      <td>NaN</td>\n      <td>NaN</td>\n      <td>NaN</td>\n      <td>NaN</td>\n      <td>NaN</td>\n      <td>NaN</td>\n      <td>1</td>\n    </tr>\n    <tr>\n      <th>4</th>\n      <td>ABG1W8Y6</td>\n      <td>2009-09-28 16:00:00</td>\n      <td>2009-09-28 16:00:00</td>\n      <td>85.0</td>\n      <td>21.0</td>\n      <td>150.5</td>\n      <td>98.0</td>\n      <td>37.0</td>\n      <td>0.0</td>\n      <td>2009-09-28 06:00:00</td>\n      <td>...</td>\n      <td>NaN</td>\n      <td>NaN</td>\n      <td>NaN</td>\n      <td>NaN</td>\n      <td>NaN</td>\n      <td>NaN</td>\n      <td>NaN</td>\n      <td>NaN</td>\n      <td>NaN</td>\n      <td>1</td>\n    </tr>\n    <tr>\n      <th>...</th>\n      <td>...</td>\n      <td>...</td>\n      <td>...</td>\n      <td>...</td>\n      <td>...</td>\n      <td>...</td>\n      <td>...</td>\n      <td>...</td>\n      <td>...</td>\n      <td>...</td>\n      <td>...</td>\n      <td>...</td>\n      <td>...</td>\n      <td>...</td>\n      <td>...</td>\n      <td>...</td>\n      <td>...</td>\n      <td>...</td>\n      <td>...</td>\n      <td>...</td>\n      <td>...</td>\n    </tr>\n    <tr>\n      <th>16806</th>\n      <td>ZPWAIZ82</td>\n      <td>2010-11-27 17:00:00</td>\n      <td>2010-11-27 17:00:00</td>\n      <td>114.0</td>\n      <td>35.0</td>\n      <td>133.0</td>\n      <td>96.0</td>\n      <td>36.5</td>\n      <td>1.0</td>\n      <td>2010-11-27 08:00:00</td>\n      <td>...</td>\n      <td>NaN</td>\n      <td>NaN</td>\n      <td>NaN</td>\n      <td>NaN</td>\n      <td>NaN</td>\n      <td>NaN</td>\n      <td>NaN</td>\n      <td>NaN</td>\n      <td>NaN</td>\n      <td>1</td>\n    </tr>\n    <tr>\n      <th>16807</th>\n      <td>ZPWAIZ82</td>\n      <td>2010-11-27 18:00:00</td>\n      <td>2010-11-27 18:00:00</td>\n      <td>111.0</td>\n      <td>26.0</td>\n      <td>141.0</td>\n      <td>93.0</td>\n      <td>36.5</td>\n      <td>1.0</td>\n      <td>2010-11-27 08:00:00</td>\n      <td>...</td>\n      <td>NaN</td>\n      <td>NaN</td>\n      <td>NaN</td>\n      <td>NaN</td>\n      <td>NaN</td>\n      <td>NaN</td>\n      <td>NaN</td>\n      <td>NaN</td>\n      <td>NaN</td>\n      <td>1</td>\n    </tr>\n    <tr>\n      <th>16808</th>\n      <td>ZPWAIZ82</td>\n      <td>2010-11-27 19:00:00</td>\n      <td>2010-11-27 19:00:00</td>\n      <td>105.0</td>\n      <td>27.0</td>\n      <td>128.0</td>\n      <td>94.0</td>\n      <td>36.3</td>\n      <td>1.0</td>\n      <td>2010-11-27 08:00:00</td>\n      <td>...</td>\n      <td>NaN</td>\n      <td>NaN</td>\n      <td>NaN</td>\n      <td>NaN</td>\n      <td>NaN</td>\n      <td>NaN</td>\n      <td>NaN</td>\n      <td>NaN</td>\n      <td>NaN</td>\n      <td>1</td>\n    </tr>\n    <tr>\n      <th>16809</th>\n      <td>ZPWAIZ82</td>\n      <td>2010-11-27 20:00:00</td>\n      <td>2010-11-27 20:00:00</td>\n      <td>110.0</td>\n      <td>28.0</td>\n      <td>131.0</td>\n      <td>92.0</td>\n      <td>36.5</td>\n      <td>1.0</td>\n      <td>2010-11-27 08:00:00</td>\n      <td>...</td>\n      <td>NaN</td>\n      <td>NaN</td>\n      <td>NaN</td>\n      <td>NaN</td>\n      <td>NaN</td>\n      <td>NaN</td>\n      <td>NaN</td>\n      <td>NaN</td>\n      <td>NaN</td>\n      <td>1</td>\n    </tr>\n    <tr>\n      <th>16810</th>\n      <td>ZPWAIZ82</td>\n      <td>2010-11-27 21:00:00</td>\n      <td>2010-11-27 21:00:00</td>\n      <td>115.0</td>\n      <td>32.0</td>\n      <td>128.0</td>\n      <td>94.0</td>\n      <td>36.6</td>\n      <td>1.0</td>\n      <td>2010-11-27 08:00:00</td>\n      <td>...</td>\n      <td>NaN</td>\n      <td>NaN</td>\n      <td>NaN</td>\n      <td>NaN</td>\n      <td>NaN</td>\n      <td>NaN</td>\n      <td>NaN</td>\n      <td>NaN</td>\n      <td>NaN</td>\n      <td>1</td>\n    </tr>\n  </tbody>\n</table>\n<p>16811 rows × 33 columns</p>\n</div>"
     },
     "metadata": {},
     "execution_count": 158
    }
   ],
   "source": [
    "valid_data"
   ]
  },
  {
   "cell_type": "code",
   "execution_count": 165,
   "metadata": {},
   "outputs": [
    {
     "output_type": "execute_result",
     "data": {
      "text/plain": [
       "       patient_id       adjusted_time  measurement_time_x     HR    RR    SBP  \\\n",
       "0        A1YFM8RK 2016-12-14 17:00:00 2016-12-14 17:00:00   72.0  18.0  134.5   \n",
       "1        A1YFM8RK 2016-12-14 18:00:00 2016-12-14 18:00:00   62.0  18.0  135.0   \n",
       "2        A1YFM8RK 2016-12-14 19:00:00 2016-12-14 19:00:00   62.0  22.0  123.0   \n",
       "3        A1YFM8RK 2016-12-14 20:00:00 2016-12-14 20:00:00   64.0  19.0  118.0   \n",
       "4        A1YFM8RK 2016-12-14 21:00:00 2016-12-14 21:00:00   69.0  14.0  120.0   \n",
       "...           ...                 ...                 ...    ...   ...    ...   \n",
       "476325   ZYEBEIQI 2014-06-17 20:00:00 2014-06-17 13:00:00  103.0  22.0  106.0   \n",
       "476326   ZYEBEIQI 2014-06-17 21:00:00 2014-06-17 13:00:00  103.0  22.0  106.0   \n",
       "476327   ZYEBEIQI 2014-06-17 22:00:00 2014-06-17 13:00:00  103.0  22.0  106.0   \n",
       "476328   ZYEBEIQI 2014-06-17 23:00:00 2014-06-17 13:00:00  103.0  22.0  106.0   \n",
       "476329   ZYEBEIQI 2014-06-18 00:00:00 2014-06-18 00:00:00   95.0  28.0  106.0   \n",
       "\n",
       "         SaO2    BT  Gender  target  ...   CRP  Chloride Creatinin  Glucose  \\\n",
       "0        99.0  36.6     1.0     0.0  ...  0.14       2.0       1.6      2.0   \n",
       "1        99.0  37.0     1.0     0.0  ...  0.14       2.0       1.6      2.0   \n",
       "2       100.0  37.1     1.0     0.0  ...  0.14       2.0       1.6      2.0   \n",
       "3       100.0  36.9     1.0     0.0  ...  0.14       2.0       1.6      2.0   \n",
       "4       100.0  36.6     1.0     0.0  ...  0.14       2.0       1.6      2.0   \n",
       "...       ...   ...     ...     ...  ...   ...       ...       ...      ...   \n",
       "476325   98.0  36.4     1.0     0.0  ...   NaN       NaN       NaN      NaN   \n",
       "476326   98.0  36.4     1.0     0.0  ...   NaN       NaN       NaN      NaN   \n",
       "476327   98.0  36.4     1.0     0.0  ...   NaN       NaN       NaN      NaN   \n",
       "476328   98.0  36.4     1.0     0.0  ...   NaN       NaN       NaN      NaN   \n",
       "476329   93.0  37.5     1.0     0.0  ...   NaN       NaN       NaN      NaN   \n",
       "\n",
       "        Lactate  Potassium Sodium Total bilirubin  Total calcium  \\\n",
       "0           2.2        1.0    1.0             0.6            6.4   \n",
       "1           2.2        1.0    1.0             0.6            6.4   \n",
       "2           2.2        1.0    1.0             0.6            6.4   \n",
       "3           2.2        1.0    1.0             0.6            6.4   \n",
       "4           2.2        1.0    1.0             0.6            6.4   \n",
       "...         ...        ...    ...             ...            ...   \n",
       "476325      NaN        NaN    NaN             NaN            NaN   \n",
       "476326      NaN        NaN    NaN             NaN            NaN   \n",
       "476327      NaN        NaN    NaN             NaN            NaN   \n",
       "476328      NaN        NaN    NaN             NaN            NaN   \n",
       "476329      NaN        NaN    NaN             NaN            NaN   \n",
       "\n",
       "        Total protein  \n",
       "0                 3.9  \n",
       "1                 3.9  \n",
       "2                 3.9  \n",
       "3                 3.9  \n",
       "4                 3.9  \n",
       "...               ...  \n",
       "476325            NaN  \n",
       "476326            NaN  \n",
       "476327            NaN  \n",
       "476328            NaN  \n",
       "476329            NaN  \n",
       "\n",
       "[476330 rows x 33 columns]"
      ],
      "text/html": "<div>\n<style scoped>\n    .dataframe tbody tr th:only-of-type {\n        vertical-align: middle;\n    }\n\n    .dataframe tbody tr th {\n        vertical-align: top;\n    }\n\n    .dataframe thead th {\n        text-align: right;\n    }\n</style>\n<table border=\"1\" class=\"dataframe\">\n  <thead>\n    <tr style=\"text-align: right;\">\n      <th></th>\n      <th>patient_id</th>\n      <th>adjusted_time</th>\n      <th>measurement_time_x</th>\n      <th>HR</th>\n      <th>RR</th>\n      <th>SBP</th>\n      <th>SaO2</th>\n      <th>BT</th>\n      <th>Gender</th>\n      <th>target</th>\n      <th>...</th>\n      <th>CRP</th>\n      <th>Chloride</th>\n      <th>Creatinin</th>\n      <th>Glucose</th>\n      <th>Lactate</th>\n      <th>Potassium</th>\n      <th>Sodium</th>\n      <th>Total bilirubin</th>\n      <th>Total calcium</th>\n      <th>Total protein</th>\n    </tr>\n  </thead>\n  <tbody>\n    <tr>\n      <th>0</th>\n      <td>A1YFM8RK</td>\n      <td>2016-12-14 17:00:00</td>\n      <td>2016-12-14 17:00:00</td>\n      <td>72.0</td>\n      <td>18.0</td>\n      <td>134.5</td>\n      <td>99.0</td>\n      <td>36.6</td>\n      <td>1.0</td>\n      <td>0.0</td>\n      <td>...</td>\n      <td>0.14</td>\n      <td>2.0</td>\n      <td>1.6</td>\n      <td>2.0</td>\n      <td>2.2</td>\n      <td>1.0</td>\n      <td>1.0</td>\n      <td>0.6</td>\n      <td>6.4</td>\n      <td>3.9</td>\n    </tr>\n    <tr>\n      <th>1</th>\n      <td>A1YFM8RK</td>\n      <td>2016-12-14 18:00:00</td>\n      <td>2016-12-14 18:00:00</td>\n      <td>62.0</td>\n      <td>18.0</td>\n      <td>135.0</td>\n      <td>99.0</td>\n      <td>37.0</td>\n      <td>1.0</td>\n      <td>0.0</td>\n      <td>...</td>\n      <td>0.14</td>\n      <td>2.0</td>\n      <td>1.6</td>\n      <td>2.0</td>\n      <td>2.2</td>\n      <td>1.0</td>\n      <td>1.0</td>\n      <td>0.6</td>\n      <td>6.4</td>\n      <td>3.9</td>\n    </tr>\n    <tr>\n      <th>2</th>\n      <td>A1YFM8RK</td>\n      <td>2016-12-14 19:00:00</td>\n      <td>2016-12-14 19:00:00</td>\n      <td>62.0</td>\n      <td>22.0</td>\n      <td>123.0</td>\n      <td>100.0</td>\n      <td>37.1</td>\n      <td>1.0</td>\n      <td>0.0</td>\n      <td>...</td>\n      <td>0.14</td>\n      <td>2.0</td>\n      <td>1.6</td>\n      <td>2.0</td>\n      <td>2.2</td>\n      <td>1.0</td>\n      <td>1.0</td>\n      <td>0.6</td>\n      <td>6.4</td>\n      <td>3.9</td>\n    </tr>\n    <tr>\n      <th>3</th>\n      <td>A1YFM8RK</td>\n      <td>2016-12-14 20:00:00</td>\n      <td>2016-12-14 20:00:00</td>\n      <td>64.0</td>\n      <td>19.0</td>\n      <td>118.0</td>\n      <td>100.0</td>\n      <td>36.9</td>\n      <td>1.0</td>\n      <td>0.0</td>\n      <td>...</td>\n      <td>0.14</td>\n      <td>2.0</td>\n      <td>1.6</td>\n      <td>2.0</td>\n      <td>2.2</td>\n      <td>1.0</td>\n      <td>1.0</td>\n      <td>0.6</td>\n      <td>6.4</td>\n      <td>3.9</td>\n    </tr>\n    <tr>\n      <th>4</th>\n      <td>A1YFM8RK</td>\n      <td>2016-12-14 21:00:00</td>\n      <td>2016-12-14 21:00:00</td>\n      <td>69.0</td>\n      <td>14.0</td>\n      <td>120.0</td>\n      <td>100.0</td>\n      <td>36.6</td>\n      <td>1.0</td>\n      <td>0.0</td>\n      <td>...</td>\n      <td>0.14</td>\n      <td>2.0</td>\n      <td>1.6</td>\n      <td>2.0</td>\n      <td>2.2</td>\n      <td>1.0</td>\n      <td>1.0</td>\n      <td>0.6</td>\n      <td>6.4</td>\n      <td>3.9</td>\n    </tr>\n    <tr>\n      <th>...</th>\n      <td>...</td>\n      <td>...</td>\n      <td>...</td>\n      <td>...</td>\n      <td>...</td>\n      <td>...</td>\n      <td>...</td>\n      <td>...</td>\n      <td>...</td>\n      <td>...</td>\n      <td>...</td>\n      <td>...</td>\n      <td>...</td>\n      <td>...</td>\n      <td>...</td>\n      <td>...</td>\n      <td>...</td>\n      <td>...</td>\n      <td>...</td>\n      <td>...</td>\n      <td>...</td>\n    </tr>\n    <tr>\n      <th>476325</th>\n      <td>ZYEBEIQI</td>\n      <td>2014-06-17 20:00:00</td>\n      <td>2014-06-17 13:00:00</td>\n      <td>103.0</td>\n      <td>22.0</td>\n      <td>106.0</td>\n      <td>98.0</td>\n      <td>36.4</td>\n      <td>1.0</td>\n      <td>0.0</td>\n      <td>...</td>\n      <td>NaN</td>\n      <td>NaN</td>\n      <td>NaN</td>\n      <td>NaN</td>\n      <td>NaN</td>\n      <td>NaN</td>\n      <td>NaN</td>\n      <td>NaN</td>\n      <td>NaN</td>\n      <td>NaN</td>\n    </tr>\n    <tr>\n      <th>476326</th>\n      <td>ZYEBEIQI</td>\n      <td>2014-06-17 21:00:00</td>\n      <td>2014-06-17 13:00:00</td>\n      <td>103.0</td>\n      <td>22.0</td>\n      <td>106.0</td>\n      <td>98.0</td>\n      <td>36.4</td>\n      <td>1.0</td>\n      <td>0.0</td>\n      <td>...</td>\n      <td>NaN</td>\n      <td>NaN</td>\n      <td>NaN</td>\n      <td>NaN</td>\n      <td>NaN</td>\n      <td>NaN</td>\n      <td>NaN</td>\n      <td>NaN</td>\n      <td>NaN</td>\n      <td>NaN</td>\n    </tr>\n    <tr>\n      <th>476327</th>\n      <td>ZYEBEIQI</td>\n      <td>2014-06-17 22:00:00</td>\n      <td>2014-06-17 13:00:00</td>\n      <td>103.0</td>\n      <td>22.0</td>\n      <td>106.0</td>\n      <td>98.0</td>\n      <td>36.4</td>\n      <td>1.0</td>\n      <td>0.0</td>\n      <td>...</td>\n      <td>NaN</td>\n      <td>NaN</td>\n      <td>NaN</td>\n      <td>NaN</td>\n      <td>NaN</td>\n      <td>NaN</td>\n      <td>NaN</td>\n      <td>NaN</td>\n      <td>NaN</td>\n      <td>NaN</td>\n    </tr>\n    <tr>\n      <th>476328</th>\n      <td>ZYEBEIQI</td>\n      <td>2014-06-17 23:00:00</td>\n      <td>2014-06-17 13:00:00</td>\n      <td>103.0</td>\n      <td>22.0</td>\n      <td>106.0</td>\n      <td>98.0</td>\n      <td>36.4</td>\n      <td>1.0</td>\n      <td>0.0</td>\n      <td>...</td>\n      <td>NaN</td>\n      <td>NaN</td>\n      <td>NaN</td>\n      <td>NaN</td>\n      <td>NaN</td>\n      <td>NaN</td>\n      <td>NaN</td>\n      <td>NaN</td>\n      <td>NaN</td>\n      <td>NaN</td>\n    </tr>\n    <tr>\n      <th>476329</th>\n      <td>ZYEBEIQI</td>\n      <td>2014-06-18 00:00:00</td>\n      <td>2014-06-18 00:00:00</td>\n      <td>95.0</td>\n      <td>28.0</td>\n      <td>106.0</td>\n      <td>93.0</td>\n      <td>37.5</td>\n      <td>1.0</td>\n      <td>0.0</td>\n      <td>...</td>\n      <td>NaN</td>\n      <td>NaN</td>\n      <td>NaN</td>\n      <td>NaN</td>\n      <td>NaN</td>\n      <td>NaN</td>\n      <td>NaN</td>\n      <td>NaN</td>\n      <td>NaN</td>\n      <td>NaN</td>\n    </tr>\n  </tbody>\n</table>\n<p>476330 rows × 33 columns</p>\n</div>"
     },
     "metadata": {},
     "execution_count": 165
    }
   ],
   "source": [
    "\n",
    "valid_blood_nl['adjusted_time'] = pd.to_datetime(valid_blood_nl['adjusted_time'])\n",
    "valid_nl['adjusted_time'] = pd.to_datetime(valid_nl['adjusted_time'])\n",
    "\n",
    "# merge blood data into valid_data\n",
    "valid_data_nl = get_merge_data(valid_nl, valid_blood_nl)\n",
    " "
   ]
  },
  {
   "cell_type": "code",
   "execution_count": 172,
   "metadata": {},
   "outputs": [],
   "source": [
    "valid_data_nl = valid_data_nl.drop(['measurement_time_y', 'patient_x', 'patient_y'], axis = 1)\n",
    "valid_data_nl = valid_data_nl.rename(columns={\n",
    "    'measurement_time_x': 'measurement_time'\n",
    "})"
   ]
  },
  {
   "cell_type": "code",
   "execution_count": 173,
   "metadata": {},
   "outputs": [
    {
     "output_type": "execute_result",
     "data": {
      "text/plain": [
       "Index(['patient_id', 'adjusted_time', 'measurement_time', 'HR', 'RR', 'SBP',\n",
       "       'SaO2', 'BT', 'Gender', 'target', 'TS', 'Age', 'Hgb', 'platelet',\n",
       "       'WBC Count', 'ALT', 'AST', 'Albumin', 'Alkaline phosphatase', 'BUN',\n",
       "       'CRP', 'Chloride', 'Creatinin', 'Glucose', 'Lactate', 'Potassium',\n",
       "       'Sodium', 'Total bilirubin', 'Total calcium', 'Total protein'],\n",
       "      dtype='object')"
      ]
     },
     "metadata": {},
     "execution_count": 173
    }
   ],
   "source": [
    "valid_data_nl.columns"
   ]
  },
  {
   "cell_type": "code",
   "execution_count": 174,
   "metadata": {},
   "outputs": [],
   "source": [
    "valid_data_nl = valid_data_nl.rename(columns = {\n",
    "    'patient_id': 'Patient'\n",
    "})\n",
    "valid_data_nl['is_abn'] = 0\n",
    "\n",
    "valid_data_nl.to_csv(os.path.join(dp.valid_path, 'valid_nl_merge.csv'), index = False)\n",
    "\n",
    "window_len = 8\n",
    "\n",
    "var_list = list(set(valid_data_nl.columns)\n",
    "                - set([ 'Patient', 'adjusted_time', 'measurement_time' 'target', 'is_abn']) )"
   ]
  },
  {
   "cell_type": "code",
   "execution_count": 175,
   "metadata": {},
   "outputs": [
    {
     "output_type": "execute_result",
     "data": {
      "text/plain": [
       "       patient_id    measurement_time       adjusted_time     HR    RR    SBP  \\\n",
       "0        A1YFM8RK 2016-12-14 17:00:00 2016-12-14 17:00:00   72.0  18.0  134.5   \n",
       "1        A1YFM8RK 2016-12-14 18:00:00 2016-12-14 18:00:00   62.0  18.0  135.0   \n",
       "2        A1YFM8RK 2016-12-14 19:00:00 2016-12-14 19:00:00   62.0  22.0  123.0   \n",
       "3        A1YFM8RK 2016-12-14 20:00:00 2016-12-14 20:00:00   64.0  19.0  118.0   \n",
       "4        A1YFM8RK 2016-12-14 21:00:00 2016-12-14 21:00:00   69.0  14.0  120.0   \n",
       "...           ...                 ...                 ...    ...   ...    ...   \n",
       "476325   ZYEBEIQI 2014-06-17 20:00:00 2014-06-17 13:00:00  103.0  22.0  106.0   \n",
       "476326   ZYEBEIQI 2014-06-17 21:00:00 2014-06-17 13:00:00  103.0  22.0  106.0   \n",
       "476327   ZYEBEIQI 2014-06-17 22:00:00 2014-06-17 13:00:00  103.0  22.0  106.0   \n",
       "476328   ZYEBEIQI 2014-06-17 23:00:00 2014-06-17 13:00:00  103.0  22.0  106.0   \n",
       "476329   ZYEBEIQI 2014-06-18 00:00:00 2014-06-18 00:00:00   95.0  28.0  106.0   \n",
       "\n",
       "         SaO2    BT  Gender  target   TS  Age  \n",
       "0        99.0  36.6       1       0    1   47  \n",
       "1        99.0  37.0       1       0    2   47  \n",
       "2       100.0  37.1       1       0    3   47  \n",
       "3       100.0  36.9       1       0    4   47  \n",
       "4       100.0  36.6       1       0    5   47  \n",
       "...       ...   ...     ...     ...  ...  ...  \n",
       "476325   98.0  36.4       1       0  168   44  \n",
       "476326   98.0  36.4       1       0  169   44  \n",
       "476327   98.0  36.4       1       0  170   44  \n",
       "476328   98.0  36.4       1       0  171   44  \n",
       "476329   93.0  37.5       1       0  172   44  \n",
       "\n",
       "[476330 rows x 12 columns]"
      ],
      "text/html": "<div>\n<style scoped>\n    .dataframe tbody tr th:only-of-type {\n        vertical-align: middle;\n    }\n\n    .dataframe tbody tr th {\n        vertical-align: top;\n    }\n\n    .dataframe thead th {\n        text-align: right;\n    }\n</style>\n<table border=\"1\" class=\"dataframe\">\n  <thead>\n    <tr style=\"text-align: right;\">\n      <th></th>\n      <th>patient_id</th>\n      <th>measurement_time</th>\n      <th>adjusted_time</th>\n      <th>HR</th>\n      <th>RR</th>\n      <th>SBP</th>\n      <th>SaO2</th>\n      <th>BT</th>\n      <th>Gender</th>\n      <th>target</th>\n      <th>TS</th>\n      <th>Age</th>\n    </tr>\n  </thead>\n  <tbody>\n    <tr>\n      <th>0</th>\n      <td>A1YFM8RK</td>\n      <td>2016-12-14 17:00:00</td>\n      <td>2016-12-14 17:00:00</td>\n      <td>72.0</td>\n      <td>18.0</td>\n      <td>134.5</td>\n      <td>99.0</td>\n      <td>36.6</td>\n      <td>1</td>\n      <td>0</td>\n      <td>1</td>\n      <td>47</td>\n    </tr>\n    <tr>\n      <th>1</th>\n      <td>A1YFM8RK</td>\n      <td>2016-12-14 18:00:00</td>\n      <td>2016-12-14 18:00:00</td>\n      <td>62.0</td>\n      <td>18.0</td>\n      <td>135.0</td>\n      <td>99.0</td>\n      <td>37.0</td>\n      <td>1</td>\n      <td>0</td>\n      <td>2</td>\n      <td>47</td>\n    </tr>\n    <tr>\n      <th>2</th>\n      <td>A1YFM8RK</td>\n      <td>2016-12-14 19:00:00</td>\n      <td>2016-12-14 19:00:00</td>\n      <td>62.0</td>\n      <td>22.0</td>\n      <td>123.0</td>\n      <td>100.0</td>\n      <td>37.1</td>\n      <td>1</td>\n      <td>0</td>\n      <td>3</td>\n      <td>47</td>\n    </tr>\n    <tr>\n      <th>3</th>\n      <td>A1YFM8RK</td>\n      <td>2016-12-14 20:00:00</td>\n      <td>2016-12-14 20:00:00</td>\n      <td>64.0</td>\n      <td>19.0</td>\n      <td>118.0</td>\n      <td>100.0</td>\n      <td>36.9</td>\n      <td>1</td>\n      <td>0</td>\n      <td>4</td>\n      <td>47</td>\n    </tr>\n    <tr>\n      <th>4</th>\n      <td>A1YFM8RK</td>\n      <td>2016-12-14 21:00:00</td>\n      <td>2016-12-14 21:00:00</td>\n      <td>69.0</td>\n      <td>14.0</td>\n      <td>120.0</td>\n      <td>100.0</td>\n      <td>36.6</td>\n      <td>1</td>\n      <td>0</td>\n      <td>5</td>\n      <td>47</td>\n    </tr>\n    <tr>\n      <th>...</th>\n      <td>...</td>\n      <td>...</td>\n      <td>...</td>\n      <td>...</td>\n      <td>...</td>\n      <td>...</td>\n      <td>...</td>\n      <td>...</td>\n      <td>...</td>\n      <td>...</td>\n      <td>...</td>\n      <td>...</td>\n    </tr>\n    <tr>\n      <th>476325</th>\n      <td>ZYEBEIQI</td>\n      <td>2014-06-17 20:00:00</td>\n      <td>2014-06-17 13:00:00</td>\n      <td>103.0</td>\n      <td>22.0</td>\n      <td>106.0</td>\n      <td>98.0</td>\n      <td>36.4</td>\n      <td>1</td>\n      <td>0</td>\n      <td>168</td>\n      <td>44</td>\n    </tr>\n    <tr>\n      <th>476326</th>\n      <td>ZYEBEIQI</td>\n      <td>2014-06-17 21:00:00</td>\n      <td>2014-06-17 13:00:00</td>\n      <td>103.0</td>\n      <td>22.0</td>\n      <td>106.0</td>\n      <td>98.0</td>\n      <td>36.4</td>\n      <td>1</td>\n      <td>0</td>\n      <td>169</td>\n      <td>44</td>\n    </tr>\n    <tr>\n      <th>476327</th>\n      <td>ZYEBEIQI</td>\n      <td>2014-06-17 22:00:00</td>\n      <td>2014-06-17 13:00:00</td>\n      <td>103.0</td>\n      <td>22.0</td>\n      <td>106.0</td>\n      <td>98.0</td>\n      <td>36.4</td>\n      <td>1</td>\n      <td>0</td>\n      <td>170</td>\n      <td>44</td>\n    </tr>\n    <tr>\n      <th>476328</th>\n      <td>ZYEBEIQI</td>\n      <td>2014-06-17 23:00:00</td>\n      <td>2014-06-17 13:00:00</td>\n      <td>103.0</td>\n      <td>22.0</td>\n      <td>106.0</td>\n      <td>98.0</td>\n      <td>36.4</td>\n      <td>1</td>\n      <td>0</td>\n      <td>171</td>\n      <td>44</td>\n    </tr>\n    <tr>\n      <th>476329</th>\n      <td>ZYEBEIQI</td>\n      <td>2014-06-18 00:00:00</td>\n      <td>2014-06-18 00:00:00</td>\n      <td>95.0</td>\n      <td>28.0</td>\n      <td>106.0</td>\n      <td>93.0</td>\n      <td>37.5</td>\n      <td>1</td>\n      <td>0</td>\n      <td>172</td>\n      <td>44</td>\n    </tr>\n  </tbody>\n</table>\n<p>476330 rows × 12 columns</p>\n</div>"
     },
     "metadata": {},
     "execution_count": 175
    }
   ],
   "source": [
    "valid_nl"
   ]
  },
  {
   "cell_type": "code",
   "execution_count": 177,
   "metadata": {},
   "outputs": [
    {
     "output_type": "stream",
     "name": "stdout",
     "text": [
      "총 환자수: 111\n",
      "Window 크기: 8\n",
      "-------------------- Making Data --------------------\n",
      "=> 100번 째 환자\n",
      "-------------------- Done --------------------\n"
     ]
    }
   ],
   "source": [
    "var_list = list(set(valid_data.columns)\n",
    "                - set([ 'Patient', 'adjusted_time', 'detection_time', 'measurement_time', 'event_time', 'target', 'is_abn']) )\n",
    "valid_seq_data = make_sequence_data(valid_data, window_len = window_len, var_list = var_list, index = 'Patient')\n",
    "\n"
   ]
  },
  {
   "cell_type": "code",
   "execution_count": 193,
   "metadata": {},
   "outputs": [],
   "source": [
    "valid_data_nl['detection_time']= np.nan #valid_data_nl['measurement_time']\n",
    "valid_data_nl['event_time']= np.nan #valid_data_nl['measurement_time']\n"
   ]
  },
  {
   "cell_type": "code",
   "execution_count": 190,
   "metadata": {},
   "outputs": [],
   "source": [
    "valid_data = valid_data[((valid_data.detection_time.dt.day - valid_data.measurement_time.dt.day) < 5)]\n"
   ]
  },
  {
   "cell_type": "code",
   "execution_count": 191,
   "metadata": {},
   "outputs": [
    {
     "output_type": "execute_result",
     "data": {
      "text/plain": [
       "0.0    7489\n",
       "1.0    1527\n",
       "Name: target, dtype: int64"
      ]
     },
     "metadata": {},
     "execution_count": 191
    }
   ],
   "source": [
    "valid_data.target.value_counts()"
   ]
  },
  {
   "cell_type": "code",
   "execution_count": 192,
   "metadata": {},
   "outputs": [
    {
     "output_type": "stream",
     "name": "stdout",
     "text": [
      "총 환자수: 106\n",
      "Window 크기: 8\n",
      "-------------------- Making Data --------------------\n",
      "=> 100번 째 환자\n",
      "-------------------- Done --------------------\n"
     ]
    }
   ],
   "source": [
    "valid_seq_data = make_sequence_data(valid_data, window_len = window_len, var_list = var_list, index = 'Patient')\n"
   ]
  },
  {
   "cell_type": "code",
   "execution_count": 195,
   "metadata": {},
   "outputs": [],
   "source": [
    "valid_data_nl = valid_data_nl.groupby('Patient', as_index = False).tail(36)"
   ]
  },
  {
   "cell_type": "code",
   "execution_count": 196,
   "metadata": {},
   "outputs": [
    {
     "output_type": "execute_result",
     "data": {
      "text/plain": [
       "         Patient       adjusted_time    measurement_time     HR    RR    SBP  \\\n",
       "20      A1YFM8RK 2016-12-15 13:00:00 2016-12-15 13:00:00   80.0  12.0  143.0   \n",
       "21      A1YFM8RK 2016-12-15 14:00:00 2016-12-15 14:00:00   87.0  11.0  136.0   \n",
       "22      A1YFM8RK 2016-12-15 15:00:00 2016-12-15 15:00:00   87.0  17.0  132.0   \n",
       "23      A1YFM8RK 2016-12-15 16:00:00 2016-12-15 16:00:00   84.0  16.0  139.0   \n",
       "24      A1YFM8RK 2016-12-15 17:00:00 2016-12-15 17:00:00   86.0  13.0  143.0   \n",
       "...          ...                 ...                 ...    ...   ...    ...   \n",
       "476325  ZYEBEIQI 2014-06-17 20:00:00 2014-06-17 13:00:00  103.0  22.0  106.0   \n",
       "476326  ZYEBEIQI 2014-06-17 21:00:00 2014-06-17 13:00:00  103.0  22.0  106.0   \n",
       "476327  ZYEBEIQI 2014-06-17 22:00:00 2014-06-17 13:00:00  103.0  22.0  106.0   \n",
       "476328  ZYEBEIQI 2014-06-17 23:00:00 2014-06-17 13:00:00  103.0  22.0  106.0   \n",
       "476329  ZYEBEIQI 2014-06-18 00:00:00 2014-06-18 00:00:00   95.0  28.0  106.0   \n",
       "\n",
       "         SaO2    BT  Gender  target  ...  Glucose  Lactate  Potassium  Sodium  \\\n",
       "20      100.0  36.2     1.0     0.0  ...      2.0      2.2        1.0     1.0   \n",
       "21      100.0  36.3     1.0     0.0  ...      2.0      2.2        1.0     1.0   \n",
       "22      100.0  36.4     1.0     0.0  ...      2.0      2.2        1.0     1.0   \n",
       "23      100.0  36.4     1.0     0.0  ...      2.0      2.2        1.0     1.0   \n",
       "24      100.0  36.4     1.0     0.0  ...      2.0      2.2        1.0     1.0   \n",
       "...       ...   ...     ...     ...  ...      ...      ...        ...     ...   \n",
       "476325   98.0  36.4     1.0     0.0  ...      NaN      NaN        NaN     NaN   \n",
       "476326   98.0  36.4     1.0     0.0  ...      NaN      NaN        NaN     NaN   \n",
       "476327   98.0  36.4     1.0     0.0  ...      NaN      NaN        NaN     NaN   \n",
       "476328   98.0  36.4     1.0     0.0  ...      NaN      NaN        NaN     NaN   \n",
       "476329   93.0  37.5     1.0     0.0  ...      NaN      NaN        NaN     NaN   \n",
       "\n",
       "        Total bilirubin  Total calcium  Total protein  is_abn  detection_time  \\\n",
       "20                  0.4            7.5            4.3       0             NaN   \n",
       "21                  0.4            7.5            4.3       0             NaN   \n",
       "22                  0.4            7.5            4.3       0             NaN   \n",
       "23                  0.4            7.5            4.3       0             NaN   \n",
       "24                  0.4            7.5            4.3       0             NaN   \n",
       "...                 ...            ...            ...     ...             ...   \n",
       "476325              NaN            NaN            NaN       0             NaN   \n",
       "476326              NaN            NaN            NaN       0             NaN   \n",
       "476327              NaN            NaN            NaN       0             NaN   \n",
       "476328              NaN            NaN            NaN       0             NaN   \n",
       "476329              NaN            NaN            NaN       0             NaN   \n",
       "\n",
       "        event_time  \n",
       "20             NaN  \n",
       "21             NaN  \n",
       "22             NaN  \n",
       "23             NaN  \n",
       "24             NaN  \n",
       "...            ...  \n",
       "476325         NaN  \n",
       "476326         NaN  \n",
       "476327         NaN  \n",
       "476328         NaN  \n",
       "476329         NaN  \n",
       "\n",
       "[20988 rows x 33 columns]"
      ],
      "text/html": "<div>\n<style scoped>\n    .dataframe tbody tr th:only-of-type {\n        vertical-align: middle;\n    }\n\n    .dataframe tbody tr th {\n        vertical-align: top;\n    }\n\n    .dataframe thead th {\n        text-align: right;\n    }\n</style>\n<table border=\"1\" class=\"dataframe\">\n  <thead>\n    <tr style=\"text-align: right;\">\n      <th></th>\n      <th>Patient</th>\n      <th>adjusted_time</th>\n      <th>measurement_time</th>\n      <th>HR</th>\n      <th>RR</th>\n      <th>SBP</th>\n      <th>SaO2</th>\n      <th>BT</th>\n      <th>Gender</th>\n      <th>target</th>\n      <th>...</th>\n      <th>Glucose</th>\n      <th>Lactate</th>\n      <th>Potassium</th>\n      <th>Sodium</th>\n      <th>Total bilirubin</th>\n      <th>Total calcium</th>\n      <th>Total protein</th>\n      <th>is_abn</th>\n      <th>detection_time</th>\n      <th>event_time</th>\n    </tr>\n  </thead>\n  <tbody>\n    <tr>\n      <th>20</th>\n      <td>A1YFM8RK</td>\n      <td>2016-12-15 13:00:00</td>\n      <td>2016-12-15 13:00:00</td>\n      <td>80.0</td>\n      <td>12.0</td>\n      <td>143.0</td>\n      <td>100.0</td>\n      <td>36.2</td>\n      <td>1.0</td>\n      <td>0.0</td>\n      <td>...</td>\n      <td>2.0</td>\n      <td>2.2</td>\n      <td>1.0</td>\n      <td>1.0</td>\n      <td>0.4</td>\n      <td>7.5</td>\n      <td>4.3</td>\n      <td>0</td>\n      <td>NaN</td>\n      <td>NaN</td>\n    </tr>\n    <tr>\n      <th>21</th>\n      <td>A1YFM8RK</td>\n      <td>2016-12-15 14:00:00</td>\n      <td>2016-12-15 14:00:00</td>\n      <td>87.0</td>\n      <td>11.0</td>\n      <td>136.0</td>\n      <td>100.0</td>\n      <td>36.3</td>\n      <td>1.0</td>\n      <td>0.0</td>\n      <td>...</td>\n      <td>2.0</td>\n      <td>2.2</td>\n      <td>1.0</td>\n      <td>1.0</td>\n      <td>0.4</td>\n      <td>7.5</td>\n      <td>4.3</td>\n      <td>0</td>\n      <td>NaN</td>\n      <td>NaN</td>\n    </tr>\n    <tr>\n      <th>22</th>\n      <td>A1YFM8RK</td>\n      <td>2016-12-15 15:00:00</td>\n      <td>2016-12-15 15:00:00</td>\n      <td>87.0</td>\n      <td>17.0</td>\n      <td>132.0</td>\n      <td>100.0</td>\n      <td>36.4</td>\n      <td>1.0</td>\n      <td>0.0</td>\n      <td>...</td>\n      <td>2.0</td>\n      <td>2.2</td>\n      <td>1.0</td>\n      <td>1.0</td>\n      <td>0.4</td>\n      <td>7.5</td>\n      <td>4.3</td>\n      <td>0</td>\n      <td>NaN</td>\n      <td>NaN</td>\n    </tr>\n    <tr>\n      <th>23</th>\n      <td>A1YFM8RK</td>\n      <td>2016-12-15 16:00:00</td>\n      <td>2016-12-15 16:00:00</td>\n      <td>84.0</td>\n      <td>16.0</td>\n      <td>139.0</td>\n      <td>100.0</td>\n      <td>36.4</td>\n      <td>1.0</td>\n      <td>0.0</td>\n      <td>...</td>\n      <td>2.0</td>\n      <td>2.2</td>\n      <td>1.0</td>\n      <td>1.0</td>\n      <td>0.4</td>\n      <td>7.5</td>\n      <td>4.3</td>\n      <td>0</td>\n      <td>NaN</td>\n      <td>NaN</td>\n    </tr>\n    <tr>\n      <th>24</th>\n      <td>A1YFM8RK</td>\n      <td>2016-12-15 17:00:00</td>\n      <td>2016-12-15 17:00:00</td>\n      <td>86.0</td>\n      <td>13.0</td>\n      <td>143.0</td>\n      <td>100.0</td>\n      <td>36.4</td>\n      <td>1.0</td>\n      <td>0.0</td>\n      <td>...</td>\n      <td>2.0</td>\n      <td>2.2</td>\n      <td>1.0</td>\n      <td>1.0</td>\n      <td>0.4</td>\n      <td>7.5</td>\n      <td>4.3</td>\n      <td>0</td>\n      <td>NaN</td>\n      <td>NaN</td>\n    </tr>\n    <tr>\n      <th>...</th>\n      <td>...</td>\n      <td>...</td>\n      <td>...</td>\n      <td>...</td>\n      <td>...</td>\n      <td>...</td>\n      <td>...</td>\n      <td>...</td>\n      <td>...</td>\n      <td>...</td>\n      <td>...</td>\n      <td>...</td>\n      <td>...</td>\n      <td>...</td>\n      <td>...</td>\n      <td>...</td>\n      <td>...</td>\n      <td>...</td>\n      <td>...</td>\n      <td>...</td>\n      <td>...</td>\n    </tr>\n    <tr>\n      <th>476325</th>\n      <td>ZYEBEIQI</td>\n      <td>2014-06-17 20:00:00</td>\n      <td>2014-06-17 13:00:00</td>\n      <td>103.0</td>\n      <td>22.0</td>\n      <td>106.0</td>\n      <td>98.0</td>\n      <td>36.4</td>\n      <td>1.0</td>\n      <td>0.0</td>\n      <td>...</td>\n      <td>NaN</td>\n      <td>NaN</td>\n      <td>NaN</td>\n      <td>NaN</td>\n      <td>NaN</td>\n      <td>NaN</td>\n      <td>NaN</td>\n      <td>0</td>\n      <td>NaN</td>\n      <td>NaN</td>\n    </tr>\n    <tr>\n      <th>476326</th>\n      <td>ZYEBEIQI</td>\n      <td>2014-06-17 21:00:00</td>\n      <td>2014-06-17 13:00:00</td>\n      <td>103.0</td>\n      <td>22.0</td>\n      <td>106.0</td>\n      <td>98.0</td>\n      <td>36.4</td>\n      <td>1.0</td>\n      <td>0.0</td>\n      <td>...</td>\n      <td>NaN</td>\n      <td>NaN</td>\n      <td>NaN</td>\n      <td>NaN</td>\n      <td>NaN</td>\n      <td>NaN</td>\n      <td>NaN</td>\n      <td>0</td>\n      <td>NaN</td>\n      <td>NaN</td>\n    </tr>\n    <tr>\n      <th>476327</th>\n      <td>ZYEBEIQI</td>\n      <td>2014-06-17 22:00:00</td>\n      <td>2014-06-17 13:00:00</td>\n      <td>103.0</td>\n      <td>22.0</td>\n      <td>106.0</td>\n      <td>98.0</td>\n      <td>36.4</td>\n      <td>1.0</td>\n      <td>0.0</td>\n      <td>...</td>\n      <td>NaN</td>\n      <td>NaN</td>\n      <td>NaN</td>\n      <td>NaN</td>\n      <td>NaN</td>\n      <td>NaN</td>\n      <td>NaN</td>\n      <td>0</td>\n      <td>NaN</td>\n      <td>NaN</td>\n    </tr>\n    <tr>\n      <th>476328</th>\n      <td>ZYEBEIQI</td>\n      <td>2014-06-17 23:00:00</td>\n      <td>2014-06-17 13:00:00</td>\n      <td>103.0</td>\n      <td>22.0</td>\n      <td>106.0</td>\n      <td>98.0</td>\n      <td>36.4</td>\n      <td>1.0</td>\n      <td>0.0</td>\n      <td>...</td>\n      <td>NaN</td>\n      <td>NaN</td>\n      <td>NaN</td>\n      <td>NaN</td>\n      <td>NaN</td>\n      <td>NaN</td>\n      <td>NaN</td>\n      <td>0</td>\n      <td>NaN</td>\n      <td>NaN</td>\n    </tr>\n    <tr>\n      <th>476329</th>\n      <td>ZYEBEIQI</td>\n      <td>2014-06-18 00:00:00</td>\n      <td>2014-06-18 00:00:00</td>\n      <td>95.0</td>\n      <td>28.0</td>\n      <td>106.0</td>\n      <td>93.0</td>\n      <td>37.5</td>\n      <td>1.0</td>\n      <td>0.0</td>\n      <td>...</td>\n      <td>NaN</td>\n      <td>NaN</td>\n      <td>NaN</td>\n      <td>NaN</td>\n      <td>NaN</td>\n      <td>NaN</td>\n      <td>NaN</td>\n      <td>0</td>\n      <td>NaN</td>\n      <td>NaN</td>\n    </tr>\n  </tbody>\n</table>\n<p>20988 rows × 33 columns</p>\n</div>"
     },
     "metadata": {},
     "execution_count": 196
    }
   ],
   "source": [
    "valid_data_nl"
   ]
  },
  {
   "cell_type": "code",
   "execution_count": 208,
   "metadata": {},
   "outputs": [
    {
     "output_type": "stream",
     "name": "stdout",
     "text": [
      "총 환자수: 597\n",
      "Window 크기: 8\n",
      "-------------------- Making Data --------------------\n",
      "=> 100번 째 환자\n",
      "==> 200번 째 환자\n",
      "===> 300번 째 환자\n",
      "====> 400번 째 환자\n",
      "=====> 500번 째 환자\n",
      "-------------------- Done --------------------\n"
     ]
    }
   ],
   "source": [
    "valid_seq_data_nl = make_sequence_data(valid_data_nl, window_len = window_len, var_list = var_list, index = 'Patient')"
   ]
  },
  {
   "cell_type": "code",
   "execution_count": 209,
   "metadata": {},
   "outputs": [],
   "source": [
    "valid_seq = pd.concat([valid_seq_data, valid_seq_data_nl])"
   ]
  },
  {
   "cell_type": "code",
   "execution_count": 210,
   "metadata": {},
   "outputs": [],
   "source": [
    "path = os.path.join(dp.valid_path, 'valid_seq.pickle')\n",
    "with open(path, 'wb') as f:\n",
    "    pickle.dump(valid_seq, f)\n"
   ]
  },
  {
   "cell_type": "code",
   "execution_count": 211,
   "metadata": {},
   "outputs": [
    {
     "output_type": "stream",
     "name": "stdout",
     "text": [
      "column_name_multi:  ['HR-7', 'Chloride-7', 'RR-7', 'BUN-7', 'Glucose-7', 'SBP-7', 'Alkaline phosphatase-7', 'ALT-7', 'Total calcium-7', 'Sodium-7', 'platelet-7', 'BT-7', 'Albumin-7', 'SaO2-7', 'Creatinin-7', 'CRP-7', 'Gender-7', 'Potassium-7', 'Age-7', 'AST-7', 'Total bilirubin-7', 'TS-7', 'Hgb-7', 'Lactate-7', 'Total protein-7', 'WBC Count-7', 'HR-6', 'Chloride-6', 'RR-6', 'BUN-6', 'Glucose-6', 'SBP-6', 'Alkaline phosphatase-6', 'ALT-6', 'Total calcium-6', 'Sodium-6', 'platelet-6', 'BT-6', 'Albumin-6', 'SaO2-6', 'Creatinin-6', 'CRP-6', 'Gender-6', 'Potassium-6', 'Age-6', 'AST-6', 'Total bilirubin-6', 'TS-6', 'Hgb-6', 'Lactate-6', 'Total protein-6', 'WBC Count-6', 'HR-5', 'Chloride-5', 'RR-5', 'BUN-5', 'Glucose-5', 'SBP-5', 'Alkaline phosphatase-5', 'ALT-5', 'Total calcium-5', 'Sodium-5', 'platelet-5', 'BT-5', 'Albumin-5', 'SaO2-5', 'Creatinin-5', 'CRP-5', 'Gender-5', 'Potassium-5', 'Age-5', 'AST-5', 'Total bilirubin-5', 'TS-5', 'Hgb-5', 'Lactate-5', 'Total protein-5', 'WBC Count-5', 'HR-4', 'Chloride-4', 'RR-4', 'BUN-4', 'Glucose-4', 'SBP-4', 'Alkaline phosphatase-4', 'ALT-4', 'Total calcium-4', 'Sodium-4', 'platelet-4', 'BT-4', 'Albumin-4', 'SaO2-4', 'Creatinin-4', 'CRP-4', 'Gender-4', 'Potassium-4', 'Age-4', 'AST-4', 'Total bilirubin-4', 'TS-4', 'Hgb-4', 'Lactate-4', 'Total protein-4', 'WBC Count-4', 'HR-3', 'Chloride-3', 'RR-3', 'BUN-3', 'Glucose-3', 'SBP-3', 'Alkaline phosphatase-3', 'ALT-3', 'Total calcium-3', 'Sodium-3', 'platelet-3', 'BT-3', 'Albumin-3', 'SaO2-3', 'Creatinin-3', 'CRP-3', 'Gender-3', 'Potassium-3', 'Age-3', 'AST-3', 'Total bilirubin-3', 'TS-3', 'Hgb-3', 'Lactate-3', 'Total protein-3', 'WBC Count-3', 'HR-2', 'Chloride-2', 'RR-2', 'BUN-2', 'Glucose-2', 'SBP-2', 'Alkaline phosphatase-2', 'ALT-2', 'Total calcium-2', 'Sodium-2', 'platelet-2', 'BT-2', 'Albumin-2', 'SaO2-2', 'Creatinin-2', 'CRP-2', 'Gender-2', 'Potassium-2', 'Age-2', 'AST-2', 'Total bilirubin-2', 'TS-2', 'Hgb-2', 'Lactate-2', 'Total protein-2', 'WBC Count-2', 'HR-1', 'Chloride-1', 'RR-1', 'BUN-1', 'Glucose-1', 'SBP-1', 'Alkaline phosphatase-1', 'ALT-1', 'Total calcium-1', 'Sodium-1', 'platelet-1', 'BT-1', 'Albumin-1', 'SaO2-1', 'Creatinin-1', 'CRP-1', 'Gender-1', 'Potassium-1', 'Age-1', 'AST-1', 'Total bilirubin-1', 'TS-1', 'Hgb-1', 'Lactate-1', 'Total protein-1', 'WBC Count-1', 'HR0', 'Chloride0', 'RR0', 'BUN0', 'Glucose0', 'SBP0', 'Alkaline phosphatase0', 'ALT0', 'Total calcium0', 'Sodium0', 'platelet0', 'BT0', 'Albumin0', 'SaO20', 'Creatinin0', 'CRP0', 'Gender0', 'Potassium0', 'Age0', 'AST0', 'Total bilirubin0', 'TS0', 'Hgb0', 'Lactate0', 'Total protein0', 'WBC Count0']\n",
      "drop list:  ['Gender-7', 'Age-7', 'TS-7', 'Gender-6', 'Age-6', 'TS-6', 'Gender-5', 'Age-5', 'TS-5', 'Gender-4', 'Age-4', 'TS-4', 'Gender-3', 'Age-3', 'TS-3', 'Gender-2', 'Age-2', 'TS-2', 'Gender-1', 'Age-1', 'TS-1']\n",
      "make 2D time data\n",
      "Saved pickle:  /data/datasets/rrs-data/10yrs_refined_data/valid_final.pickle\n",
      "Done.\n"
     ]
    }
   ],
   "source": [
    "res_data = make_2d_data(valid_seq, var_list, \\\n",
    "    output_path = dp.valid_path, output_file = 'valid_final.csv')\n",
    "  "
   ]
  },
  {
   "cell_type": "code",
   "execution_count": null,
   "metadata": {},
   "outputs": [],
   "source": []
  }
 ]
}