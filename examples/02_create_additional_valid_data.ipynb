{
 "metadata": {
  "language_info": {
   "codemirror_mode": {
    "name": "ipython",
    "version": 3
   },
   "file_extension": ".py",
   "mimetype": "text/x-python",
   "name": "python",
   "nbconvert_exporter": "python",
   "pygments_lexer": "ipython3",
   "version": "3.8.3-final"
  },
  "orig_nbformat": 2,
  "kernelspec": {
   "name": "pycharm-b97e858c",
   "language": "python",
   "display_name": "PyCharm (RRS-2021)"
  }
 },
 "nbformat": 4,
 "nbformat_minor": 2,
 "cells": [
  {
   "cell_type": "code",
   "execution_count": 2,
   "metadata": {},
   "outputs": [],
   "source": [
    "import sys \n",
    "import os \n",
    "import numpy as np \n",
    "import pandas as pd \n",
    "import pickle \n",
    "\n",
    "sys.path.append('/data/datasets/rrs-data/rrs_kit')\n",
    "\n",
    "from rrs_kit.DataClass import DataPath\n",
    "from rrs_kit.utils import (\n",
    "  filter_sign,\n",
    "  adjust_cbc,\n",
    "  adjust_chem,\n",
    "  get_target_df,\n",
    "  get_merge_data,\n",
    "  make_timestamp,\n",
    "  make_sequence_data,\n",
    "  make_2d_data\n",
    ")\n"
   ]
  },
  {
   "cell_type": "code",
   "execution_count": 2,
   "metadata": {},
   "outputs": [],
   "source": [
    "dp = DataPath()\n",
    "\n",
    "valid_trn_sign = pd.read_csv(\n",
    "    os.path.join(dp.valid_path, 'trn_abn_flowsheet.csv'),\n",
    "    encoding = 'CP949'\n",
    ")\n",
    "\n",
    "valid_trn_sign_weird = pd.read_csv(\n",
    "    os.path.join(dp.valid_path, 'trn_abn_flowsheet_weird.csv'),\n",
    "    encoding = 'CP949'\n",
    ")\n",
    "\n",
    "\n",
    "valid_tst_sign = pd.read_csv(\n",
    "    os.path.join(dp.valid_path, 'tst_abn_flowsheet.csv'),\n",
    "    encoding = 'CP949'\n",
    ")\n",
    "\n",
    "valid_tst_sign_weird = pd.read_csv(\n",
    "    os.path.join(dp.valid_path, 'tst_abn_flowsheet_weird.csv'),\n",
    "    encoding = 'CP949'\n",
    ")\n",
    "\n",
    "valid_trn_nl_sign = pd.read_csv(\n",
    "    os.path.join(dp.valid_path, 'trn_nl_flowsheet.csv')\n",
    ")\n",
    "\n",
    "valid_tst_nl_sign = pd.read_csv(\n",
    "    os.path.join(dp.valid_path, 'tst_nl_flowsheet.csv')\n",
    ")\n",
    "\n",
    "valid_trn_abn_sample = pd.read_csv(\n",
    "    '/data/datasets/rrs-data/10yrs_samples/10yrs_trn_abn_200.csv'\n",
    ")\n",
    "\n",
    "valid_tst_abn_sample = pd.read_csv(\n",
    "    '/data/datasets/rrs-data/10yrs_samples/10yrs_tst_abn_200.csv'\n",
    ")\n",
    "\n",
    "valid_nl_sample = pd.read_csv(\n",
    "    '/data/datasets/rrs-data/10yrs_samples/10yrs_trn_nl_sample.csv'\n",
    ")\n",
    "\n",
    "\n"
   ]
  },
  {
   "cell_type": "code",
   "execution_count": 3,
   "metadata": {},
   "outputs": [
    {
     "output_type": "execute_result",
     "data": {
      "text/plain": [
       "    patient_id        event_time    detection_time gender  birthday\n",
       "1     CSYR0JDA   2015-11-08 1:53  2015-11-07 16:00      F  19460930\n",
       "3     GLP4GNKW  2016-01-23 19:28  2016-01-22 11:30      M  19570907\n",
       "6     KKIQQZAT  2015-12-19 16:40  2015-12-18 17:05      M  19690617\n",
       "8     YOYWOGBG  2014-10-18 20:47   2014-10-16 8:00      M  19460510\n",
       "10    ZH729YUP  2014-02-20 10:45  2014-02-20 10:00      M  19470520\n",
       "..         ...               ...               ...    ...       ...\n",
       "190   GPU1APUY  2014-09-27 15:15   2014-09-25 8:30      M  19610802\n",
       "191   TI5LIME7  2014-02-07 11:58   2014-02-07 8:00      F  19660113\n",
       "192   VZ551HO6   2010-07-21 9:19   2010-07-20 8:30      M  19340502\n",
       "194   OCBYNZGD  2015-05-08 14:16  2015-05-08 13:10      F  19361229\n",
       "196   LSOQR7WC   2012-12-12 5:23   2012-12-12 2:00      M  19341015\n",
       "\n",
       "[135 rows x 5 columns]"
      ],
      "text/html": "<div>\n<style scoped>\n    .dataframe tbody tr th:only-of-type {\n        vertical-align: middle;\n    }\n\n    .dataframe tbody tr th {\n        vertical-align: top;\n    }\n\n    .dataframe thead th {\n        text-align: right;\n    }\n</style>\n<table border=\"1\" class=\"dataframe\">\n  <thead>\n    <tr style=\"text-align: right;\">\n      <th></th>\n      <th>patient_id</th>\n      <th>event_time</th>\n      <th>detection_time</th>\n      <th>gender</th>\n      <th>birthday</th>\n    </tr>\n  </thead>\n  <tbody>\n    <tr>\n      <th>1</th>\n      <td>CSYR0JDA</td>\n      <td>2015-11-08 1:53</td>\n      <td>2015-11-07 16:00</td>\n      <td>F</td>\n      <td>19460930</td>\n    </tr>\n    <tr>\n      <th>3</th>\n      <td>GLP4GNKW</td>\n      <td>2016-01-23 19:28</td>\n      <td>2016-01-22 11:30</td>\n      <td>M</td>\n      <td>19570907</td>\n    </tr>\n    <tr>\n      <th>6</th>\n      <td>KKIQQZAT</td>\n      <td>2015-12-19 16:40</td>\n      <td>2015-12-18 17:05</td>\n      <td>M</td>\n      <td>19690617</td>\n    </tr>\n    <tr>\n      <th>8</th>\n      <td>YOYWOGBG</td>\n      <td>2014-10-18 20:47</td>\n      <td>2014-10-16 8:00</td>\n      <td>M</td>\n      <td>19460510</td>\n    </tr>\n    <tr>\n      <th>10</th>\n      <td>ZH729YUP</td>\n      <td>2014-02-20 10:45</td>\n      <td>2014-02-20 10:00</td>\n      <td>M</td>\n      <td>19470520</td>\n    </tr>\n    <tr>\n      <th>...</th>\n      <td>...</td>\n      <td>...</td>\n      <td>...</td>\n      <td>...</td>\n      <td>...</td>\n    </tr>\n    <tr>\n      <th>190</th>\n      <td>GPU1APUY</td>\n      <td>2014-09-27 15:15</td>\n      <td>2014-09-25 8:30</td>\n      <td>M</td>\n      <td>19610802</td>\n    </tr>\n    <tr>\n      <th>191</th>\n      <td>TI5LIME7</td>\n      <td>2014-02-07 11:58</td>\n      <td>2014-02-07 8:00</td>\n      <td>F</td>\n      <td>19660113</td>\n    </tr>\n    <tr>\n      <th>192</th>\n      <td>VZ551HO6</td>\n      <td>2010-07-21 9:19</td>\n      <td>2010-07-20 8:30</td>\n      <td>M</td>\n      <td>19340502</td>\n    </tr>\n    <tr>\n      <th>194</th>\n      <td>OCBYNZGD</td>\n      <td>2015-05-08 14:16</td>\n      <td>2015-05-08 13:10</td>\n      <td>F</td>\n      <td>19361229</td>\n    </tr>\n    <tr>\n      <th>196</th>\n      <td>LSOQR7WC</td>\n      <td>2012-12-12 5:23</td>\n      <td>2012-12-12 2:00</td>\n      <td>M</td>\n      <td>19341015</td>\n    </tr>\n  </tbody>\n</table>\n<p>135 rows × 5 columns</p>\n</div>"
     },
     "metadata": {},
     "execution_count": 3
    }
   ],
   "source": [
    "filter_time = ['ER', 'intu', 'x', 'PED', 'intu<48hr', 'ped', 'post-op', np.nan]\n",
    "valid_trn_abn_sample_filter = valid_trn_abn_sample[~valid_trn_abn_sample['detection_time'].isin(filter_time)]\n",
    "valid_trn_abn_sample_filter = valid_trn_abn_sample_filter[['patient_id', 'event_time', 'detection_time', 'gender', 'birthday']]\n",
    "valid_trn_abn_sample_filter"
   ]
  },
  {
   "cell_type": "code",
   "execution_count": 4,
   "metadata": {},
   "outputs": [
    {
     "output_type": "execute_result",
     "data": {
      "text/plain": [
       "    patient_id        event_time    detection_time gender  birthday\n",
       "1     B6C79PUT  2012-07-05 21:47  2012-07-05 16:00      F  19411117\n",
       "2     BKIMZ4N0   2013-06-22 2:48   2013-06-21 2:30      M  19390115\n",
       "3     BRD8WZWE  2015-12-19 11:38  2015-12-19 11:20      F  19471116\n",
       "4     BROKS3HV  2015-03-21 13:23  2015-03-21 13:00      M  19370130\n",
       "5     C2APLJG5  2015-09-04 15:17  2015-08-20 12:10      F  19220720\n",
       "..         ...               ...               ...    ...       ...\n",
       "190   SKEDU6EG  2015-10-22 10:32  2015-10-20 16:00      M  19370410\n",
       "191   COHCU2OQ  2011-09-14 20:30  2011-09-14 16:00      M  19380114\n",
       "194   AMW0IOX4  2011-01-01 16:55  2010-12-26 11:00      M  19311220\n",
       "196   SZGRZC0F  2012-12-25 13:42  2012-12-23 21:30      F  19831228\n",
       "197   Y17DVCBN  2015-06-25 17:34  2015-06-25 15:40      M  19390205\n",
       "\n",
       "[115 rows x 5 columns]"
      ],
      "text/html": "<div>\n<style scoped>\n    .dataframe tbody tr th:only-of-type {\n        vertical-align: middle;\n    }\n\n    .dataframe tbody tr th {\n        vertical-align: top;\n    }\n\n    .dataframe thead th {\n        text-align: right;\n    }\n</style>\n<table border=\"1\" class=\"dataframe\">\n  <thead>\n    <tr style=\"text-align: right;\">\n      <th></th>\n      <th>patient_id</th>\n      <th>event_time</th>\n      <th>detection_time</th>\n      <th>gender</th>\n      <th>birthday</th>\n    </tr>\n  </thead>\n  <tbody>\n    <tr>\n      <th>1</th>\n      <td>B6C79PUT</td>\n      <td>2012-07-05 21:47</td>\n      <td>2012-07-05 16:00</td>\n      <td>F</td>\n      <td>19411117</td>\n    </tr>\n    <tr>\n      <th>2</th>\n      <td>BKIMZ4N0</td>\n      <td>2013-06-22 2:48</td>\n      <td>2013-06-21 2:30</td>\n      <td>M</td>\n      <td>19390115</td>\n    </tr>\n    <tr>\n      <th>3</th>\n      <td>BRD8WZWE</td>\n      <td>2015-12-19 11:38</td>\n      <td>2015-12-19 11:20</td>\n      <td>F</td>\n      <td>19471116</td>\n    </tr>\n    <tr>\n      <th>4</th>\n      <td>BROKS3HV</td>\n      <td>2015-03-21 13:23</td>\n      <td>2015-03-21 13:00</td>\n      <td>M</td>\n      <td>19370130</td>\n    </tr>\n    <tr>\n      <th>5</th>\n      <td>C2APLJG5</td>\n      <td>2015-09-04 15:17</td>\n      <td>2015-08-20 12:10</td>\n      <td>F</td>\n      <td>19220720</td>\n    </tr>\n    <tr>\n      <th>...</th>\n      <td>...</td>\n      <td>...</td>\n      <td>...</td>\n      <td>...</td>\n      <td>...</td>\n    </tr>\n    <tr>\n      <th>190</th>\n      <td>SKEDU6EG</td>\n      <td>2015-10-22 10:32</td>\n      <td>2015-10-20 16:00</td>\n      <td>M</td>\n      <td>19370410</td>\n    </tr>\n    <tr>\n      <th>191</th>\n      <td>COHCU2OQ</td>\n      <td>2011-09-14 20:30</td>\n      <td>2011-09-14 16:00</td>\n      <td>M</td>\n      <td>19380114</td>\n    </tr>\n    <tr>\n      <th>194</th>\n      <td>AMW0IOX4</td>\n      <td>2011-01-01 16:55</td>\n      <td>2010-12-26 11:00</td>\n      <td>M</td>\n      <td>19311220</td>\n    </tr>\n    <tr>\n      <th>196</th>\n      <td>SZGRZC0F</td>\n      <td>2012-12-25 13:42</td>\n      <td>2012-12-23 21:30</td>\n      <td>F</td>\n      <td>19831228</td>\n    </tr>\n    <tr>\n      <th>197</th>\n      <td>Y17DVCBN</td>\n      <td>2015-06-25 17:34</td>\n      <td>2015-06-25 15:40</td>\n      <td>M</td>\n      <td>19390205</td>\n    </tr>\n  </tbody>\n</table>\n<p>115 rows × 5 columns</p>\n</div>"
     },
     "metadata": {},
     "execution_count": 4
    }
   ],
   "source": [
    "filter_time = ['post-op', 'intubation', 'intubation ','intu<48hr', 'intu', 'x', 'ER', 'ped', 'PED', np.nan]\n",
    "valid_tst_abn_sample_filter = valid_tst_abn_sample[~valid_tst_abn_sample['detection_time'].isin(filter_time)]\n",
    "valid_tst_abn_sample_filter = valid_tst_abn_sample_filter[['patient_id', 'event_time', 'detection_time', 'gender', 'birthday']]\n",
    "valid_tst_abn_sample_filter"
   ]
  },
  {
   "cell_type": "code",
   "execution_count": 5,
   "metadata": {},
   "outputs": [
    {
     "output_type": "execute_result",
     "data": {
      "text/plain": [
       "    patient_id        event_time    detection_time gender  birthday\n",
       "1     CSYR0JDA   2015-11-08 1:53  2015-11-07 16:00      F  19460930\n",
       "3     GLP4GNKW  2016-01-23 19:28  2016-01-22 11:30      M  19570907\n",
       "6     KKIQQZAT  2015-12-19 16:40  2015-12-18 17:05      M  19690617\n",
       "8     YOYWOGBG  2014-10-18 20:47   2014-10-16 8:00      M  19460510\n",
       "10    ZH729YUP  2014-02-20 10:45  2014-02-20 10:00      M  19470520\n",
       "..         ...               ...               ...    ...       ...\n",
       "190   SKEDU6EG  2015-10-22 10:32  2015-10-20 16:00      M  19370410\n",
       "191   COHCU2OQ  2011-09-14 20:30  2011-09-14 16:00      M  19380114\n",
       "194   AMW0IOX4  2011-01-01 16:55  2010-12-26 11:00      M  19311220\n",
       "196   SZGRZC0F  2012-12-25 13:42  2012-12-23 21:30      F  19831228\n",
       "197   Y17DVCBN  2015-06-25 17:34  2015-06-25 15:40      M  19390205\n",
       "\n",
       "[250 rows x 5 columns]"
      ],
      "text/html": "<div>\n<style scoped>\n    .dataframe tbody tr th:only-of-type {\n        vertical-align: middle;\n    }\n\n    .dataframe tbody tr th {\n        vertical-align: top;\n    }\n\n    .dataframe thead th {\n        text-align: right;\n    }\n</style>\n<table border=\"1\" class=\"dataframe\">\n  <thead>\n    <tr style=\"text-align: right;\">\n      <th></th>\n      <th>patient_id</th>\n      <th>event_time</th>\n      <th>detection_time</th>\n      <th>gender</th>\n      <th>birthday</th>\n    </tr>\n  </thead>\n  <tbody>\n    <tr>\n      <th>1</th>\n      <td>CSYR0JDA</td>\n      <td>2015-11-08 1:53</td>\n      <td>2015-11-07 16:00</td>\n      <td>F</td>\n      <td>19460930</td>\n    </tr>\n    <tr>\n      <th>3</th>\n      <td>GLP4GNKW</td>\n      <td>2016-01-23 19:28</td>\n      <td>2016-01-22 11:30</td>\n      <td>M</td>\n      <td>19570907</td>\n    </tr>\n    <tr>\n      <th>6</th>\n      <td>KKIQQZAT</td>\n      <td>2015-12-19 16:40</td>\n      <td>2015-12-18 17:05</td>\n      <td>M</td>\n      <td>19690617</td>\n    </tr>\n    <tr>\n      <th>8</th>\n      <td>YOYWOGBG</td>\n      <td>2014-10-18 20:47</td>\n      <td>2014-10-16 8:00</td>\n      <td>M</td>\n      <td>19460510</td>\n    </tr>\n    <tr>\n      <th>10</th>\n      <td>ZH729YUP</td>\n      <td>2014-02-20 10:45</td>\n      <td>2014-02-20 10:00</td>\n      <td>M</td>\n      <td>19470520</td>\n    </tr>\n    <tr>\n      <th>...</th>\n      <td>...</td>\n      <td>...</td>\n      <td>...</td>\n      <td>...</td>\n      <td>...</td>\n    </tr>\n    <tr>\n      <th>190</th>\n      <td>SKEDU6EG</td>\n      <td>2015-10-22 10:32</td>\n      <td>2015-10-20 16:00</td>\n      <td>M</td>\n      <td>19370410</td>\n    </tr>\n    <tr>\n      <th>191</th>\n      <td>COHCU2OQ</td>\n      <td>2011-09-14 20:30</td>\n      <td>2011-09-14 16:00</td>\n      <td>M</td>\n      <td>19380114</td>\n    </tr>\n    <tr>\n      <th>194</th>\n      <td>AMW0IOX4</td>\n      <td>2011-01-01 16:55</td>\n      <td>2010-12-26 11:00</td>\n      <td>M</td>\n      <td>19311220</td>\n    </tr>\n    <tr>\n      <th>196</th>\n      <td>SZGRZC0F</td>\n      <td>2012-12-25 13:42</td>\n      <td>2012-12-23 21:30</td>\n      <td>F</td>\n      <td>19831228</td>\n    </tr>\n    <tr>\n      <th>197</th>\n      <td>Y17DVCBN</td>\n      <td>2015-06-25 17:34</td>\n      <td>2015-06-25 15:40</td>\n      <td>M</td>\n      <td>19390205</td>\n    </tr>\n  </tbody>\n</table>\n<p>250 rows × 5 columns</p>\n</div>"
     },
     "metadata": {},
     "execution_count": 5
    }
   ],
   "source": [
    "valid_event = pd.concat([valid_trn_abn_sample_filter, valid_tst_abn_sample_filter])\n",
    "valid_event"
   ]
  },
  {
   "cell_type": "code",
   "execution_count": 6,
   "metadata": {},
   "outputs": [],
   "source": [
    "verbose = True\n",
    "\n",
    "valid_sign = pd.concat([valid_trn_sign, valid_tst_sign])\n",
    "\n",
    "valid_sign['patient_id'] = valid_sign['patient'].apply(lambda x: x[:8])\n",
    "\n",
    "valid_sign = valid_sign[valid_sign['patient_id'].isin(valid_event['patient_id'])]\n",
    "\n",
    "valid_sign = valid_sign.rename(columns={\n",
    "'Temp': 'BT'\n",
    "})  \n",
    "valid_sign = valid_sign.drop(['event_time'], axis = 1)\n",
    "\n",
    "valid_sign['measurement_time'] = pd.to_datetime(valid_sign['measurement_time'])\n",
    "\n",
    "# filter vital sign \n",
    "valid_sign = filter_sign(valid_sign, 'patient_id', time = 'measurement_time')"
   ]
  },
  {
   "cell_type": "code",
   "execution_count": 7,
   "metadata": {},
   "outputs": [],
   "source": [
    "valid_sign_nl = pd.concat([valid_trn_nl_sign, valid_tst_nl_sign])\n",
    "valid_sign_nl['patient_id'] = valid_sign_nl['patient'].apply(lambda x: x[:8])\n",
    "valid_sign_nl = valid_sign_nl[valid_sign_nl['patient_id'].isin(valid_nl_sample['patient_id'])]\n",
    "\n",
    "valid_sign_nl = valid_sign_nl.rename(columns={\n",
    "'Temp': 'BT'\n",
    "})  \n",
    "\n",
    "valid_sign_nl['measurement_time'] = pd.to_datetime(valid_sign_nl['measurement_time'])\n",
    "\n",
    "# filter vital sign \n",
    "valid_sign_nl = filter_sign(valid_sign_nl, 'patient_id', time = 'measurement_time')\n"
   ]
  },
  {
   "cell_type": "code",
   "execution_count": 8,
   "metadata": {},
   "outputs": [],
   "source": [
    "\n",
    "# join two tabels\n",
    "valid_data = pd.merge(valid_sign, valid_event, left_on = 'patient_id', right_on = 'patient_id', how = 'left')\n",
    "\n",
    "valid_data['event_time'] = pd.to_datetime(valid_data['event_time'])\n",
    "valid_data['adjusted_time'] = pd.to_datetime(valid_data['adjusted_time'])\n"
   ]
  },
  {
   "cell_type": "code",
   "execution_count": 9,
   "metadata": {},
   "outputs": [],
   "source": [
    "#valid_data['detection_time'].unique()\n",
    "valid_data['detection_time'][valid_data['detection_time'] == '2012-05-30013:30'] = '2012-05-30 13:30'\n",
    "valid_data['detection_time'][valid_data['detection_time'] == '2012-02-03 14-55'] = '2012-02-03 14:55'\n",
    "\n"
   ]
  },
  {
   "cell_type": "code",
   "execution_count": 10,
   "metadata": {},
   "outputs": [],
   "source": [
    "valid_data['detection_time'] = pd.to_datetime(valid_data['detection_time'].apply(lambda x: str(x)))\n"
   ]
  },
  {
   "cell_type": "code",
   "execution_count": 11,
   "metadata": {},
   "outputs": [
    {
     "output_type": "execute_result",
     "data": {
      "text/plain": [
       "       patient_id    measurement_time            patient        adjusted_time  \\\n",
       "0        A1YFM8RK 2016-12-14 17:00:00  A1YFM8RK_20161214  2016-12-14 17:00:00   \n",
       "56       A2URZ0WO 2013-06-06 15:00:00  A2URZ0WO_20130605  2013-06-06 15:00:00   \n",
       "114      A466E7ZP 2014-11-27 14:00:00  A466E7ZP_20141126  2014-11-27 14:00:00   \n",
       "149      A7L184WN 2015-06-03 19:00:00  A7L184WN_20150602  2015-06-03 19:00:00   \n",
       "203      A7OD133R 2014-08-08 22:00:00  A7OD133R_20140808  2014-08-08 22:00:00   \n",
       "...           ...                 ...                ...                  ...   \n",
       "475779   ZSS6SCRV 2015-11-17 08:00:00  ZSS6SCRV_20151117  2015-11-17 08:00:00   \n",
       "475892   ZSWGM94V 2015-05-20 15:00:00  ZSWGM94V_20150514  2015-05-20 15:00:00   \n",
       "475950   ZT62F5L9 2013-09-09 22:00:00  ZT62F5L9_20130909  2013-09-09 22:00:00   \n",
       "476049   ZUPOSLJF 2011-08-19 12:00:00  ZUPOSLJF_20110818  2011-08-19 12:00:00   \n",
       "476158   ZYEBEIQI 2014-06-10 21:00:00  ZYEBEIQI_20140610  2014-06-10 21:00:00   \n",
       "\n",
       "           HR    RR    SBP   SaO2    BT gender  birthday  \n",
       "0        72.0  18.0  134.5   99.0  36.6      M  19440428  \n",
       "56       64.0  15.0  151.0  100.0  36.1      M  19511108  \n",
       "114      99.0  23.0   90.0  100.0  36.4      F  19590408  \n",
       "149      62.0  14.0  106.0   98.0  36.4      F  19380104  \n",
       "203      90.0  25.0  187.0  100.0  36.0      F  19340926  \n",
       "...       ...   ...    ...    ...   ...    ...       ...  \n",
       "475779   80.0  20.0  109.0  100.0  36.3      M  19470208  \n",
       "475892  101.0  14.0  118.0   95.0  36.3      M  19390110  \n",
       "475950  101.0  29.0   94.0  100.0  37.4      F  19430528  \n",
       "476049  124.0  17.0   97.0   95.0  36.7      F  19380705  \n",
       "476158  103.0  22.0  114.0   96.0  36.6      M  19580720  \n",
       "\n",
       "[597 rows x 11 columns]"
      ],
      "text/html": "<div>\n<style scoped>\n    .dataframe tbody tr th:only-of-type {\n        vertical-align: middle;\n    }\n\n    .dataframe tbody tr th {\n        vertical-align: top;\n    }\n\n    .dataframe thead th {\n        text-align: right;\n    }\n</style>\n<table border=\"1\" class=\"dataframe\">\n  <thead>\n    <tr style=\"text-align: right;\">\n      <th></th>\n      <th>patient_id</th>\n      <th>measurement_time</th>\n      <th>patient</th>\n      <th>adjusted_time</th>\n      <th>HR</th>\n      <th>RR</th>\n      <th>SBP</th>\n      <th>SaO2</th>\n      <th>BT</th>\n      <th>gender</th>\n      <th>birthday</th>\n    </tr>\n  </thead>\n  <tbody>\n    <tr>\n      <th>0</th>\n      <td>A1YFM8RK</td>\n      <td>2016-12-14 17:00:00</td>\n      <td>A1YFM8RK_20161214</td>\n      <td>2016-12-14 17:00:00</td>\n      <td>72.0</td>\n      <td>18.0</td>\n      <td>134.5</td>\n      <td>99.0</td>\n      <td>36.6</td>\n      <td>M</td>\n      <td>19440428</td>\n    </tr>\n    <tr>\n      <th>56</th>\n      <td>A2URZ0WO</td>\n      <td>2013-06-06 15:00:00</td>\n      <td>A2URZ0WO_20130605</td>\n      <td>2013-06-06 15:00:00</td>\n      <td>64.0</td>\n      <td>15.0</td>\n      <td>151.0</td>\n      <td>100.0</td>\n      <td>36.1</td>\n      <td>M</td>\n      <td>19511108</td>\n    </tr>\n    <tr>\n      <th>114</th>\n      <td>A466E7ZP</td>\n      <td>2014-11-27 14:00:00</td>\n      <td>A466E7ZP_20141126</td>\n      <td>2014-11-27 14:00:00</td>\n      <td>99.0</td>\n      <td>23.0</td>\n      <td>90.0</td>\n      <td>100.0</td>\n      <td>36.4</td>\n      <td>F</td>\n      <td>19590408</td>\n    </tr>\n    <tr>\n      <th>149</th>\n      <td>A7L184WN</td>\n      <td>2015-06-03 19:00:00</td>\n      <td>A7L184WN_20150602</td>\n      <td>2015-06-03 19:00:00</td>\n      <td>62.0</td>\n      <td>14.0</td>\n      <td>106.0</td>\n      <td>98.0</td>\n      <td>36.4</td>\n      <td>F</td>\n      <td>19380104</td>\n    </tr>\n    <tr>\n      <th>203</th>\n      <td>A7OD133R</td>\n      <td>2014-08-08 22:00:00</td>\n      <td>A7OD133R_20140808</td>\n      <td>2014-08-08 22:00:00</td>\n      <td>90.0</td>\n      <td>25.0</td>\n      <td>187.0</td>\n      <td>100.0</td>\n      <td>36.0</td>\n      <td>F</td>\n      <td>19340926</td>\n    </tr>\n    <tr>\n      <th>...</th>\n      <td>...</td>\n      <td>...</td>\n      <td>...</td>\n      <td>...</td>\n      <td>...</td>\n      <td>...</td>\n      <td>...</td>\n      <td>...</td>\n      <td>...</td>\n      <td>...</td>\n      <td>...</td>\n    </tr>\n    <tr>\n      <th>475779</th>\n      <td>ZSS6SCRV</td>\n      <td>2015-11-17 08:00:00</td>\n      <td>ZSS6SCRV_20151117</td>\n      <td>2015-11-17 08:00:00</td>\n      <td>80.0</td>\n      <td>20.0</td>\n      <td>109.0</td>\n      <td>100.0</td>\n      <td>36.3</td>\n      <td>M</td>\n      <td>19470208</td>\n    </tr>\n    <tr>\n      <th>475892</th>\n      <td>ZSWGM94V</td>\n      <td>2015-05-20 15:00:00</td>\n      <td>ZSWGM94V_20150514</td>\n      <td>2015-05-20 15:00:00</td>\n      <td>101.0</td>\n      <td>14.0</td>\n      <td>118.0</td>\n      <td>95.0</td>\n      <td>36.3</td>\n      <td>M</td>\n      <td>19390110</td>\n    </tr>\n    <tr>\n      <th>475950</th>\n      <td>ZT62F5L9</td>\n      <td>2013-09-09 22:00:00</td>\n      <td>ZT62F5L9_20130909</td>\n      <td>2013-09-09 22:00:00</td>\n      <td>101.0</td>\n      <td>29.0</td>\n      <td>94.0</td>\n      <td>100.0</td>\n      <td>37.4</td>\n      <td>F</td>\n      <td>19430528</td>\n    </tr>\n    <tr>\n      <th>476049</th>\n      <td>ZUPOSLJF</td>\n      <td>2011-08-19 12:00:00</td>\n      <td>ZUPOSLJF_20110818</td>\n      <td>2011-08-19 12:00:00</td>\n      <td>124.0</td>\n      <td>17.0</td>\n      <td>97.0</td>\n      <td>95.0</td>\n      <td>36.7</td>\n      <td>F</td>\n      <td>19380705</td>\n    </tr>\n    <tr>\n      <th>476158</th>\n      <td>ZYEBEIQI</td>\n      <td>2014-06-10 21:00:00</td>\n      <td>ZYEBEIQI_20140610</td>\n      <td>2014-06-10 21:00:00</td>\n      <td>103.0</td>\n      <td>22.0</td>\n      <td>114.0</td>\n      <td>96.0</td>\n      <td>36.6</td>\n      <td>M</td>\n      <td>19580720</td>\n    </tr>\n  </tbody>\n</table>\n<p>597 rows × 11 columns</p>\n</div>"
     },
     "metadata": {},
     "execution_count": 11
    }
   ],
   "source": [
    "valid_nl = pd.merge(valid_sign_nl, valid_nl_sample[['patient_id', 'gender', 'birthday']], left_on = 'patient_id', right_on = 'patient_id', how = 'left')\n",
    "valid_nl[~valid_nl.duplicated('patient_id')]"
   ]
  },
  {
   "cell_type": "code",
   "execution_count": 12,
   "metadata": {},
   "outputs": [],
   "source": [
    "# target\n",
    "valid_data = get_target_df(valid_data)\n",
    "#valid_data.target.value_counts()"
   ]
  },
  {
   "cell_type": "code",
   "execution_count": 13,
   "metadata": {},
   "outputs": [
    {
     "output_type": "execute_result",
     "data": {
      "text/plain": [
       "             adjusted_time          event_time      detection_time\n",
       "225    2009-02-17 20:00:00 2009-03-04 12:32:00 2009-03-04 09:50:00\n",
       "226    2009-02-17 21:00:00 2009-03-04 12:32:00 2009-03-04 09:50:00\n",
       "227    2009-02-17 22:00:00 2009-03-04 12:32:00 2009-03-04 09:50:00\n",
       "228    2009-02-17 23:00:00 2009-03-04 12:32:00 2009-03-04 09:50:00\n",
       "229    2009-02-17 23:00:00 2009-03-04 12:32:00 2009-03-04 09:50:00\n",
       "...                    ...                 ...                 ...\n",
       "224561 2010-11-27 03:00:00 2010-11-27 21:54:00 2010-11-27 08:00:00\n",
       "224562 2010-11-27 04:00:00 2010-11-27 21:54:00 2010-11-27 08:00:00\n",
       "224563 2010-11-27 05:00:00 2010-11-27 21:54:00 2010-11-27 08:00:00\n",
       "224564 2010-11-27 06:00:00 2010-11-27 21:54:00 2010-11-27 08:00:00\n",
       "224565 2010-11-27 07:00:00 2010-11-27 21:54:00 2010-11-27 08:00:00\n",
       "\n",
       "[37062 rows x 3 columns]"
      ],
      "text/html": "<div>\n<style scoped>\n    .dataframe tbody tr th:only-of-type {\n        vertical-align: middle;\n    }\n\n    .dataframe tbody tr th {\n        vertical-align: top;\n    }\n\n    .dataframe thead th {\n        text-align: right;\n    }\n</style>\n<table border=\"1\" class=\"dataframe\">\n  <thead>\n    <tr style=\"text-align: right;\">\n      <th></th>\n      <th>adjusted_time</th>\n      <th>event_time</th>\n      <th>detection_time</th>\n    </tr>\n  </thead>\n  <tbody>\n    <tr>\n      <th>225</th>\n      <td>2009-02-17 20:00:00</td>\n      <td>2009-03-04 12:32:00</td>\n      <td>2009-03-04 09:50:00</td>\n    </tr>\n    <tr>\n      <th>226</th>\n      <td>2009-02-17 21:00:00</td>\n      <td>2009-03-04 12:32:00</td>\n      <td>2009-03-04 09:50:00</td>\n    </tr>\n    <tr>\n      <th>227</th>\n      <td>2009-02-17 22:00:00</td>\n      <td>2009-03-04 12:32:00</td>\n      <td>2009-03-04 09:50:00</td>\n    </tr>\n    <tr>\n      <th>228</th>\n      <td>2009-02-17 23:00:00</td>\n      <td>2009-03-04 12:32:00</td>\n      <td>2009-03-04 09:50:00</td>\n    </tr>\n    <tr>\n      <th>229</th>\n      <td>2009-02-17 23:00:00</td>\n      <td>2009-03-04 12:32:00</td>\n      <td>2009-03-04 09:50:00</td>\n    </tr>\n    <tr>\n      <th>...</th>\n      <td>...</td>\n      <td>...</td>\n      <td>...</td>\n    </tr>\n    <tr>\n      <th>224561</th>\n      <td>2010-11-27 03:00:00</td>\n      <td>2010-11-27 21:54:00</td>\n      <td>2010-11-27 08:00:00</td>\n    </tr>\n    <tr>\n      <th>224562</th>\n      <td>2010-11-27 04:00:00</td>\n      <td>2010-11-27 21:54:00</td>\n      <td>2010-11-27 08:00:00</td>\n    </tr>\n    <tr>\n      <th>224563</th>\n      <td>2010-11-27 05:00:00</td>\n      <td>2010-11-27 21:54:00</td>\n      <td>2010-11-27 08:00:00</td>\n    </tr>\n    <tr>\n      <th>224564</th>\n      <td>2010-11-27 06:00:00</td>\n      <td>2010-11-27 21:54:00</td>\n      <td>2010-11-27 08:00:00</td>\n    </tr>\n    <tr>\n      <th>224565</th>\n      <td>2010-11-27 07:00:00</td>\n      <td>2010-11-27 21:54:00</td>\n      <td>2010-11-27 08:00:00</td>\n    </tr>\n  </tbody>\n</table>\n<p>37062 rows × 3 columns</p>\n</div>"
     },
     "metadata": {},
     "execution_count": 13
    }
   ],
   "source": [
    "valid_data[valid_data['target'] == 0][['adjusted_time', 'event_time', 'detection_time']]"
   ]
  },
  {
   "cell_type": "code",
   "execution_count": 14,
   "metadata": {},
   "outputs": [
    {
     "output_type": "execute_result",
     "data": {
      "text/plain": [
       "0    476330\n",
       "Name: target, dtype: int64"
      ]
     },
     "metadata": {},
     "execution_count": 14
    }
   ],
   "source": [
    "valid_nl = get_target_df(valid_nl, False)\n",
    "#get_target_df(valid_data)\n",
    "valid_nl.target.value_counts()"
   ]
  },
  {
   "cell_type": "code",
   "execution_count": 15,
   "metadata": {},
   "outputs": [
    {
     "output_type": "stream",
     "name": "stdout",
     "text": [
      "--------------------------------------------------\nCBC data\n"
     ]
    }
   ],
   "source": [
    "valid_data['gender'] = valid_data['gender'].astype('category').cat.codes\n",
    "valid_data['TS'] = make_timestamp(valid_data, index = 'patient_id')\n",
    "valid_data['birthday'] = pd.to_datetime(valid_data['birthday'])\n",
    "valid_data['Age'] = (valid_data['event_time'] - valid_data['birthday']).astype('timedelta64[D]')\n",
    "valid_data['Age'] = (valid_data['Age'] / (366)).round().astype(int)\n",
    "valid_data = valid_data.drop(['patient', 'birthday'], axis = 1)\n",
    "valid_data = valid_data.rename(columns = {\n",
    "'gender': 'Gender'\n",
    "})\n",
    "print('-' * 50)\n",
    "print('CBC data')\n",
    "valid_blood_trn_cbc = pd.read_csv(\n",
    "    os.path.join(dp.valid_path, 'trn_abn_cbc.csv'),\n",
    "    encoding = 'CP949'\n",
    ")\n",
    "valid_blood_tst_cbc = pd.read_csv(\n",
    "    os.path.join(dp.valid_path, 'tst_abn_cbc.csv'),\n",
    "    encoding = 'CP949'\n",
    ")"
   ]
  },
  {
   "cell_type": "code",
   "execution_count": 16,
   "metadata": {},
   "outputs": [],
   "source": [
    "valid_nl['gender'] = valid_nl['gender'].astype('category').cat.codes\n",
    "valid_nl['TS'] = make_timestamp(valid_nl, index = 'patient_id')\n",
    "valid_nl['birthday'] = pd.to_datetime(valid_nl['birthday'])\n",
    "valid_nl['Age'] = (valid_nl['measurement_time'] - valid_nl['birthday']).astype('timedelta64[D]')\n",
    "valid_nl['Age'] = (valid_nl['Age'] / (366)).round().astype(int)\n",
    "valid_nl = valid_nl.drop(['patient', 'birthday'], axis = 1)\n",
    "valid_nl = valid_nl.rename(columns = {\n",
    "    'gender': 'Gender'\n",
    "})\n"
   ]
  },
  {
   "cell_type": "code",
   "execution_count": 17,
   "metadata": {},
   "outputs": [
    {
     "output_type": "stream",
     "name": "stdout",
     "text": [
      "--------------------------------------------------\nCBC data\n"
     ]
    },
    {
     "output_type": "execute_result",
     "data": {
      "text/plain": [
       "                   patient        adjusted_time  Hgb  Platelet Count  \\\n",
       "0        A01J9AP0_20150612  2015-06-12 20:00:00  7.7            12.0   \n",
       "1        A01J9AP0_20150612  2015-06-12 21:00:00  7.7            12.0   \n",
       "2        A01J9AP0_20150612  2015-06-12 22:00:00  7.7            12.0   \n",
       "3        A01J9AP0_20150612  2015-06-12 23:00:00  7.7            12.0   \n",
       "4        A01J9AP0_20150612  2015-06-13 00:00:00  7.7            12.0   \n",
       "...                    ...                  ...  ...             ...   \n",
       "4764645  ZZZZRQ96_20180513  2018-05-20 02:00:00  9.4            82.0   \n",
       "4764646  ZZZZRQ96_20180513  2018-05-20 03:00:00  9.4            82.0   \n",
       "4764647  ZZZZRQ96_20180513  2018-05-20 04:00:00  9.4            82.0   \n",
       "4764648  ZZZZRQ96_20180513  2018-05-20 05:00:00  9.4            82.0   \n",
       "4764649  ZZZZRQ96_20180513  2018-05-20 06:00:00  9.5           147.0   \n",
       "\n",
       "         WBC Count     measurement_time  \n",
       "0              4.0  2015-06-12 19:31:00  \n",
       "1              4.0  2015-06-12 19:31:00  \n",
       "2              4.0  2015-06-12 19:31:00  \n",
       "3              4.0  2015-06-12 19:31:00  \n",
       "4              4.0  2015-06-12 19:31:00  \n",
       "...            ...                  ...  \n",
       "4764645       16.5  2018-05-19 05:43:00  \n",
       "4764646       16.5  2018-05-19 05:43:00  \n",
       "4764647       16.5  2018-05-19 05:43:00  \n",
       "4764648       16.5  2018-05-19 05:43:00  \n",
       "4764649       16.5  2018-05-20 05:35:00  \n",
       "\n",
       "[4764650 rows x 6 columns]"
      ],
      "text/html": "<div>\n<style scoped>\n    .dataframe tbody tr th:only-of-type {\n        vertical-align: middle;\n    }\n\n    .dataframe tbody tr th {\n        vertical-align: top;\n    }\n\n    .dataframe thead th {\n        text-align: right;\n    }\n</style>\n<table border=\"1\" class=\"dataframe\">\n  <thead>\n    <tr style=\"text-align: right;\">\n      <th></th>\n      <th>patient</th>\n      <th>adjusted_time</th>\n      <th>Hgb</th>\n      <th>Platelet Count</th>\n      <th>WBC Count</th>\n      <th>measurement_time</th>\n    </tr>\n  </thead>\n  <tbody>\n    <tr>\n      <th>0</th>\n      <td>A01J9AP0_20150612</td>\n      <td>2015-06-12 20:00:00</td>\n      <td>7.7</td>\n      <td>12.0</td>\n      <td>4.0</td>\n      <td>2015-06-12 19:31:00</td>\n    </tr>\n    <tr>\n      <th>1</th>\n      <td>A01J9AP0_20150612</td>\n      <td>2015-06-12 21:00:00</td>\n      <td>7.7</td>\n      <td>12.0</td>\n      <td>4.0</td>\n      <td>2015-06-12 19:31:00</td>\n    </tr>\n    <tr>\n      <th>2</th>\n      <td>A01J9AP0_20150612</td>\n      <td>2015-06-12 22:00:00</td>\n      <td>7.7</td>\n      <td>12.0</td>\n      <td>4.0</td>\n      <td>2015-06-12 19:31:00</td>\n    </tr>\n    <tr>\n      <th>3</th>\n      <td>A01J9AP0_20150612</td>\n      <td>2015-06-12 23:00:00</td>\n      <td>7.7</td>\n      <td>12.0</td>\n      <td>4.0</td>\n      <td>2015-06-12 19:31:00</td>\n    </tr>\n    <tr>\n      <th>4</th>\n      <td>A01J9AP0_20150612</td>\n      <td>2015-06-13 00:00:00</td>\n      <td>7.7</td>\n      <td>12.0</td>\n      <td>4.0</td>\n      <td>2015-06-12 19:31:00</td>\n    </tr>\n    <tr>\n      <th>...</th>\n      <td>...</td>\n      <td>...</td>\n      <td>...</td>\n      <td>...</td>\n      <td>...</td>\n      <td>...</td>\n    </tr>\n    <tr>\n      <th>4764645</th>\n      <td>ZZZZRQ96_20180513</td>\n      <td>2018-05-20 02:00:00</td>\n      <td>9.4</td>\n      <td>82.0</td>\n      <td>16.5</td>\n      <td>2018-05-19 05:43:00</td>\n    </tr>\n    <tr>\n      <th>4764646</th>\n      <td>ZZZZRQ96_20180513</td>\n      <td>2018-05-20 03:00:00</td>\n      <td>9.4</td>\n      <td>82.0</td>\n      <td>16.5</td>\n      <td>2018-05-19 05:43:00</td>\n    </tr>\n    <tr>\n      <th>4764647</th>\n      <td>ZZZZRQ96_20180513</td>\n      <td>2018-05-20 04:00:00</td>\n      <td>9.4</td>\n      <td>82.0</td>\n      <td>16.5</td>\n      <td>2018-05-19 05:43:00</td>\n    </tr>\n    <tr>\n      <th>4764648</th>\n      <td>ZZZZRQ96_20180513</td>\n      <td>2018-05-20 05:00:00</td>\n      <td>9.4</td>\n      <td>82.0</td>\n      <td>16.5</td>\n      <td>2018-05-19 05:43:00</td>\n    </tr>\n    <tr>\n      <th>4764649</th>\n      <td>ZZZZRQ96_20180513</td>\n      <td>2018-05-20 06:00:00</td>\n      <td>9.5</td>\n      <td>147.0</td>\n      <td>16.5</td>\n      <td>2018-05-20 05:35:00</td>\n    </tr>\n  </tbody>\n</table>\n<p>4764650 rows × 6 columns</p>\n</div>"
     },
     "metadata": {},
     "execution_count": 17
    }
   ],
   "source": [
    "print('-' * 50)\n",
    "print('CBC data')\n",
    "valid_blood_trn_cbc_nl = pd.read_csv(\n",
    "    os.path.join(dp.valid_path, 'trn_nl_cbc.csv'),\n",
    "    encoding = 'CP949'\n",
    ")\n",
    "valid_blood_trn_cbc_nl"
   ]
  },
  {
   "cell_type": "code",
   "execution_count": 18,
   "metadata": {},
   "outputs": [
    {
     "output_type": "stream",
     "name": "stdout",
     "text": [
      "--------------------------------------------------\nChem data\nGlucose freq: \n2    9792\n1     789\n0      73\nName: Glucose, dtype: int64\nSodium counts: \n1    6030\n0    3963\n2     661\nName: Sodium, dtype: int64\nPotassium counts: \n1    7311\n0    2692\n2     651\nName: Potassium, dtype: int64\nChloride counts: \n1    7829\n0    1827\n2     998\nName: Chloride, dtype: int64\n"
     ]
    }
   ],
   "source": [
    "  valid_blood_cbc = pd.concat([valid_blood_trn_cbc, valid_blood_tst_cbc])\n",
    "  valid_blood_cbc['patient_id'] = valid_blood_cbc['patient'].apply(lambda x: x[:8])\n",
    "  valid_blood_cbc = valid_blood_cbc[valid_blood_cbc['patient_id'].isin(valid_event['patient_id'])]\n",
    "  valid_blood_cbc = valid_blood_cbc.drop(['event_time', 'measurement_time', 'patient'], axis = 1)\n",
    "  \n",
    "  # filter cbc value\n",
    "  valid_blood_cbc = adjust_cbc(valid_blood_cbc)\n",
    "  valid_blood_cbc = valid_blood_cbc.rename(columns = {\n",
    "    'Platelet Count': 'platelet'\n",
    "  })\n",
    "  ##########\n",
    "  print('-' * 50)\n",
    "  print('Chem data')\n",
    "  valid_blood_trn_lab = pd.read_csv(\n",
    "    os.path.join(dp.valid_path, 'trn_abn_chem.csv'),\n",
    "    encoding = 'CP949'\n",
    "  )\n",
    "  valid_blood_tst_lab = pd.read_csv(\n",
    "    os.path.join(dp.valid_path, 'tst_abn_chem.csv'),\n",
    "    encoding = 'CP949'\n",
    "  )\n",
    "\n",
    "  valid_blood_chem = pd.concat([valid_blood_trn_lab, valid_blood_tst_lab])\n",
    "  valid_blood_chem['patient_id'] = valid_blood_chem['patient'].apply(lambda x: x[:8])\n",
    "  valid_blood_chem = valid_blood_chem[valid_blood_chem['patient_id'].isin(valid_event['patient_id'])]\n",
    "  valid_blood_chem = valid_blood_chem.drop(['event_time', 'measurement_time', 'patient'], axis = 1)\n",
    "\n",
    "  # adjust chem values\n",
    "  valid_blood_chem = adjust_chem(valid_blood_chem)\n",
    "  valid_blood_chem = valid_blood_chem.rename(columns = {\n",
    "    'Total Bilirubin': 'Total bilirubin',\n",
    "    'Total Protein': 'Total protein',\n",
    "    'Total Calcium': 'Total calcium',\n",
    "    'Alkaline Phosphatase' : 'Alkaline phosphatase',\n",
    "    'Creatinine': 'Creatinin'\n",
    "  })\n",
    "  if verbose:\n",
    "    print('Glucose freq: ')\n",
    "    print( valid_blood_chem['Glucose'].value_counts())\n",
    "    print('Sodium counts: ')\n",
    "    print( valid_blood_chem['Sodium'].value_counts())\n",
    "    print('Potassium counts: ')\n",
    "    print( valid_blood_chem['Potassium'].value_counts())\n",
    "    print('Chloride counts: ')\n",
    "    print( valid_blood_chem['Chloride'].value_counts())\n",
    "\n",
    "  # merge blood data\n",
    "\n",
    "  valid_blood = pd.merge(valid_blood_cbc, valid_blood_chem, how = 'left', \\\n",
    "    on = ['patient_id', 'adjusted_time'])\n",
    "\n",
    "  blood_properties = ['WBC Count', 'Platelet Count', 'Hgb','BUN', 'creatinin', 'Glucose', \n",
    "                  'Sodium', 'Potassium', 'Chloride', 'Total protein', 'Total bilirubin',\n",
    "                  'Albumin', 'CRP','Total calcium', 'Lactate', 'Alkaline phosphatase',\n",
    "                  'AST', 'ALT']\n",
    "\n",
    "  #for p in blood_properties:\n",
    "  #  valid_blood[p].fillna(round(valid_blood[p].mean(), 1), inplace=True)\n"
   ]
  },
  {
   "cell_type": "code",
   "execution_count": 19,
   "metadata": {},
   "outputs": [
    {
     "output_type": "execute_result",
     "data": {
      "text/plain": [
       "                   patient        adjusted_time   Hgb  platelet  WBC Count  \\\n",
       "8712     A1YFM8RK_20150910  2015-09-10 15:00:00  11.5     223.0          1   \n",
       "8713     A1YFM8RK_20151001  2015-10-01 16:00:00  11.2     245.0          1   \n",
       "8714     A1YFM8RK_20151022  2015-10-22 16:00:00  10.7     189.0          0   \n",
       "8715     A1YFM8RK_20151022  2015-10-22 17:00:00  10.7     189.0          0   \n",
       "8716     A1YFM8RK_20151022  2015-10-22 18:00:00  10.7     189.0          0   \n",
       "...                    ...                  ...   ...       ...        ...   \n",
       "4760584  ZZF3O2KG_20100629  2010-07-05 08:00:00  11.5     262.0          0   \n",
       "4760585  ZZF3O2KG_20100629  2010-07-05 09:00:00  11.5     262.0          0   \n",
       "4760586  ZZF3O2KG_20100629  2010-07-05 10:00:00  11.5     262.0          0   \n",
       "4760587  ZZF3O2KG_20100629  2010-07-05 11:00:00  11.5     262.0          0   \n",
       "4760588  ZZF3O2KG_20100629  2010-07-05 12:00:00  12.0     268.0          0   \n",
       "\n",
       "            measurement_time patient_id  \n",
       "8712     2015-09-10 14:35:00   A1YFM8RK  \n",
       "8713     2015-10-01 15:56:00   A1YFM8RK  \n",
       "8714     2015-10-22 16:16:00   A1YFM8RK  \n",
       "8715     2015-10-22 16:16:00   A1YFM8RK  \n",
       "8716     2015-10-22 16:16:00   A1YFM8RK  \n",
       "...                      ...        ...  \n",
       "4760584  2010-07-03 10:58:00   ZZF3O2KG  \n",
       "4760585  2010-07-03 10:58:00   ZZF3O2KG  \n",
       "4760586  2010-07-03 10:58:00   ZZF3O2KG  \n",
       "4760587  2010-07-03 10:58:00   ZZF3O2KG  \n",
       "4760588  2010-07-05 12:28:00   ZZF3O2KG  \n",
       "\n",
       "[296292 rows x 7 columns]"
      ],
      "text/html": "<div>\n<style scoped>\n    .dataframe tbody tr th:only-of-type {\n        vertical-align: middle;\n    }\n\n    .dataframe tbody tr th {\n        vertical-align: top;\n    }\n\n    .dataframe thead th {\n        text-align: right;\n    }\n</style>\n<table border=\"1\" class=\"dataframe\">\n  <thead>\n    <tr style=\"text-align: right;\">\n      <th></th>\n      <th>patient</th>\n      <th>adjusted_time</th>\n      <th>Hgb</th>\n      <th>platelet</th>\n      <th>WBC Count</th>\n      <th>measurement_time</th>\n      <th>patient_id</th>\n    </tr>\n  </thead>\n  <tbody>\n    <tr>\n      <th>8712</th>\n      <td>A1YFM8RK_20150910</td>\n      <td>2015-09-10 15:00:00</td>\n      <td>11.5</td>\n      <td>223.0</td>\n      <td>1</td>\n      <td>2015-09-10 14:35:00</td>\n      <td>A1YFM8RK</td>\n    </tr>\n    <tr>\n      <th>8713</th>\n      <td>A1YFM8RK_20151001</td>\n      <td>2015-10-01 16:00:00</td>\n      <td>11.2</td>\n      <td>245.0</td>\n      <td>1</td>\n      <td>2015-10-01 15:56:00</td>\n      <td>A1YFM8RK</td>\n    </tr>\n    <tr>\n      <th>8714</th>\n      <td>A1YFM8RK_20151022</td>\n      <td>2015-10-22 16:00:00</td>\n      <td>10.7</td>\n      <td>189.0</td>\n      <td>0</td>\n      <td>2015-10-22 16:16:00</td>\n      <td>A1YFM8RK</td>\n    </tr>\n    <tr>\n      <th>8715</th>\n      <td>A1YFM8RK_20151022</td>\n      <td>2015-10-22 17:00:00</td>\n      <td>10.7</td>\n      <td>189.0</td>\n      <td>0</td>\n      <td>2015-10-22 16:16:00</td>\n      <td>A1YFM8RK</td>\n    </tr>\n    <tr>\n      <th>8716</th>\n      <td>A1YFM8RK_20151022</td>\n      <td>2015-10-22 18:00:00</td>\n      <td>10.7</td>\n      <td>189.0</td>\n      <td>0</td>\n      <td>2015-10-22 16:16:00</td>\n      <td>A1YFM8RK</td>\n    </tr>\n    <tr>\n      <th>...</th>\n      <td>...</td>\n      <td>...</td>\n      <td>...</td>\n      <td>...</td>\n      <td>...</td>\n      <td>...</td>\n      <td>...</td>\n    </tr>\n    <tr>\n      <th>4760584</th>\n      <td>ZZF3O2KG_20100629</td>\n      <td>2010-07-05 08:00:00</td>\n      <td>11.5</td>\n      <td>262.0</td>\n      <td>0</td>\n      <td>2010-07-03 10:58:00</td>\n      <td>ZZF3O2KG</td>\n    </tr>\n    <tr>\n      <th>4760585</th>\n      <td>ZZF3O2KG_20100629</td>\n      <td>2010-07-05 09:00:00</td>\n      <td>11.5</td>\n      <td>262.0</td>\n      <td>0</td>\n      <td>2010-07-03 10:58:00</td>\n      <td>ZZF3O2KG</td>\n    </tr>\n    <tr>\n      <th>4760586</th>\n      <td>ZZF3O2KG_20100629</td>\n      <td>2010-07-05 10:00:00</td>\n      <td>11.5</td>\n      <td>262.0</td>\n      <td>0</td>\n      <td>2010-07-03 10:58:00</td>\n      <td>ZZF3O2KG</td>\n    </tr>\n    <tr>\n      <th>4760587</th>\n      <td>ZZF3O2KG_20100629</td>\n      <td>2010-07-05 11:00:00</td>\n      <td>11.5</td>\n      <td>262.0</td>\n      <td>0</td>\n      <td>2010-07-03 10:58:00</td>\n      <td>ZZF3O2KG</td>\n    </tr>\n    <tr>\n      <th>4760588</th>\n      <td>ZZF3O2KG_20100629</td>\n      <td>2010-07-05 12:00:00</td>\n      <td>12.0</td>\n      <td>268.0</td>\n      <td>0</td>\n      <td>2010-07-05 12:28:00</td>\n      <td>ZZF3O2KG</td>\n    </tr>\n  </tbody>\n</table>\n<p>296292 rows × 7 columns</p>\n</div>"
     },
     "metadata": {},
     "execution_count": 19
    }
   ],
   "source": [
    "valid_blood_cbc_nl = valid_blood_trn_cbc_nl#pd.concat([valid_blood_trn_cbc_nl])\n",
    "valid_blood_cbc_nl['patient_id'] = valid_blood_cbc_nl['patient'].apply(lambda x: x[:8])\n",
    "valid_blood_cbc_nl = valid_blood_cbc_nl[valid_blood_cbc_nl['patient_id'].isin(valid_nl_sample['patient_id'])]\n",
    "#  valid_blood_cbc_nl = valid_blood_cbc_nl.drop(['measurement_time', 'patient'], axis = 1)\n",
    "  \n",
    "  # filter cbc value\n",
    "valid_blood_cbc_nl = adjust_cbc(valid_blood_cbc_nl)\n",
    "valid_blood_cbc_nl = valid_blood_cbc_nl.rename(columns = {\n",
    "'Platelet Count': 'platelet'\n",
    "})\n",
    "valid_blood_cbc_nl "
   ]
  },
  {
   "cell_type": "code",
   "execution_count": 20,
   "metadata": {},
   "outputs": [
    {
     "output_type": "stream",
     "name": "stdout",
     "text": [
      "--------------------------------------------------\nChem data\n"
     ]
    }
   ],
   "source": [
    "##########\n",
    "print('-' * 50)\n",
    "print('Chem data')\n",
    "valid_blood_trn_lab_nl = pd.read_csv(\n",
    "    os.path.join(dp.valid_path, 'trn_nl_chem.csv'),\n",
    "    encoding = 'CP949'\n",
    ")\n",
    "\n",
    "valid_blood_chem_nl = valid_blood_trn_lab_nl #pd.concat([valid_blood_trn_lab, valid_blood_tst_lab])\n",
    "valid_blood_chem_nl['patient_id'] = valid_blood_chem_nl['patient'].apply(lambda x: x[:8])\n",
    "valid_blood_chem_nl = valid_blood_chem_nl[valid_blood_chem_nl['patient_id'].isin(valid_nl_sample['patient_id'])]\n",
    "valid_blood_chem_nl = valid_blood_chem_nl.drop(['measurement_time'], axis = 1)\n",
    "valid_blood_chem_nl = valid_blood_chem_nl.rename(columns={\n",
    "    'Chloride (염소)': 'Chloride',\n",
    "    'CRP (Quantitation)-임상화학': 'CRP'\n",
    "})\n"
   ]
  },
  {
   "cell_type": "code",
   "execution_count": 21,
   "metadata": {},
   "outputs": [],
   "source": [
    "# adjust chem values\n",
    "valid_blood_chem_nl = adjust_chem(valid_blood_chem_nl)\n",
    "valid_blood_chem_nl = valid_blood_chem_nl.rename(columns = {\n",
    "'Total Bilirubin': 'Total bilirubin',\n",
    "'Total Protein': 'Total protein',\n",
    "'Total Calcium': 'Total calcium',\n",
    "'Alkaline Phosphatase' : 'Alkaline phosphatase',\n",
    "'Creatinine': 'Creatinin'\n",
    "})\n",
    "\n",
    "#for p in blood_properties:\n",
    "#  valid_blood[p].fillna(round(valid_blood[p].mean(), 1), inplace=True)\n"
   ]
  },
  {
   "cell_type": "code",
   "execution_count": 22,
   "metadata": {},
   "outputs": [
    {
     "output_type": "execute_result",
     "data": {
      "text/plain": [
       "                patient_x        adjusted_time   Hgb  platelet  WBC Count  \\\n",
       "0       A1YFM8RK_20150910  2015-09-10 15:00:00  11.5     223.0          1   \n",
       "1       A1YFM8RK_20151001  2015-10-01 16:00:00  11.2     245.0          1   \n",
       "2       A1YFM8RK_20151022  2015-10-22 16:00:00  10.7     189.0          0   \n",
       "3       A1YFM8RK_20151022  2015-10-22 17:00:00  10.7     189.0          0   \n",
       "4       A1YFM8RK_20151022  2015-10-22 18:00:00  10.7     189.0          0   \n",
       "...                   ...                  ...   ...       ...        ...   \n",
       "296287  ZZF3O2KG_20100629  2010-07-05 08:00:00  11.5     262.0          0   \n",
       "296288  ZZF3O2KG_20100629  2010-07-05 09:00:00  11.5     262.0          0   \n",
       "296289  ZZF3O2KG_20100629  2010-07-05 10:00:00  11.5     262.0          0   \n",
       "296290  ZZF3O2KG_20100629  2010-07-05 11:00:00  11.5     262.0          0   \n",
       "296291  ZZF3O2KG_20100629  2010-07-05 12:00:00  12.0     268.0          0   \n",
       "\n",
       "           measurement_time patient_id patient_y  ALT  AST  ...  CRP  \\\n",
       "0       2015-09-10 14:35:00   A1YFM8RK       NaN  NaN  NaN  ...  NaN   \n",
       "1       2015-10-01 15:56:00   A1YFM8RK       NaN  NaN  NaN  ...  NaN   \n",
       "2       2015-10-22 16:16:00   A1YFM8RK       NaN  NaN  NaN  ...  NaN   \n",
       "3       2015-10-22 16:16:00   A1YFM8RK       NaN  NaN  NaN  ...  NaN   \n",
       "4       2015-10-22 16:16:00   A1YFM8RK       NaN  NaN  NaN  ...  NaN   \n",
       "...                     ...        ...       ...  ...  ...  ...  ...   \n",
       "296287  2010-07-03 10:58:00   ZZF3O2KG       NaN  NaN  NaN  ...  NaN   \n",
       "296288  2010-07-03 10:58:00   ZZF3O2KG       NaN  NaN  NaN  ...  NaN   \n",
       "296289  2010-07-03 10:58:00   ZZF3O2KG       NaN  NaN  NaN  ...  NaN   \n",
       "296290  2010-07-03 10:58:00   ZZF3O2KG       NaN  NaN  NaN  ...  NaN   \n",
       "296291  2010-07-05 12:28:00   ZZF3O2KG       NaN  NaN  NaN  ...  NaN   \n",
       "\n",
       "        Chloride  Creatinin  Glucose  Lactate  Potassium  Sodium  \\\n",
       "0            NaN        NaN      NaN      NaN        NaN     NaN   \n",
       "1            NaN        NaN      NaN      NaN        NaN     NaN   \n",
       "2            NaN        NaN      NaN      NaN        NaN     NaN   \n",
       "3            NaN        NaN      NaN      NaN        NaN     NaN   \n",
       "4            NaN        NaN      NaN      NaN        NaN     NaN   \n",
       "...          ...        ...      ...      ...        ...     ...   \n",
       "296287       NaN        NaN      NaN      NaN        NaN     NaN   \n",
       "296288       NaN        NaN      NaN      NaN        NaN     NaN   \n",
       "296289       NaN        NaN      NaN      NaN        NaN     NaN   \n",
       "296290       NaN        NaN      NaN      NaN        NaN     NaN   \n",
       "296291       NaN        NaN      NaN      NaN        NaN     NaN   \n",
       "\n",
       "        Total bilirubin  Total calcium  Total protein  \n",
       "0                   NaN            NaN            NaN  \n",
       "1                   NaN            NaN            NaN  \n",
       "2                   NaN            NaN            NaN  \n",
       "3                   NaN            NaN            NaN  \n",
       "4                   NaN            NaN            NaN  \n",
       "...                 ...            ...            ...  \n",
       "296287              NaN            NaN            NaN  \n",
       "296288              NaN            NaN            NaN  \n",
       "296289              NaN            NaN            NaN  \n",
       "296290              NaN            NaN            NaN  \n",
       "296291              NaN            NaN            NaN  \n",
       "\n",
       "[296292 rows x 23 columns]"
      ],
      "text/html": "<div>\n<style scoped>\n    .dataframe tbody tr th:only-of-type {\n        vertical-align: middle;\n    }\n\n    .dataframe tbody tr th {\n        vertical-align: top;\n    }\n\n    .dataframe thead th {\n        text-align: right;\n    }\n</style>\n<table border=\"1\" class=\"dataframe\">\n  <thead>\n    <tr style=\"text-align: right;\">\n      <th></th>\n      <th>patient_x</th>\n      <th>adjusted_time</th>\n      <th>Hgb</th>\n      <th>platelet</th>\n      <th>WBC Count</th>\n      <th>measurement_time</th>\n      <th>patient_id</th>\n      <th>patient_y</th>\n      <th>ALT</th>\n      <th>AST</th>\n      <th>...</th>\n      <th>CRP</th>\n      <th>Chloride</th>\n      <th>Creatinin</th>\n      <th>Glucose</th>\n      <th>Lactate</th>\n      <th>Potassium</th>\n      <th>Sodium</th>\n      <th>Total bilirubin</th>\n      <th>Total calcium</th>\n      <th>Total protein</th>\n    </tr>\n  </thead>\n  <tbody>\n    <tr>\n      <th>0</th>\n      <td>A1YFM8RK_20150910</td>\n      <td>2015-09-10 15:00:00</td>\n      <td>11.5</td>\n      <td>223.0</td>\n      <td>1</td>\n      <td>2015-09-10 14:35:00</td>\n      <td>A1YFM8RK</td>\n      <td>NaN</td>\n      <td>NaN</td>\n      <td>NaN</td>\n      <td>...</td>\n      <td>NaN</td>\n      <td>NaN</td>\n      <td>NaN</td>\n      <td>NaN</td>\n      <td>NaN</td>\n      <td>NaN</td>\n      <td>NaN</td>\n      <td>NaN</td>\n      <td>NaN</td>\n      <td>NaN</td>\n    </tr>\n    <tr>\n      <th>1</th>\n      <td>A1YFM8RK_20151001</td>\n      <td>2015-10-01 16:00:00</td>\n      <td>11.2</td>\n      <td>245.0</td>\n      <td>1</td>\n      <td>2015-10-01 15:56:00</td>\n      <td>A1YFM8RK</td>\n      <td>NaN</td>\n      <td>NaN</td>\n      <td>NaN</td>\n      <td>...</td>\n      <td>NaN</td>\n      <td>NaN</td>\n      <td>NaN</td>\n      <td>NaN</td>\n      <td>NaN</td>\n      <td>NaN</td>\n      <td>NaN</td>\n      <td>NaN</td>\n      <td>NaN</td>\n      <td>NaN</td>\n    </tr>\n    <tr>\n      <th>2</th>\n      <td>A1YFM8RK_20151022</td>\n      <td>2015-10-22 16:00:00</td>\n      <td>10.7</td>\n      <td>189.0</td>\n      <td>0</td>\n      <td>2015-10-22 16:16:00</td>\n      <td>A1YFM8RK</td>\n      <td>NaN</td>\n      <td>NaN</td>\n      <td>NaN</td>\n      <td>...</td>\n      <td>NaN</td>\n      <td>NaN</td>\n      <td>NaN</td>\n      <td>NaN</td>\n      <td>NaN</td>\n      <td>NaN</td>\n      <td>NaN</td>\n      <td>NaN</td>\n      <td>NaN</td>\n      <td>NaN</td>\n    </tr>\n    <tr>\n      <th>3</th>\n      <td>A1YFM8RK_20151022</td>\n      <td>2015-10-22 17:00:00</td>\n      <td>10.7</td>\n      <td>189.0</td>\n      <td>0</td>\n      <td>2015-10-22 16:16:00</td>\n      <td>A1YFM8RK</td>\n      <td>NaN</td>\n      <td>NaN</td>\n      <td>NaN</td>\n      <td>...</td>\n      <td>NaN</td>\n      <td>NaN</td>\n      <td>NaN</td>\n      <td>NaN</td>\n      <td>NaN</td>\n      <td>NaN</td>\n      <td>NaN</td>\n      <td>NaN</td>\n      <td>NaN</td>\n      <td>NaN</td>\n    </tr>\n    <tr>\n      <th>4</th>\n      <td>A1YFM8RK_20151022</td>\n      <td>2015-10-22 18:00:00</td>\n      <td>10.7</td>\n      <td>189.0</td>\n      <td>0</td>\n      <td>2015-10-22 16:16:00</td>\n      <td>A1YFM8RK</td>\n      <td>NaN</td>\n      <td>NaN</td>\n      <td>NaN</td>\n      <td>...</td>\n      <td>NaN</td>\n      <td>NaN</td>\n      <td>NaN</td>\n      <td>NaN</td>\n      <td>NaN</td>\n      <td>NaN</td>\n      <td>NaN</td>\n      <td>NaN</td>\n      <td>NaN</td>\n      <td>NaN</td>\n    </tr>\n    <tr>\n      <th>...</th>\n      <td>...</td>\n      <td>...</td>\n      <td>...</td>\n      <td>...</td>\n      <td>...</td>\n      <td>...</td>\n      <td>...</td>\n      <td>...</td>\n      <td>...</td>\n      <td>...</td>\n      <td>...</td>\n      <td>...</td>\n      <td>...</td>\n      <td>...</td>\n      <td>...</td>\n      <td>...</td>\n      <td>...</td>\n      <td>...</td>\n      <td>...</td>\n      <td>...</td>\n      <td>...</td>\n    </tr>\n    <tr>\n      <th>296287</th>\n      <td>ZZF3O2KG_20100629</td>\n      <td>2010-07-05 08:00:00</td>\n      <td>11.5</td>\n      <td>262.0</td>\n      <td>0</td>\n      <td>2010-07-03 10:58:00</td>\n      <td>ZZF3O2KG</td>\n      <td>NaN</td>\n      <td>NaN</td>\n      <td>NaN</td>\n      <td>...</td>\n      <td>NaN</td>\n      <td>NaN</td>\n      <td>NaN</td>\n      <td>NaN</td>\n      <td>NaN</td>\n      <td>NaN</td>\n      <td>NaN</td>\n      <td>NaN</td>\n      <td>NaN</td>\n      <td>NaN</td>\n    </tr>\n    <tr>\n      <th>296288</th>\n      <td>ZZF3O2KG_20100629</td>\n      <td>2010-07-05 09:00:00</td>\n      <td>11.5</td>\n      <td>262.0</td>\n      <td>0</td>\n      <td>2010-07-03 10:58:00</td>\n      <td>ZZF3O2KG</td>\n      <td>NaN</td>\n      <td>NaN</td>\n      <td>NaN</td>\n      <td>...</td>\n      <td>NaN</td>\n      <td>NaN</td>\n      <td>NaN</td>\n      <td>NaN</td>\n      <td>NaN</td>\n      <td>NaN</td>\n      <td>NaN</td>\n      <td>NaN</td>\n      <td>NaN</td>\n      <td>NaN</td>\n    </tr>\n    <tr>\n      <th>296289</th>\n      <td>ZZF3O2KG_20100629</td>\n      <td>2010-07-05 10:00:00</td>\n      <td>11.5</td>\n      <td>262.0</td>\n      <td>0</td>\n      <td>2010-07-03 10:58:00</td>\n      <td>ZZF3O2KG</td>\n      <td>NaN</td>\n      <td>NaN</td>\n      <td>NaN</td>\n      <td>...</td>\n      <td>NaN</td>\n      <td>NaN</td>\n      <td>NaN</td>\n      <td>NaN</td>\n      <td>NaN</td>\n      <td>NaN</td>\n      <td>NaN</td>\n      <td>NaN</td>\n      <td>NaN</td>\n      <td>NaN</td>\n    </tr>\n    <tr>\n      <th>296290</th>\n      <td>ZZF3O2KG_20100629</td>\n      <td>2010-07-05 11:00:00</td>\n      <td>11.5</td>\n      <td>262.0</td>\n      <td>0</td>\n      <td>2010-07-03 10:58:00</td>\n      <td>ZZF3O2KG</td>\n      <td>NaN</td>\n      <td>NaN</td>\n      <td>NaN</td>\n      <td>...</td>\n      <td>NaN</td>\n      <td>NaN</td>\n      <td>NaN</td>\n      <td>NaN</td>\n      <td>NaN</td>\n      <td>NaN</td>\n      <td>NaN</td>\n      <td>NaN</td>\n      <td>NaN</td>\n      <td>NaN</td>\n    </tr>\n    <tr>\n      <th>296291</th>\n      <td>ZZF3O2KG_20100629</td>\n      <td>2010-07-05 12:00:00</td>\n      <td>12.0</td>\n      <td>268.0</td>\n      <td>0</td>\n      <td>2010-07-05 12:28:00</td>\n      <td>ZZF3O2KG</td>\n      <td>NaN</td>\n      <td>NaN</td>\n      <td>NaN</td>\n      <td>...</td>\n      <td>NaN</td>\n      <td>NaN</td>\n      <td>NaN</td>\n      <td>NaN</td>\n      <td>NaN</td>\n      <td>NaN</td>\n      <td>NaN</td>\n      <td>NaN</td>\n      <td>NaN</td>\n      <td>NaN</td>\n    </tr>\n  </tbody>\n</table>\n<p>296292 rows × 23 columns</p>\n</div>"
     },
     "metadata": {},
     "execution_count": 22
    }
   ],
   "source": [
    "\n",
    "valid_blood_nl = pd.merge(valid_blood_cbc_nl, valid_blood_chem_nl, how = 'left', \\\n",
    "on = ['patient_id', 'adjusted_time'])\n",
    "\n",
    "blood_properties = ['WBC Count', 'Platelet Count', 'Hgb','BUN', 'Creatinin', 'Glucose', \n",
    "                'Sodium', 'Potassium', 'Chloride', 'Total protein', 'Total bilirubin',\n",
    "                'Albumin', 'CRP','Total calcium', 'Lactate', 'Alkaline phosphatase',\n",
    "                'AST', 'ALT']\n",
    "valid_blood_nl"
   ]
  },
  {
   "cell_type": "code",
   "execution_count": 23,
   "metadata": {},
   "outputs": [],
   "source": [
    "\n",
    "valid_blood['adjusted_time'] = pd.to_datetime(valid_blood['adjusted_time'])\n",
    "\n",
    "\n"
   ]
  },
  {
   "cell_type": "code",
   "execution_count": 24,
   "metadata": {},
   "outputs": [],
   "source": [
    "# merge blood data into valid_data\n",
    "valid_data = get_merge_data(valid_data, valid_blood)\n"
   ]
  },
  {
   "cell_type": "code",
   "execution_count": 25,
   "metadata": {},
   "outputs": [],
   "source": [
    "valid_data = valid_data.rename(columns = {\n",
    "    'patient_id': 'Patient'\n",
    "})\n",
    "valid_data['is_abn'] = 1\n",
    "\n"
   ]
  },
  {
   "cell_type": "code",
   "execution_count": 26,
   "metadata": {},
   "outputs": [],
   "source": [
    "valid_data.to_csv(os.path.join(dp.valid_path, 'valid_add_merge.csv'), index = False)\n",
    "\n"
   ]
  },
  {
   "cell_type": "code",
   "execution_count": 27,
   "metadata": {},
   "outputs": [],
   "source": [
    "window_len = 8\n",
    "\n",
    "var_list = list(set(valid_data.columns)\n",
    "                - set([ 'Patient', 'adjusted_time', 'detection_time', 'measurement_time', 'event_time', 'target', 'is_abn']) )"
   ]
  },
  {
   "cell_type": "code",
   "execution_count": 30,
   "metadata": {},
   "outputs": [
    {
     "output_type": "execute_result",
     "data": {
      "text/plain": [
       "['AST',\n",
       " 'BUN',\n",
       " 'Total protein',\n",
       " 'Total bilirubin',\n",
       " 'Hgb',\n",
       " 'HR',\n",
       " 'RR',\n",
       " 'Alkaline phosphatase',\n",
       " 'TS',\n",
       " 'Sodium',\n",
       " 'Total calcium',\n",
       " 'platelet',\n",
       " 'Creatinin',\n",
       " 'CRP',\n",
       " 'Glucose',\n",
       " 'WBC Count',\n",
       " 'BT',\n",
       " 'SaO2',\n",
       " 'ALT',\n",
       " 'Lactate',\n",
       " 'Albumin',\n",
       " 'SBP',\n",
       " 'Gender',\n",
       " 'Potassium',\n",
       " 'Chloride',\n",
       " 'Age']"
      ]
     },
     "metadata": {},
     "execution_count": 30
    }
   ],
   "source": [
    "var_list"
   ]
  },
  {
   "cell_type": "code",
   "execution_count": 31,
   "metadata": {},
   "outputs": [],
   "source": [
    "valid_blood_nl['adjusted_time'] = pd.to_datetime(valid_blood_nl['adjusted_time'])\n",
    "valid_nl['adjusted_time'] = pd.to_datetime(valid_nl['adjusted_time'])\n",
    "\n",
    "# merge blood data into valid_data\n",
    "valid_data_nl = get_merge_data(valid_nl, valid_blood_nl)\n",
    " "
   ]
  },
  {
   "cell_type": "code",
   "execution_count": 32,
   "metadata": {},
   "outputs": [],
   "source": [
    "valid_data_nl = valid_data_nl.drop(['measurement_time_y', 'patient_x', 'patient_y'], axis = 1)\n",
    "valid_data_nl = valid_data_nl.rename(columns={\n",
    "    'measurement_time_x': 'measurement_time'\n",
    "})"
   ]
  },
  {
   "cell_type": "code",
   "execution_count": 33,
   "metadata": {},
   "outputs": [
    {
     "output_type": "execute_result",
     "data": {
      "text/plain": [
       "Index(['patient_id', 'adjusted_time', 'measurement_time', 'HR', 'RR', 'SBP',\n",
       "       'SaO2', 'BT', 'Gender', 'target', 'TS', 'Age', 'Hgb', 'platelet',\n",
       "       'WBC Count', 'ALT', 'AST', 'Albumin', 'Alkaline phosphatase', 'BUN',\n",
       "       'CRP', 'Chloride', 'Creatinin', 'Glucose', 'Lactate', 'Potassium',\n",
       "       'Sodium', 'Total bilirubin', 'Total calcium', 'Total protein'],\n",
       "      dtype='object')"
      ]
     },
     "metadata": {},
     "execution_count": 33
    }
   ],
   "source": [
    "valid_data_nl.columns"
   ]
  },
  {
   "cell_type": "code",
   "execution_count": 34,
   "metadata": {},
   "outputs": [],
   "source": [
    "valid_data_nl = valid_data_nl.rename(columns = {\n",
    "    'patient_id': 'Patient'\n",
    "})\n",
    "valid_data_nl['is_abn'] = 0\n",
    "\n",
    "#valid_data_nl.to_csv(os.path.join(dp.valid_path, 'valid_nl_merge.csv'), index = False)\n"
   ]
  },
  {
   "cell_type": "code",
   "execution_count": 35,
   "metadata": {},
   "outputs": [
    {
     "output_type": "execute_result",
     "data": {
      "text/plain": [
       "['AST',\n",
       " 'BUN',\n",
       " 'Total protein',\n",
       " 'Total bilirubin',\n",
       " 'Hgb',\n",
       " 'HR',\n",
       " 'RR',\n",
       " 'Alkaline phosphatase',\n",
       " 'TS',\n",
       " 'Sodium',\n",
       " 'Total calcium',\n",
       " 'platelet',\n",
       " 'Creatinin',\n",
       " 'CRP',\n",
       " 'Glucose',\n",
       " 'WBC Count',\n",
       " 'BT',\n",
       " 'SaO2',\n",
       " 'ALT',\n",
       " 'Lactate',\n",
       " 'Albumin',\n",
       " 'SBP',\n",
       " 'Gender',\n",
       " 'Potassium',\n",
       " 'Chloride',\n",
       " 'Age']"
      ]
     },
     "metadata": {},
     "execution_count": 35
    }
   ],
   "source": [
    "var_list"
   ]
  },
  {
   "cell_type": "code",
   "execution_count": 40,
   "metadata": {},
   "outputs": [
    {
     "output_type": "execute_result",
     "data": {
      "text/plain": [
       "26"
      ]
     },
     "metadata": {},
     "execution_count": 40
    }
   ],
   "source": [
    "len(var_list)"
   ]
  },
  {
   "cell_type": "code",
   "execution_count": 36,
   "metadata": {},
   "outputs": [
    {
     "output_type": "execute_result",
     "data": {
      "text/plain": [
       "       patient_id    measurement_time       adjusted_time     HR    RR    SBP  \\\n",
       "0        A1YFM8RK 2016-12-14 17:00:00 2016-12-14 17:00:00   72.0  18.0  134.5   \n",
       "1        A1YFM8RK 2016-12-14 18:00:00 2016-12-14 18:00:00   62.0  18.0  135.0   \n",
       "2        A1YFM8RK 2016-12-14 19:00:00 2016-12-14 19:00:00   62.0  22.0  123.0   \n",
       "3        A1YFM8RK 2016-12-14 20:00:00 2016-12-14 20:00:00   64.0  19.0  118.0   \n",
       "4        A1YFM8RK 2016-12-14 21:00:00 2016-12-14 21:00:00   69.0  14.0  120.0   \n",
       "...           ...                 ...                 ...    ...   ...    ...   \n",
       "476325   ZYEBEIQI 2014-06-17 20:00:00 2014-06-17 13:00:00  103.0  22.0  106.0   \n",
       "476326   ZYEBEIQI 2014-06-17 21:00:00 2014-06-17 13:00:00  103.0  22.0  106.0   \n",
       "476327   ZYEBEIQI 2014-06-17 22:00:00 2014-06-17 13:00:00  103.0  22.0  106.0   \n",
       "476328   ZYEBEIQI 2014-06-17 23:00:00 2014-06-17 13:00:00  103.0  22.0  106.0   \n",
       "476329   ZYEBEIQI 2014-06-18 00:00:00 2014-06-18 00:00:00   95.0  28.0  106.0   \n",
       "\n",
       "         SaO2    BT  Gender  target   TS  Age  \n",
       "0        99.0  36.6       1       0    1   47  \n",
       "1        99.0  37.0       1       0    2   47  \n",
       "2       100.0  37.1       1       0    3   47  \n",
       "3       100.0  36.9       1       0    4   47  \n",
       "4       100.0  36.6       1       0    5   47  \n",
       "...       ...   ...     ...     ...  ...  ...  \n",
       "476325   98.0  36.4       1       0  168   44  \n",
       "476326   98.0  36.4       1       0  169   44  \n",
       "476327   98.0  36.4       1       0  170   44  \n",
       "476328   98.0  36.4       1       0  171   44  \n",
       "476329   93.0  37.5       1       0  172   44  \n",
       "\n",
       "[476330 rows x 12 columns]"
      ],
      "text/html": "<div>\n<style scoped>\n    .dataframe tbody tr th:only-of-type {\n        vertical-align: middle;\n    }\n\n    .dataframe tbody tr th {\n        vertical-align: top;\n    }\n\n    .dataframe thead th {\n        text-align: right;\n    }\n</style>\n<table border=\"1\" class=\"dataframe\">\n  <thead>\n    <tr style=\"text-align: right;\">\n      <th></th>\n      <th>patient_id</th>\n      <th>measurement_time</th>\n      <th>adjusted_time</th>\n      <th>HR</th>\n      <th>RR</th>\n      <th>SBP</th>\n      <th>SaO2</th>\n      <th>BT</th>\n      <th>Gender</th>\n      <th>target</th>\n      <th>TS</th>\n      <th>Age</th>\n    </tr>\n  </thead>\n  <tbody>\n    <tr>\n      <th>0</th>\n      <td>A1YFM8RK</td>\n      <td>2016-12-14 17:00:00</td>\n      <td>2016-12-14 17:00:00</td>\n      <td>72.0</td>\n      <td>18.0</td>\n      <td>134.5</td>\n      <td>99.0</td>\n      <td>36.6</td>\n      <td>1</td>\n      <td>0</td>\n      <td>1</td>\n      <td>47</td>\n    </tr>\n    <tr>\n      <th>1</th>\n      <td>A1YFM8RK</td>\n      <td>2016-12-14 18:00:00</td>\n      <td>2016-12-14 18:00:00</td>\n      <td>62.0</td>\n      <td>18.0</td>\n      <td>135.0</td>\n      <td>99.0</td>\n      <td>37.0</td>\n      <td>1</td>\n      <td>0</td>\n      <td>2</td>\n      <td>47</td>\n    </tr>\n    <tr>\n      <th>2</th>\n      <td>A1YFM8RK</td>\n      <td>2016-12-14 19:00:00</td>\n      <td>2016-12-14 19:00:00</td>\n      <td>62.0</td>\n      <td>22.0</td>\n      <td>123.0</td>\n      <td>100.0</td>\n      <td>37.1</td>\n      <td>1</td>\n      <td>0</td>\n      <td>3</td>\n      <td>47</td>\n    </tr>\n    <tr>\n      <th>3</th>\n      <td>A1YFM8RK</td>\n      <td>2016-12-14 20:00:00</td>\n      <td>2016-12-14 20:00:00</td>\n      <td>64.0</td>\n      <td>19.0</td>\n      <td>118.0</td>\n      <td>100.0</td>\n      <td>36.9</td>\n      <td>1</td>\n      <td>0</td>\n      <td>4</td>\n      <td>47</td>\n    </tr>\n    <tr>\n      <th>4</th>\n      <td>A1YFM8RK</td>\n      <td>2016-12-14 21:00:00</td>\n      <td>2016-12-14 21:00:00</td>\n      <td>69.0</td>\n      <td>14.0</td>\n      <td>120.0</td>\n      <td>100.0</td>\n      <td>36.6</td>\n      <td>1</td>\n      <td>0</td>\n      <td>5</td>\n      <td>47</td>\n    </tr>\n    <tr>\n      <th>...</th>\n      <td>...</td>\n      <td>...</td>\n      <td>...</td>\n      <td>...</td>\n      <td>...</td>\n      <td>...</td>\n      <td>...</td>\n      <td>...</td>\n      <td>...</td>\n      <td>...</td>\n      <td>...</td>\n      <td>...</td>\n    </tr>\n    <tr>\n      <th>476325</th>\n      <td>ZYEBEIQI</td>\n      <td>2014-06-17 20:00:00</td>\n      <td>2014-06-17 13:00:00</td>\n      <td>103.0</td>\n      <td>22.0</td>\n      <td>106.0</td>\n      <td>98.0</td>\n      <td>36.4</td>\n      <td>1</td>\n      <td>0</td>\n      <td>168</td>\n      <td>44</td>\n    </tr>\n    <tr>\n      <th>476326</th>\n      <td>ZYEBEIQI</td>\n      <td>2014-06-17 21:00:00</td>\n      <td>2014-06-17 13:00:00</td>\n      <td>103.0</td>\n      <td>22.0</td>\n      <td>106.0</td>\n      <td>98.0</td>\n      <td>36.4</td>\n      <td>1</td>\n      <td>0</td>\n      <td>169</td>\n      <td>44</td>\n    </tr>\n    <tr>\n      <th>476327</th>\n      <td>ZYEBEIQI</td>\n      <td>2014-06-17 22:00:00</td>\n      <td>2014-06-17 13:00:00</td>\n      <td>103.0</td>\n      <td>22.0</td>\n      <td>106.0</td>\n      <td>98.0</td>\n      <td>36.4</td>\n      <td>1</td>\n      <td>0</td>\n      <td>170</td>\n      <td>44</td>\n    </tr>\n    <tr>\n      <th>476328</th>\n      <td>ZYEBEIQI</td>\n      <td>2014-06-17 23:00:00</td>\n      <td>2014-06-17 13:00:00</td>\n      <td>103.0</td>\n      <td>22.0</td>\n      <td>106.0</td>\n      <td>98.0</td>\n      <td>36.4</td>\n      <td>1</td>\n      <td>0</td>\n      <td>171</td>\n      <td>44</td>\n    </tr>\n    <tr>\n      <th>476329</th>\n      <td>ZYEBEIQI</td>\n      <td>2014-06-18 00:00:00</td>\n      <td>2014-06-18 00:00:00</td>\n      <td>95.0</td>\n      <td>28.0</td>\n      <td>106.0</td>\n      <td>93.0</td>\n      <td>37.5</td>\n      <td>1</td>\n      <td>0</td>\n      <td>172</td>\n      <td>44</td>\n    </tr>\n  </tbody>\n</table>\n<p>476330 rows × 12 columns</p>\n</div>"
     },
     "metadata": {},
     "execution_count": 36
    }
   ],
   "source": [
    "valid_nl"
   ]
  },
  {
   "cell_type": "code",
   "execution_count": 37,
   "metadata": {},
   "outputs": [],
   "source": [
    "valid_data_nl['detection_time']= np.nan #valid_data_nl['measurement_time']\n",
    "valid_data_nl['event_time']= np.nan #valid_data_nl['measurement_time']\n"
   ]
  },
  {
   "cell_type": "code",
   "execution_count": 41,
   "metadata": {},
   "outputs": [
    {
     "output_type": "stream",
     "name": "stdout",
     "text": [
      "총 환자수: 238\n",
      "Window 크기: 8\n",
      "-------------------- Making Data --------------------\n",
      "=> 100번 째 환자\n",
      "==> 200번 째 환자\n",
      "-------------------- Done --------------------\n"
     ]
    }
   ],
   "source": [
    "var_list = list(set(valid_data.columns)\n",
    "                - set([ 'Patient', 'adjusted_time', 'detection_time', 'measurement_time', 'event_time', 'target', 'is_abn']) )\n",
    "\n"
   ]
  },
  {
   "cell_type": "code",
   "execution_count": 42,
   "metadata": {},
   "outputs": [],
   "source": [
    "valid_data = valid_data[((valid_data.detection_time.dt.day - valid_data.measurement_time.dt.day) < 5)]\n"
   ]
  },
  {
   "cell_type": "code",
   "execution_count": 43,
   "metadata": {},
   "outputs": [
    {
     "output_type": "execute_result",
     "data": {
      "text/plain": [
       "0.0    18792\n",
       "1.0     3520\n",
       "Name: target, dtype: int64"
      ]
     },
     "metadata": {},
     "execution_count": 43
    }
   ],
   "source": [
    "valid_data.target.value_counts()"
   ]
  },
  {
   "cell_type": "code",
   "execution_count": 44,
   "metadata": {},
   "outputs": [
    {
     "output_type": "stream",
     "name": "stdout",
     "text": [
      "총 환자수: 230\n",
      "Window 크기: 8\n",
      "-------------------- Making Data --------------------\n",
      "=> 100번 째 환자\n",
      "==> 200번 째 환자\n",
      "-------------------- Done --------------------\n"
     ]
    }
   ],
   "source": [
    "valid_seq_data = make_sequence_data(valid_data, window_len = window_len, var_list = var_list, index = 'Patient')\n"
   ]
  },
  {
   "cell_type": "code",
   "execution_count": 43,
   "metadata": {},
   "outputs": [
    {
     "output_type": "execute_result",
     "data": {
      "text/plain": [
       "['Sodium',\n",
       " 'SBP',\n",
       " 'HR',\n",
       " 'Gender',\n",
       " 'Glucose',\n",
       " 'Lactate',\n",
       " 'Total bilirubin',\n",
       " 'AST',\n",
       " 'SaO2',\n",
       " 'Alkaline phosphatase',\n",
       " 'platelet',\n",
       " 'BT',\n",
       " 'Creatinin',\n",
       " 'Age',\n",
       " 'TS',\n",
       " 'Total calcium',\n",
       " 'ALT',\n",
       " 'Hgb',\n",
       " 'RR',\n",
       " 'Chloride',\n",
       " 'WBC Count',\n",
       " 'Potassium',\n",
       " 'BUN',\n",
       " 'Total protein',\n",
       " 'Albumin',\n",
       " 'CRP']"
      ]
     },
     "metadata": {},
     "execution_count": 43
    }
   ],
   "source": [
    "var_list"
   ]
  },
  {
   "cell_type": "code",
   "execution_count": 45,
   "metadata": {},
   "outputs": [],
   "source": [
    "valid_data_nl = valid_data_nl.groupby('Patient', as_index = False).tail(36)"
   ]
  },
  {
   "cell_type": "code",
   "execution_count": 48,
   "metadata": {},
   "outputs": [],
   "source": [
    "window_len = 8\n",
    "\n",
    "var_list = list(set(valid_data_nl.columns)\n",
    "                - set([ 'Patient', 'adjusted_time', 'detection_time', 'measurement_time', 'event_time', 'target', 'is_abn']) )"
   ]
  },
  {
   "cell_type": "code",
   "execution_count": 49,
   "metadata": {},
   "outputs": [
    {
     "output_type": "execute_result",
     "data": {
      "text/plain": [
       "26"
      ]
     },
     "metadata": {},
     "execution_count": 49
    }
   ],
   "source": [
    "len(var_list)"
   ]
  },
  {
   "cell_type": "code",
   "execution_count": 50,
   "metadata": {},
   "outputs": [
    {
     "output_type": "stream",
     "name": "stdout",
     "text": [
      "총 환자수: 597\n",
      "Window 크기: 8\n",
      "-------------------- Making Data --------------------\n",
      "=> 100번 째 환자\n",
      "==> 200번 째 환자\n",
      "===> 300번 째 환자\n",
      "====> 400번 째 환자\n",
      "=====> 500번 째 환자\n",
      "-------------------- Done --------------------\n"
     ]
    }
   ],
   "source": [
    "valid_seq_data_nl = make_sequence_data(valid_data_nl, window_len = window_len, var_list = var_list, index = 'Patient')"
   ]
  },
  {
   "cell_type": "code",
   "execution_count": 52,
   "metadata": {},
   "outputs": [],
   "source": [
    "valid_seq = pd.concat([valid_seq_data, valid_seq_data_nl])"
   ]
  },
  {
   "cell_type": "code",
   "execution_count": 53,
   "metadata": {},
   "outputs": [],
   "source": [
    "path = os.path.join(dp.valid_path, 'valid_add_seq.pickle')\n",
    "with open(path, 'wb') as f:\n",
    "    pickle.dump(valid_seq, f)"
   ]
  },
  {
   "cell_type": "code",
   "execution_count": 54,
   "metadata": {},
   "outputs": [
    {
     "output_type": "stream",
     "name": "stdout",
     "text": [
      "column_name_multi:  ['AST-7', 'BUN-7', 'Total protein-7', 'Total bilirubin-7', 'Hgb-7', 'HR-7', 'RR-7', 'Alkaline phosphatase-7', 'TS-7', 'Sodium-7', 'Total calcium-7', 'platelet-7', 'Creatinin-7', 'CRP-7', 'Glucose-7', 'WBC Count-7', 'BT-7', 'SaO2-7', 'ALT-7', 'Lactate-7', 'Albumin-7', 'SBP-7', 'Gender-7', 'Potassium-7', 'Chloride-7', 'Age-7', 'AST-6', 'BUN-6', 'Total protein-6', 'Total bilirubin-6', 'Hgb-6', 'HR-6', 'RR-6', 'Alkaline phosphatase-6', 'TS-6', 'Sodium-6', 'Total calcium-6', 'platelet-6', 'Creatinin-6', 'CRP-6', 'Glucose-6', 'WBC Count-6', 'BT-6', 'SaO2-6', 'ALT-6', 'Lactate-6', 'Albumin-6', 'SBP-6', 'Gender-6', 'Potassium-6', 'Chloride-6', 'Age-6', 'AST-5', 'BUN-5', 'Total protein-5', 'Total bilirubin-5', 'Hgb-5', 'HR-5', 'RR-5', 'Alkaline phosphatase-5', 'TS-5', 'Sodium-5', 'Total calcium-5', 'platelet-5', 'Creatinin-5', 'CRP-5', 'Glucose-5', 'WBC Count-5', 'BT-5', 'SaO2-5', 'ALT-5', 'Lactate-5', 'Albumin-5', 'SBP-5', 'Gender-5', 'Potassium-5', 'Chloride-5', 'Age-5', 'AST-4', 'BUN-4', 'Total protein-4', 'Total bilirubin-4', 'Hgb-4', 'HR-4', 'RR-4', 'Alkaline phosphatase-4', 'TS-4', 'Sodium-4', 'Total calcium-4', 'platelet-4', 'Creatinin-4', 'CRP-4', 'Glucose-4', 'WBC Count-4', 'BT-4', 'SaO2-4', 'ALT-4', 'Lactate-4', 'Albumin-4', 'SBP-4', 'Gender-4', 'Potassium-4', 'Chloride-4', 'Age-4', 'AST-3', 'BUN-3', 'Total protein-3', 'Total bilirubin-3', 'Hgb-3', 'HR-3', 'RR-3', 'Alkaline phosphatase-3', 'TS-3', 'Sodium-3', 'Total calcium-3', 'platelet-3', 'Creatinin-3', 'CRP-3', 'Glucose-3', 'WBC Count-3', 'BT-3', 'SaO2-3', 'ALT-3', 'Lactate-3', 'Albumin-3', 'SBP-3', 'Gender-3', 'Potassium-3', 'Chloride-3', 'Age-3', 'AST-2', 'BUN-2', 'Total protein-2', 'Total bilirubin-2', 'Hgb-2', 'HR-2', 'RR-2', 'Alkaline phosphatase-2', 'TS-2', 'Sodium-2', 'Total calcium-2', 'platelet-2', 'Creatinin-2', 'CRP-2', 'Glucose-2', 'WBC Count-2', 'BT-2', 'SaO2-2', 'ALT-2', 'Lactate-2', 'Albumin-2', 'SBP-2', 'Gender-2', 'Potassium-2', 'Chloride-2', 'Age-2', 'AST-1', 'BUN-1', 'Total protein-1', 'Total bilirubin-1', 'Hgb-1', 'HR-1', 'RR-1', 'Alkaline phosphatase-1', 'TS-1', 'Sodium-1', 'Total calcium-1', 'platelet-1', 'Creatinin-1', 'CRP-1', 'Glucose-1', 'WBC Count-1', 'BT-1', 'SaO2-1', 'ALT-1', 'Lactate-1', 'Albumin-1', 'SBP-1', 'Gender-1', 'Potassium-1', 'Chloride-1', 'Age-1', 'AST0', 'BUN0', 'Total protein0', 'Total bilirubin0', 'Hgb0', 'HR0', 'RR0', 'Alkaline phosphatase0', 'TS0', 'Sodium0', 'Total calcium0', 'platelet0', 'Creatinin0', 'CRP0', 'Glucose0', 'WBC Count0', 'BT0', 'SaO20', 'ALT0', 'Lactate0', 'Albumin0', 'SBP0', 'Gender0', 'Potassium0', 'Chloride0', 'Age0']\n",
      "drop list:  ['Gender-7', 'Age-7', 'TS-7', 'Gender-6', 'Age-6', 'TS-6', 'Gender-5', 'Age-5', 'TS-5', 'Gender-4', 'Age-4', 'TS-4', 'Gender-3', 'Age-3', 'TS-3', 'Gender-2', 'Age-2', 'TS-2', 'Gender-1', 'Age-1', 'TS-1']\n",
      "make 2D time data\n",
      "Saved pickle:  /data/datasets/rrs-data/10yrs_refined_data/valid_add_final.pickle\n",
      "Done.\n"
     ]
    }
   ],
   "source": [
    "res_data = make_2d_data(valid_seq, var_list, \\\n",
    "    output_path = dp.valid_path, output_file = 'valid_add_final.csv')"
   ]
  },
  {
   "cell_type": "code",
   "execution_count": 1,
   "outputs": [
    {
     "name": "stderr",
     "output_type": "stream",
     "text": [
      "/home/nghia/anaconda3/envs/pytorch/lib/python3.7/site-packages/IPython/core/interactiveshell.py:3166: DtypeWarning: Columns (443,444) have mixed types.Specify dtype option on import or set low_memory=False.\n",
      "  interactivity=interactivity, compiler=compiler, result=result)\n"
     ]
    },
    {
     "data": {
      "text/plain": "       AST-7  BUN-7  Total protein-7  Total bilirubin-7  Hgb-7   HR-7  RR-7  \\\n0        NaN    NaN              NaN                NaN    NaN  103.0  24.0   \n1        NaN    NaN              NaN                NaN    NaN   91.0  19.0   \n2        NaN    NaN              NaN                NaN   13.6  118.0  19.0   \n3        NaN    NaN              NaN                NaN   13.6  120.0  21.0   \n4        NaN    NaN              NaN                NaN   13.6  112.0  22.0   \n...      ...    ...              ...                ...    ...    ...   ...   \n37187    NaN    NaN              NaN                NaN    8.2   99.0  29.0   \n37188    NaN    NaN              NaN                NaN    8.2  103.0  22.0   \n37189    NaN    NaN              NaN                NaN    8.2  103.0  22.0   \n37190    NaN    NaN              NaN                NaN    8.2  103.0  22.0   \n37191    NaN    NaN              NaN                NaN    8.2  103.0  22.0   \n\n       Alkaline phosphatase-7  Sodium-7  Total calcium-7  ...  RoC_Chloride-5  \\\n0                         NaN       NaN              NaN  ...             NaN   \n1                         NaN       NaN              NaN  ...             NaN   \n2                         NaN       NaN              NaN  ...             NaN   \n3                         NaN       NaN              NaN  ...             NaN   \n4                         NaN       NaN              NaN  ...             NaN   \n...                       ...       ...              ...  ...             ...   \n37187                     NaN       NaN              NaN  ...             NaN   \n37188                     NaN       NaN              NaN  ...             NaN   \n37189                     NaN       NaN              NaN  ...             NaN   \n37190                     NaN       NaN              NaN  ...             NaN   \n37191                     NaN       NaN              NaN  ...             NaN   \n\n       RoC_Chloride-4  RoC_Chloride-3  RoC_Chloride-2  RoC_Chloride-1  target  \\\n0                 NaN             NaN             NaN             NaN     1.0   \n1                 NaN             NaN             NaN             NaN     1.0   \n2                 NaN             NaN             NaN             NaN     0.0   \n3                 NaN             NaN             NaN             NaN     0.0   \n4                 NaN             NaN             NaN             NaN     0.0   \n...               ...             ...             ...             ...     ...   \n37187             NaN             NaN             NaN             NaN     0.0   \n37188             NaN             NaN             NaN             NaN     0.0   \n37189             NaN             NaN             NaN             NaN     0.0   \n37190             NaN             NaN             NaN             NaN     0.0   \n37191             NaN             NaN             NaN             NaN     0.0   \n\n        Patient     measurement_time       detection_time           event_time  \n0      ABG1W8Y6  2009-09-28 12:00:00  2009-09-28 06:00:00  2009-09-28 21:02:00  \n1      ABG1W8Y6  2009-09-28 13:00:00  2009-09-28 06:00:00  2009-09-28 21:02:00  \n2      ARIMNPWE  2009-02-17 20:00:00  2009-03-04 09:50:00  2009-03-04 12:32:00  \n3      ARIMNPWE  2009-02-17 21:00:00  2009-03-04 09:50:00  2009-03-04 12:32:00  \n4      ARIMNPWE  2009-02-17 22:00:00  2009-03-04 09:50:00  2009-03-04 12:32:00  \n...         ...                  ...                  ...                  ...  \n37187  ZYEBEIQI  2014-06-17 12:00:00                  NaN                  NaN  \n37188  ZYEBEIQI  2014-06-17 13:00:00                  NaN                  NaN  \n37189  ZYEBEIQI  2014-06-17 13:00:00                  NaN                  NaN  \n37190  ZYEBEIQI  2014-06-17 13:00:00                  NaN                  NaN  \n37191  ZYEBEIQI  2014-06-17 13:00:00                  NaN                  NaN  \n\n[37192 rows x 445 columns]",
      "text/html": "<div>\n<style scoped>\n    .dataframe tbody tr th:only-of-type {\n        vertical-align: middle;\n    }\n\n    .dataframe tbody tr th {\n        vertical-align: top;\n    }\n\n    .dataframe thead th {\n        text-align: right;\n    }\n</style>\n<table border=\"1\" class=\"dataframe\">\n  <thead>\n    <tr style=\"text-align: right;\">\n      <th></th>\n      <th>AST-7</th>\n      <th>BUN-7</th>\n      <th>Total protein-7</th>\n      <th>Total bilirubin-7</th>\n      <th>Hgb-7</th>\n      <th>HR-7</th>\n      <th>RR-7</th>\n      <th>Alkaline phosphatase-7</th>\n      <th>Sodium-7</th>\n      <th>Total calcium-7</th>\n      <th>...</th>\n      <th>RoC_Chloride-5</th>\n      <th>RoC_Chloride-4</th>\n      <th>RoC_Chloride-3</th>\n      <th>RoC_Chloride-2</th>\n      <th>RoC_Chloride-1</th>\n      <th>target</th>\n      <th>Patient</th>\n      <th>measurement_time</th>\n      <th>detection_time</th>\n      <th>event_time</th>\n    </tr>\n  </thead>\n  <tbody>\n    <tr>\n      <th>0</th>\n      <td>NaN</td>\n      <td>NaN</td>\n      <td>NaN</td>\n      <td>NaN</td>\n      <td>NaN</td>\n      <td>103.0</td>\n      <td>24.0</td>\n      <td>NaN</td>\n      <td>NaN</td>\n      <td>NaN</td>\n      <td>...</td>\n      <td>NaN</td>\n      <td>NaN</td>\n      <td>NaN</td>\n      <td>NaN</td>\n      <td>NaN</td>\n      <td>1.0</td>\n      <td>ABG1W8Y6</td>\n      <td>2009-09-28 12:00:00</td>\n      <td>2009-09-28 06:00:00</td>\n      <td>2009-09-28 21:02:00</td>\n    </tr>\n    <tr>\n      <th>1</th>\n      <td>NaN</td>\n      <td>NaN</td>\n      <td>NaN</td>\n      <td>NaN</td>\n      <td>NaN</td>\n      <td>91.0</td>\n      <td>19.0</td>\n      <td>NaN</td>\n      <td>NaN</td>\n      <td>NaN</td>\n      <td>...</td>\n      <td>NaN</td>\n      <td>NaN</td>\n      <td>NaN</td>\n      <td>NaN</td>\n      <td>NaN</td>\n      <td>1.0</td>\n      <td>ABG1W8Y6</td>\n      <td>2009-09-28 13:00:00</td>\n      <td>2009-09-28 06:00:00</td>\n      <td>2009-09-28 21:02:00</td>\n    </tr>\n    <tr>\n      <th>2</th>\n      <td>NaN</td>\n      <td>NaN</td>\n      <td>NaN</td>\n      <td>NaN</td>\n      <td>13.6</td>\n      <td>118.0</td>\n      <td>19.0</td>\n      <td>NaN</td>\n      <td>NaN</td>\n      <td>NaN</td>\n      <td>...</td>\n      <td>NaN</td>\n      <td>NaN</td>\n      <td>NaN</td>\n      <td>NaN</td>\n      <td>NaN</td>\n      <td>0.0</td>\n      <td>ARIMNPWE</td>\n      <td>2009-02-17 20:00:00</td>\n      <td>2009-03-04 09:50:00</td>\n      <td>2009-03-04 12:32:00</td>\n    </tr>\n    <tr>\n      <th>3</th>\n      <td>NaN</td>\n      <td>NaN</td>\n      <td>NaN</td>\n      <td>NaN</td>\n      <td>13.6</td>\n      <td>120.0</td>\n      <td>21.0</td>\n      <td>NaN</td>\n      <td>NaN</td>\n      <td>NaN</td>\n      <td>...</td>\n      <td>NaN</td>\n      <td>NaN</td>\n      <td>NaN</td>\n      <td>NaN</td>\n      <td>NaN</td>\n      <td>0.0</td>\n      <td>ARIMNPWE</td>\n      <td>2009-02-17 21:00:00</td>\n      <td>2009-03-04 09:50:00</td>\n      <td>2009-03-04 12:32:00</td>\n    </tr>\n    <tr>\n      <th>4</th>\n      <td>NaN</td>\n      <td>NaN</td>\n      <td>NaN</td>\n      <td>NaN</td>\n      <td>13.6</td>\n      <td>112.0</td>\n      <td>22.0</td>\n      <td>NaN</td>\n      <td>NaN</td>\n      <td>NaN</td>\n      <td>...</td>\n      <td>NaN</td>\n      <td>NaN</td>\n      <td>NaN</td>\n      <td>NaN</td>\n      <td>NaN</td>\n      <td>0.0</td>\n      <td>ARIMNPWE</td>\n      <td>2009-02-17 22:00:00</td>\n      <td>2009-03-04 09:50:00</td>\n      <td>2009-03-04 12:32:00</td>\n    </tr>\n    <tr>\n      <th>...</th>\n      <td>...</td>\n      <td>...</td>\n      <td>...</td>\n      <td>...</td>\n      <td>...</td>\n      <td>...</td>\n      <td>...</td>\n      <td>...</td>\n      <td>...</td>\n      <td>...</td>\n      <td>...</td>\n      <td>...</td>\n      <td>...</td>\n      <td>...</td>\n      <td>...</td>\n      <td>...</td>\n      <td>...</td>\n      <td>...</td>\n      <td>...</td>\n      <td>...</td>\n      <td>...</td>\n    </tr>\n    <tr>\n      <th>37187</th>\n      <td>NaN</td>\n      <td>NaN</td>\n      <td>NaN</td>\n      <td>NaN</td>\n      <td>8.2</td>\n      <td>99.0</td>\n      <td>29.0</td>\n      <td>NaN</td>\n      <td>NaN</td>\n      <td>NaN</td>\n      <td>...</td>\n      <td>NaN</td>\n      <td>NaN</td>\n      <td>NaN</td>\n      <td>NaN</td>\n      <td>NaN</td>\n      <td>0.0</td>\n      <td>ZYEBEIQI</td>\n      <td>2014-06-17 12:00:00</td>\n      <td>NaN</td>\n      <td>NaN</td>\n    </tr>\n    <tr>\n      <th>37188</th>\n      <td>NaN</td>\n      <td>NaN</td>\n      <td>NaN</td>\n      <td>NaN</td>\n      <td>8.2</td>\n      <td>103.0</td>\n      <td>22.0</td>\n      <td>NaN</td>\n      <td>NaN</td>\n      <td>NaN</td>\n      <td>...</td>\n      <td>NaN</td>\n      <td>NaN</td>\n      <td>NaN</td>\n      <td>NaN</td>\n      <td>NaN</td>\n      <td>0.0</td>\n      <td>ZYEBEIQI</td>\n      <td>2014-06-17 13:00:00</td>\n      <td>NaN</td>\n      <td>NaN</td>\n    </tr>\n    <tr>\n      <th>37189</th>\n      <td>NaN</td>\n      <td>NaN</td>\n      <td>NaN</td>\n      <td>NaN</td>\n      <td>8.2</td>\n      <td>103.0</td>\n      <td>22.0</td>\n      <td>NaN</td>\n      <td>NaN</td>\n      <td>NaN</td>\n      <td>...</td>\n      <td>NaN</td>\n      <td>NaN</td>\n      <td>NaN</td>\n      <td>NaN</td>\n      <td>NaN</td>\n      <td>0.0</td>\n      <td>ZYEBEIQI</td>\n      <td>2014-06-17 13:00:00</td>\n      <td>NaN</td>\n      <td>NaN</td>\n    </tr>\n    <tr>\n      <th>37190</th>\n      <td>NaN</td>\n      <td>NaN</td>\n      <td>NaN</td>\n      <td>NaN</td>\n      <td>8.2</td>\n      <td>103.0</td>\n      <td>22.0</td>\n      <td>NaN</td>\n      <td>NaN</td>\n      <td>NaN</td>\n      <td>...</td>\n      <td>NaN</td>\n      <td>NaN</td>\n      <td>NaN</td>\n      <td>NaN</td>\n      <td>NaN</td>\n      <td>0.0</td>\n      <td>ZYEBEIQI</td>\n      <td>2014-06-17 13:00:00</td>\n      <td>NaN</td>\n      <td>NaN</td>\n    </tr>\n    <tr>\n      <th>37191</th>\n      <td>NaN</td>\n      <td>NaN</td>\n      <td>NaN</td>\n      <td>NaN</td>\n      <td>8.2</td>\n      <td>103.0</td>\n      <td>22.0</td>\n      <td>NaN</td>\n      <td>NaN</td>\n      <td>NaN</td>\n      <td>...</td>\n      <td>NaN</td>\n      <td>NaN</td>\n      <td>NaN</td>\n      <td>NaN</td>\n      <td>NaN</td>\n      <td>0.0</td>\n      <td>ZYEBEIQI</td>\n      <td>2014-06-17 13:00:00</td>\n      <td>NaN</td>\n      <td>NaN</td>\n    </tr>\n  </tbody>\n</table>\n<p>37192 rows × 445 columns</p>\n</div>"
     },
     "execution_count": 1,
     "metadata": {},
     "output_type": "execute_result"
    }
   ],
   "source": [
    "import pandas as pd\n",
    "valid_final = pd.read_csv('/media/nghia/Nguyen NghiaW/RRS-2021/20210322_RRS/RRS/10yrs_refined_data/valid_add_final.csv')\n",
    "valid_final"
   ],
   "metadata": {
    "collapsed": false,
    "pycharm": {
     "name": "#%%\n"
    }
   }
  },
  {
   "cell_type": "code",
   "execution_count": 2,
   "outputs": [
    {
     "data": {
      "text/plain": "       AST-7  BUN-7  Total protein-7  Total bilirubin-7  Hgb-7   HR-7  RR-7  \\\n0        NaN    NaN              NaN                NaN    NaN  103.0  24.0   \n1        NaN    NaN              NaN                NaN    NaN   91.0  19.0   \n2        NaN    NaN              NaN                NaN   13.6  118.0  19.0   \n3        NaN    NaN              NaN                NaN   13.6  120.0  21.0   \n4        NaN    NaN              NaN                NaN   13.6  112.0  22.0   \n...      ...    ...              ...                ...    ...    ...   ...   \n37187    NaN    NaN              NaN                NaN    8.2   99.0  29.0   \n37188    NaN    NaN              NaN                NaN    8.2  103.0  22.0   \n37189    NaN    NaN              NaN                NaN    8.2  103.0  22.0   \n37190    NaN    NaN              NaN                NaN    8.2  103.0  22.0   \n37191    NaN    NaN              NaN                NaN    8.2  103.0  22.0   \n\n       Alkaline phosphatase-7  Sodium-7  Total calcium-7  ...  RoC_Chloride-5  \\\n0                         NaN       NaN              NaN  ...             NaN   \n1                         NaN       NaN              NaN  ...             NaN   \n2                         NaN       NaN              NaN  ...             NaN   \n3                         NaN       NaN              NaN  ...             NaN   \n4                         NaN       NaN              NaN  ...             NaN   \n...                       ...       ...              ...  ...             ...   \n37187                     NaN       NaN              NaN  ...             NaN   \n37188                     NaN       NaN              NaN  ...             NaN   \n37189                     NaN       NaN              NaN  ...             NaN   \n37190                     NaN       NaN              NaN  ...             NaN   \n37191                     NaN       NaN              NaN  ...             NaN   \n\n       RoC_Chloride-4  RoC_Chloride-3  RoC_Chloride-2  RoC_Chloride-1  target  \\\n0                 NaN             NaN             NaN             NaN     1.0   \n1                 NaN             NaN             NaN             NaN     1.0   \n2                 NaN             NaN             NaN             NaN     0.0   \n3                 NaN             NaN             NaN             NaN     0.0   \n4                 NaN             NaN             NaN             NaN     0.0   \n...               ...             ...             ...             ...     ...   \n37187             NaN             NaN             NaN             NaN     0.0   \n37188             NaN             NaN             NaN             NaN     0.0   \n37189             NaN             NaN             NaN             NaN     0.0   \n37190             NaN             NaN             NaN             NaN     0.0   \n37191             NaN             NaN             NaN             NaN     0.0   \n\n        Patient    measurement_time      detection_time          event_time  \n0      ABG1W8Y6 2009-09-28 12:00:00 2009-09-28 06:00:00 2009-09-28 21:02:00  \n1      ABG1W8Y6 2009-09-28 13:00:00 2009-09-28 06:00:00 2009-09-28 21:02:00  \n2      ARIMNPWE 2009-02-17 20:00:00 2009-03-04 09:50:00 2009-03-04 12:32:00  \n3      ARIMNPWE 2009-02-17 21:00:00 2009-03-04 09:50:00 2009-03-04 12:32:00  \n4      ARIMNPWE 2009-02-17 22:00:00 2009-03-04 09:50:00 2009-03-04 12:32:00  \n...         ...                 ...                 ...                 ...  \n37187  ZYEBEIQI 2014-06-17 12:00:00                 NaT                 NaT  \n37188  ZYEBEIQI 2014-06-17 13:00:00                 NaT                 NaT  \n37189  ZYEBEIQI 2014-06-17 13:00:00                 NaT                 NaT  \n37190  ZYEBEIQI 2014-06-17 13:00:00                 NaT                 NaT  \n37191  ZYEBEIQI 2014-06-17 13:00:00                 NaT                 NaT  \n\n[37192 rows x 445 columns]",
      "text/html": "<div>\n<style scoped>\n    .dataframe tbody tr th:only-of-type {\n        vertical-align: middle;\n    }\n\n    .dataframe tbody tr th {\n        vertical-align: top;\n    }\n\n    .dataframe thead th {\n        text-align: right;\n    }\n</style>\n<table border=\"1\" class=\"dataframe\">\n  <thead>\n    <tr style=\"text-align: right;\">\n      <th></th>\n      <th>AST-7</th>\n      <th>BUN-7</th>\n      <th>Total protein-7</th>\n      <th>Total bilirubin-7</th>\n      <th>Hgb-7</th>\n      <th>HR-7</th>\n      <th>RR-7</th>\n      <th>Alkaline phosphatase-7</th>\n      <th>Sodium-7</th>\n      <th>Total calcium-7</th>\n      <th>...</th>\n      <th>RoC_Chloride-5</th>\n      <th>RoC_Chloride-4</th>\n      <th>RoC_Chloride-3</th>\n      <th>RoC_Chloride-2</th>\n      <th>RoC_Chloride-1</th>\n      <th>target</th>\n      <th>Patient</th>\n      <th>measurement_time</th>\n      <th>detection_time</th>\n      <th>event_time</th>\n    </tr>\n  </thead>\n  <tbody>\n    <tr>\n      <th>0</th>\n      <td>NaN</td>\n      <td>NaN</td>\n      <td>NaN</td>\n      <td>NaN</td>\n      <td>NaN</td>\n      <td>103.0</td>\n      <td>24.0</td>\n      <td>NaN</td>\n      <td>NaN</td>\n      <td>NaN</td>\n      <td>...</td>\n      <td>NaN</td>\n      <td>NaN</td>\n      <td>NaN</td>\n      <td>NaN</td>\n      <td>NaN</td>\n      <td>1.0</td>\n      <td>ABG1W8Y6</td>\n      <td>2009-09-28 12:00:00</td>\n      <td>2009-09-28 06:00:00</td>\n      <td>2009-09-28 21:02:00</td>\n    </tr>\n    <tr>\n      <th>1</th>\n      <td>NaN</td>\n      <td>NaN</td>\n      <td>NaN</td>\n      <td>NaN</td>\n      <td>NaN</td>\n      <td>91.0</td>\n      <td>19.0</td>\n      <td>NaN</td>\n      <td>NaN</td>\n      <td>NaN</td>\n      <td>...</td>\n      <td>NaN</td>\n      <td>NaN</td>\n      <td>NaN</td>\n      <td>NaN</td>\n      <td>NaN</td>\n      <td>1.0</td>\n      <td>ABG1W8Y6</td>\n      <td>2009-09-28 13:00:00</td>\n      <td>2009-09-28 06:00:00</td>\n      <td>2009-09-28 21:02:00</td>\n    </tr>\n    <tr>\n      <th>2</th>\n      <td>NaN</td>\n      <td>NaN</td>\n      <td>NaN</td>\n      <td>NaN</td>\n      <td>13.6</td>\n      <td>118.0</td>\n      <td>19.0</td>\n      <td>NaN</td>\n      <td>NaN</td>\n      <td>NaN</td>\n      <td>...</td>\n      <td>NaN</td>\n      <td>NaN</td>\n      <td>NaN</td>\n      <td>NaN</td>\n      <td>NaN</td>\n      <td>0.0</td>\n      <td>ARIMNPWE</td>\n      <td>2009-02-17 20:00:00</td>\n      <td>2009-03-04 09:50:00</td>\n      <td>2009-03-04 12:32:00</td>\n    </tr>\n    <tr>\n      <th>3</th>\n      <td>NaN</td>\n      <td>NaN</td>\n      <td>NaN</td>\n      <td>NaN</td>\n      <td>13.6</td>\n      <td>120.0</td>\n      <td>21.0</td>\n      <td>NaN</td>\n      <td>NaN</td>\n      <td>NaN</td>\n      <td>...</td>\n      <td>NaN</td>\n      <td>NaN</td>\n      <td>NaN</td>\n      <td>NaN</td>\n      <td>NaN</td>\n      <td>0.0</td>\n      <td>ARIMNPWE</td>\n      <td>2009-02-17 21:00:00</td>\n      <td>2009-03-04 09:50:00</td>\n      <td>2009-03-04 12:32:00</td>\n    </tr>\n    <tr>\n      <th>4</th>\n      <td>NaN</td>\n      <td>NaN</td>\n      <td>NaN</td>\n      <td>NaN</td>\n      <td>13.6</td>\n      <td>112.0</td>\n      <td>22.0</td>\n      <td>NaN</td>\n      <td>NaN</td>\n      <td>NaN</td>\n      <td>...</td>\n      <td>NaN</td>\n      <td>NaN</td>\n      <td>NaN</td>\n      <td>NaN</td>\n      <td>NaN</td>\n      <td>0.0</td>\n      <td>ARIMNPWE</td>\n      <td>2009-02-17 22:00:00</td>\n      <td>2009-03-04 09:50:00</td>\n      <td>2009-03-04 12:32:00</td>\n    </tr>\n    <tr>\n      <th>...</th>\n      <td>...</td>\n      <td>...</td>\n      <td>...</td>\n      <td>...</td>\n      <td>...</td>\n      <td>...</td>\n      <td>...</td>\n      <td>...</td>\n      <td>...</td>\n      <td>...</td>\n      <td>...</td>\n      <td>...</td>\n      <td>...</td>\n      <td>...</td>\n      <td>...</td>\n      <td>...</td>\n      <td>...</td>\n      <td>...</td>\n      <td>...</td>\n      <td>...</td>\n      <td>...</td>\n    </tr>\n    <tr>\n      <th>37187</th>\n      <td>NaN</td>\n      <td>NaN</td>\n      <td>NaN</td>\n      <td>NaN</td>\n      <td>8.2</td>\n      <td>99.0</td>\n      <td>29.0</td>\n      <td>NaN</td>\n      <td>NaN</td>\n      <td>NaN</td>\n      <td>...</td>\n      <td>NaN</td>\n      <td>NaN</td>\n      <td>NaN</td>\n      <td>NaN</td>\n      <td>NaN</td>\n      <td>0.0</td>\n      <td>ZYEBEIQI</td>\n      <td>2014-06-17 12:00:00</td>\n      <td>NaT</td>\n      <td>NaT</td>\n    </tr>\n    <tr>\n      <th>37188</th>\n      <td>NaN</td>\n      <td>NaN</td>\n      <td>NaN</td>\n      <td>NaN</td>\n      <td>8.2</td>\n      <td>103.0</td>\n      <td>22.0</td>\n      <td>NaN</td>\n      <td>NaN</td>\n      <td>NaN</td>\n      <td>...</td>\n      <td>NaN</td>\n      <td>NaN</td>\n      <td>NaN</td>\n      <td>NaN</td>\n      <td>NaN</td>\n      <td>0.0</td>\n      <td>ZYEBEIQI</td>\n      <td>2014-06-17 13:00:00</td>\n      <td>NaT</td>\n      <td>NaT</td>\n    </tr>\n    <tr>\n      <th>37189</th>\n      <td>NaN</td>\n      <td>NaN</td>\n      <td>NaN</td>\n      <td>NaN</td>\n      <td>8.2</td>\n      <td>103.0</td>\n      <td>22.0</td>\n      <td>NaN</td>\n      <td>NaN</td>\n      <td>NaN</td>\n      <td>...</td>\n      <td>NaN</td>\n      <td>NaN</td>\n      <td>NaN</td>\n      <td>NaN</td>\n      <td>NaN</td>\n      <td>0.0</td>\n      <td>ZYEBEIQI</td>\n      <td>2014-06-17 13:00:00</td>\n      <td>NaT</td>\n      <td>NaT</td>\n    </tr>\n    <tr>\n      <th>37190</th>\n      <td>NaN</td>\n      <td>NaN</td>\n      <td>NaN</td>\n      <td>NaN</td>\n      <td>8.2</td>\n      <td>103.0</td>\n      <td>22.0</td>\n      <td>NaN</td>\n      <td>NaN</td>\n      <td>NaN</td>\n      <td>...</td>\n      <td>NaN</td>\n      <td>NaN</td>\n      <td>NaN</td>\n      <td>NaN</td>\n      <td>NaN</td>\n      <td>0.0</td>\n      <td>ZYEBEIQI</td>\n      <td>2014-06-17 13:00:00</td>\n      <td>NaT</td>\n      <td>NaT</td>\n    </tr>\n    <tr>\n      <th>37191</th>\n      <td>NaN</td>\n      <td>NaN</td>\n      <td>NaN</td>\n      <td>NaN</td>\n      <td>8.2</td>\n      <td>103.0</td>\n      <td>22.0</td>\n      <td>NaN</td>\n      <td>NaN</td>\n      <td>NaN</td>\n      <td>...</td>\n      <td>NaN</td>\n      <td>NaN</td>\n      <td>NaN</td>\n      <td>NaN</td>\n      <td>NaN</td>\n      <td>0.0</td>\n      <td>ZYEBEIQI</td>\n      <td>2014-06-17 13:00:00</td>\n      <td>NaT</td>\n      <td>NaT</td>\n    </tr>\n  </tbody>\n</table>\n<p>37192 rows × 445 columns</p>\n</div>"
     },
     "execution_count": 2,
     "metadata": {},
     "output_type": "execute_result"
    }
   ],
   "source": [
    "import pickle\n",
    "valid_f = pickle.load(open('/media/nghia/Nguyen NghiaW/RRS-2021/20210322_RRS/RRS/10yrs_refined_data/valid_add_final.pickle', 'rb'))\n",
    "valid_f"
   ],
   "metadata": {
    "collapsed": false,
    "pycharm": {
     "name": "#%%\n"
    }
   }
  },
  {
   "cell_type": "code",
   "execution_count": 5,
   "outputs": [
    {
     "ename": "ModuleNotFoundError",
     "evalue": "No module named 'mews'",
     "output_type": "error",
     "traceback": [
      "\u001B[0;31m---------------------------------------------------------------------------\u001B[0m",
      "\u001B[0;31mModuleNotFoundError\u001B[0m                       Traceback (most recent call last)",
      "\u001B[0;32m/tmp/ipykernel_769925/2030667126.py\u001B[0m in \u001B[0;36m<module>\u001B[0;34m\u001B[0m\n\u001B[1;32m     21\u001B[0m \u001B[0;34m\u001B[0m\u001B[0m\n\u001B[1;32m     22\u001B[0m \u001B[0;31m#from rrs_kit.DataClass import DataPath, VarSet\u001B[0m\u001B[0;34m\u001B[0m\u001B[0;34m\u001B[0m\u001B[0;34m\u001B[0m\u001B[0m\n\u001B[0;32m---> 23\u001B[0;31m \u001B[0;32mimport\u001B[0m \u001B[0mmews\u001B[0m\u001B[0;34m\u001B[0m\u001B[0;34m\u001B[0m\u001B[0m\n\u001B[0m\u001B[1;32m     24\u001B[0m \u001B[0;32mfrom\u001B[0m \u001B[0mmews\u001B[0m \u001B[0;32mimport\u001B[0m \u001B[0mload_modeling_data\u001B[0m\u001B[0;34m\u001B[0m\u001B[0;34m\u001B[0m\u001B[0m\n\u001B[1;32m     25\u001B[0m \u001B[0;34m\u001B[0m\u001B[0m\n",
      "\u001B[0;31mModuleNotFoundError\u001B[0m: No module named 'mews'"
     ]
    }
   ],
   "source": [
    "import os\n",
    "import pandas as pd\n",
    "import numpy as np\n",
    "import pickle\n",
    "\n",
    "from sklearn.preprocessing import MinMaxScaler\n",
    "from sklearn.model_selection import train_test_split\n",
    "\n",
    "import torch\n",
    "import torch.nn as nn\n",
    "\n",
    "import tensorflow as tf\n",
    "from tensorflow.keras.models import model_from_json\n",
    "from tensorflow.keras.preprocessing.sequence import pad_sequences\n",
    "from tensorflow.keras.models import Sequential\n",
    "from tensorflow.keras import layers\n",
    "from tensorflow.keras.layers import Flatten, Dense, Embedding\n",
    "from tensorflow.keras.optimizers import RMSprop\n",
    "from tensorflow.keras import metrics\n",
    "from tensorflow.keras.callbacks import Callback, EarlyStopping\n",
    "\n",
    "#from rrs_kit.DataClass import DataPath, VarSet\n",
    "import mews\n",
    "from mews import load_modeling_data"
   ],
   "metadata": {
    "collapsed": false,
    "pycharm": {
     "name": "#%%\n"
    }
   }
  },
  {
   "cell_type": "code",
   "execution_count": null,
   "outputs": [],
   "source": [],
   "metadata": {
    "collapsed": false,
    "pycharm": {
     "name": "#%%\n"
    }
   }
  }
 ]
}